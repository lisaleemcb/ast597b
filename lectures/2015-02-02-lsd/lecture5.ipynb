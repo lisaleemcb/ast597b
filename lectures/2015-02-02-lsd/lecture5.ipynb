{
 "metadata": {
  "name": "",
  "signature": "sha256:0d837b3c71d6279de645f4134f8c1332655cd6fb1225e9f0135eec731c7665c0"
 },
 "nbformat": 3,
 "nbformat_minor": 0,
 "worksheets": [
  {
   "cells": [
    {
     "cell_type": "markdown",
     "metadata": {},
     "source": [
      "# The Large Survey Database\n",
      "\n",
      "The Large Survey Database (LSD) is an open-source NoSQL (but still SQL-ish) framework for storing, cross-matching, querying, and rapidly iterating through large astronomical survey datasets (catalogs of $>10^9$ rows, >1 TB) on multi-core machines.\n",
      "\n",
      "The documentation for LSD is at http://lsddb.org"
     ]
    },
    {
     "cell_type": "heading",
     "level": 2,
     "metadata": {},
     "source": [
      "Installing the Large Survey Database (LSD)"
     ]
    },
    {
     "cell_type": "markdown",
     "metadata": {},
     "source": [
      "### Important!!!\n",
      "\n",
      "I will install LSD on a remote machine called lsst-dev.ncsa.illinois.edu, in a directory `/ssd/mjuric/lsd`. The catalog data will reside in `/lssd/mjuric/db`.\n",
      "\n",
      "If you're trying to execute this notebook, you'll have to adjust these paths."
     ]
    },
    {
     "cell_type": "code",
     "collapsed": false,
     "input": [
      "%cd /ssd/mjuric"
     ],
     "language": "python",
     "metadata": {},
     "outputs": [
      {
       "output_type": "stream",
       "stream": "stdout",
       "text": [
        "/ssd/mjuric\n"
       ]
      }
     ],
     "prompt_number": 1
    },
    {
     "cell_type": "markdown",
     "metadata": {},
     "source": [
      "### Installing LSD with Anaconda\n",
      "\n",
      "If you're using the Anaconda Python Distribution, then I recommend you use a simplified installation script to get LSD up and running:"
     ]
    },
    {
     "cell_type": "code",
     "collapsed": false,
     "input": [
      "! wget  -N -nv http://research.majuric.org/lsd-setup/scripts/go.sh"
     ],
     "language": "python",
     "metadata": {},
     "outputs": [],
     "prompt_number": 2
    },
    {
     "cell_type": "markdown",
     "metadata": {},
     "source": [
      "The `go.sh` script is designed to be interactive and ask two questions:\n",
      "1. where to install LSD, and\n",
      "2. should it proceed to build it once all files have been downloaded.\n",
      "\n",
      "The incantation below answers these two questions from within IPython. There's no need to run the `echo ...` part if you're running from the command line."
     ]
    },
    {
     "cell_type": "code",
     "collapsed": false,
     "input": [
      "! echo -e \"/ssd/mjuric/lsd\\nyes\\n\" | bash go.sh"
     ],
     "language": "python",
     "metadata": {},
     "outputs": [
      {
       "output_type": "stream",
       "stream": "stdout",
       "text": [
        "\r\n",
        "Large Survey Database Automated Installer\r\n",
        "=========================================\r\n",
        "\r\n",
        "This script will download and prepare an installation of a sandboxed\r\n",
        "instance of the Large Survey Database.  The downloaded packages include most\r\n",
        "LSD prerequisites, such as Python 2.7, lapack, ipython, numpy, scipy and\r\n",
        "matplotlib among others.  Your system only needs to provide the basic gcc\r\n",
        "toolchain (gcc, g++ and gfortran), as well as gtk+2.0 header files (if you\r\n",
        "want to use interactive plotting with matplotlib).  These are usually\r\n",
        "installed by default on many RedHat setups (including derivatives like\r\n",
        "CentOS, Scientific Linux, etc.).\r\n",
        "\r\n",
        "Contact Mario Juric <mjuric@cfa.harvard.edu> if you encounter problems.\r\n",
        "\r\n",
        "LSD environment destination directory (default: /lsst/home/mjuric/lsd): \r\n"
       ]
      },
      {
       "output_type": "stream",
       "stream": "stdout",
       "text": [
        "Downloading zlib-1.2.5 ... "
       ]
      },
      {
       "output_type": "stream",
       "stream": "stdout",
       "text": [
        "OK.\r\n",
        "Downloading pcre-8.12 ... "
       ]
      },
      {
       "output_type": "stream",
       "stream": "stdout",
       "text": [
        "OK.\r\n",
        "Downloading swig-2.0.4 ... "
       ]
      },
      {
       "output_type": "stream",
       "stream": "stdout",
       "text": [
        "OK.\r\n",
        "Downloading ann_1.1.2-mjuric ... "
       ]
      },
      {
       "output_type": "stream",
       "stream": "stdout",
       "text": [
        "OK.\r\n",
        "Downloading scikits.ann-0.2.dev-r803-mjuric-3 ... "
       ]
      },
      {
       "output_type": "stream",
       "stream": "stdout",
       "text": [
        "OK.\r\n",
        "Downloading scottransom-pyslalib-97cfc40 ... "
       ]
      },
      {
       "output_type": "stream",
       "stream": "stdout",
       "text": [
        "OK.\r\n",
        "Downloading Polygon-2.0.2-mjuric-3 ... "
       ]
      },
      {
       "output_type": "stream",
       "stream": "stdout",
       "text": [
        "OK.\r\n",
        "Downloading urlgrabber-3.9.1 ... "
       ]
      },
      {
       "output_type": "stream",
       "stream": "stdout",
       "text": [
        "OK.\r\n",
        "Downloading lsd-v0.6.0 from GitHub ... "
       ]
      },
      {
       "output_type": "stream",
       "stream": "stdout",
       "text": [
        "OK.\r\n",
        "...\r\n",
        "All source packages downloaded.\r\n",
        "\r\n",
        "Should I go ahead and build everything ([yes]/no)? "
       ]
      },
      {
       "output_type": "stream",
       "stream": "stdout",
       "text": [
        "Building zlib-1.2.5 ... "
       ]
      },
      {
       "output_type": "stream",
       "stream": "stdout",
       "text": [
        "done.\r\n",
        "Building pcre-8.12 ... "
       ]
      },
      {
       "output_type": "stream",
       "stream": "stdout",
       "text": [
        "done.\r\n",
        "Building swig-2.0.4 ... "
       ]
      },
      {
       "output_type": "stream",
       "stream": "stdout",
       "text": [
        "done.\r\n",
        "Building ann_1.1.2-mjuric ... "
       ]
      },
      {
       "output_type": "stream",
       "stream": "stdout",
       "text": [
        "done.\r\n",
        "Building scikits.ann-0.2.dev-r803-mjuric-3 ... "
       ]
      },
      {
       "output_type": "stream",
       "stream": "stdout",
       "text": [
        "done.\r\n",
        "Building scottransom-pyslalib-97cfc40 ... "
       ]
      },
      {
       "output_type": "stream",
       "stream": "stdout",
       "text": [
        "done.\r\n"
       ]
      },
      {
       "output_type": "stream",
       "stream": "stdout",
       "text": [
        "Building Polygon-2.0.2-mjuric-3 ... "
       ]
      },
      {
       "output_type": "stream",
       "stream": "stdout",
       "text": [
        "done.\r\n",
        "Building urlgrabber-3.9.1 ... "
       ]
      },
      {
       "output_type": "stream",
       "stream": "stdout",
       "text": [
        "done.\r\n",
        "Building lsd-v0.6.0 ... "
       ]
      },
      {
       "output_type": "stream",
       "stream": "stdout",
       "text": [
        "done.\r\n",
        "...\r\n"
       ]
      },
      {
       "output_type": "stream",
       "stream": "stdout",
       "text": [
        "Congratulations, you have successfully built LSD. Source the following shell\r\n",
        "scripts:\r\n",
        "\r\n",
        "\tsource /ssd/mjuric/lsd/environment.sh\r\n",
        "\tsource /ssd/mjuric/lsd/lsd_environment.sh\r\n",
        "\r\n",
        "to set up the paths (and in that order). Having done that, run:\r\n",
        "\r\n",
        "\tlsd-query --version\r\n",
        "\r\n",
        "to verify everything went well.\r\n",
        "\r\n"
       ]
      }
     ],
     "prompt_number": 3
    },
    {
     "cell_type": "markdown",
     "metadata": {},
     "source": [
      "Now create the directory where we will store our LSD database tables (catalogs):"
     ]
    },
    {
     "cell_type": "code",
     "collapsed": false,
     "input": [
      "! mkdir /ssd/mjuric/db"
     ],
     "language": "python",
     "metadata": {},
     "outputs": [],
     "prompt_number": 4
    },
    {
     "cell_type": "markdown",
     "metadata": {},
     "source": [
      "In the next step, we will point the environmental variable LSD_DB to this directory. This is how LSD command line utilities know how to find your databases."
     ]
    },
    {
     "cell_type": "heading",
     "level": 3,
     "metadata": {},
     "source": [
      "Important: set up the environment and restart the notebook server"
     ]
    },
    {
     "cell_type": "markdown",
     "metadata": {},
     "source": [
      "At this point, you neet to shut down this notebook server, source the two environment files listed above, and then continue the execution. For example:\n",
      "```\n",
      "lsst-dev$ source /ssd/mjuric/lsd/environment.sh\n",
      "lsst-dev$ source /ssd/mjuric/lsd/lsd_environment.sh\n",
      "\n",
      "lsst-dev$ export LSD_DB=/ssd/mjuric/db\n",
      "\n",
      "lsst-dev$ lsd-query --version\n",
      "Large Survey Database, version\n",
      "\n",
      "lsst-dev$ ipython notebook --profile nbserver\n",
      "```"
     ]
    },
    {
     "cell_type": "code",
     "collapsed": false,
     "input": [
      "! lsd-query --version"
     ],
     "language": "python",
     "metadata": {},
     "outputs": [
      {
       "output_type": "stream",
       "stream": "stdout",
       "text": [
        "Large Survey Database, version \r\n"
       ]
      }
     ],
     "prompt_number": 5
    },
    {
     "cell_type": "code",
     "collapsed": false,
     "input": [
      "! echo $LSD_DB"
     ],
     "language": "python",
     "metadata": {},
     "outputs": [
      {
       "output_type": "stream",
       "stream": "stdout",
       "text": [
        "/ssd/mjuric/db\r\n"
       ]
      }
     ],
     "prompt_number": 6
    },
    {
     "cell_type": "code",
     "collapsed": false,
     "input": [
      "! ls -l $LSD_DB"
     ],
     "language": "python",
     "metadata": {},
     "outputs": [
      {
       "output_type": "stream",
       "stream": "stdout",
       "text": [
        "total 0\r\n"
       ]
      }
     ],
     "prompt_number": 7
    },
    {
     "cell_type": "heading",
     "level": 2,
     "metadata": {},
     "source": [
      "Obtaining catalogs"
     ]
    },
    {
     "cell_type": "heading",
     "level": 3,
     "metadata": {},
     "source": [
      "Creating tables and importing catalogs"
     ]
    },
    {
     "cell_type": "markdown",
     "metadata": {},
     "source": [
      "The command line utility to use to create and manage LSD tables is called `lsd-admin`."
     ]
    },
    {
     "cell_type": "code",
     "collapsed": false,
     "input": [
      "! lsd-admin -h"
     ],
     "language": "python",
     "metadata": {},
     "outputs": [
      {
       "output_type": "stream",
       "stream": "stdout",
       "text": [
        "usage: lsd-admin [-h] [--db DB] {create,desc,drop,vacuum,remote} ...\r\n",
        "\r\n",
        "Administer an LSD databases\r\n",
        "\r\n",
        "positional arguments:\r\n",
        "  {create,desc,drop,vacuum,remote}\r\n",
        "    create              Create objects in the database\r\n",
        "    desc                Show info about tables and other objects in the database\r\n",
        "    drop                Delete database tables and objects\r\n",
        "    vacuum              Reclaim unused/wasted database space\r\n",
        "    remote              Administer remote database access\r\n",
        "\r\n",
        "optional arguments:\r\n",
        "  -h, --help            show this help message and exit\r\n",
        "  --db DB               Path to LSD database\r\n",
        "\r\n",
        "Examples:\r\n",
        "\tlsd-admin create table ....\r\n",
        ".\r\n"
       ]
      }
     ],
     "prompt_number": 8
    },
    {
     "cell_type": "code",
     "collapsed": false,
     "input": [
      "! lsd-admin create -h"
     ],
     "language": "python",
     "metadata": {},
     "outputs": [
      {
       "output_type": "stream",
       "stream": "stdout",
       "text": [
        "usage: lsd-admin create [-h] {table} ...\r\n",
        "\r\n",
        "positional arguments:\r\n",
        "  {table}\r\n",
        "    table     Create a table\r\n",
        "\r\n",
        "optional arguments:\r\n",
        "  -h, --help  show this help message and exit\r\n"
       ]
      }
     ],
     "prompt_number": 9
    },
    {
     "cell_type": "code",
     "collapsed": false,
     "input": [
      "! lsd-admin create table -h"
     ],
     "language": "python",
     "metadata": {},
     "outputs": [
      {
       "output_type": "stream",
       "stream": "stdout",
       "text": [
        "usage: lsd-admin create table [-h] [--primary-key PRIMARY_KEY] [--spatial-keys SPATIAL_KEYS] [--temporal-key TEMPORAL_KEY]\r\n",
        "                              [--exposure-key EXPOSURE_KEY] [--no-neighbor-cache NO_NEIGHBOR_CACHE] [--schema-module SCHEMA_MODULE]\r\n",
        "                              [--schema SCHEMA] [--comp {blosc,zlib,none}] [--comp-level COMP_LEVEL] [--group GROUP] [--drop-existing]\r\n",
        "                              table [column_def [column_def ...]]\r\n",
        "\r\n",
        "positional arguments:\r\n",
        "  table                 Name of the table to create\r\n",
        "  column_def            A column definition, in the form of NAME:TYPE, where TYPE is a string that will be passed to np.dtype\r\n",
        "\r\n",
        "optional arguments:\r\n",
        "  -h, --help            show this help message and exit\r\n",
        "  --primary-key PRIMARY_KEY\r\n",
        "                        Primary key\r\n",
        "  --spatial-keys SPATIAL_KEYS\r\n",
        "                        Spatial keys\r\n",
        "  --temporal-key TEMPORAL_KEY\r\n",
        "                        Temporal key\r\n",
        "  --exposure-key EXPOSURE_KEY\r\n",
        "                        Exposure key\r\n",
        "  --no-neighbor-cache NO_NEIGHBOR_CACHE\r\n",
        "                        No neighbor caches will be built for this table (note: use only if you _really_ know what you're doing\r\n",
        "  --schema-module SCHEMA_MODULE\r\n",
        "                        The module defining the table schema, in top-level variable named \"schema\"\r\n",
        "  --schema SCHEMA       A file containing the table schema in YAML format\r\n",
        "  --comp {blosc,zlib,none}\r\n",
        "                        Compression type\r\n",
        "  --comp-level COMP_LEVEL\r\n",
        "                        Compression level. Higher levels result in better compression ratios, at the expense of increased CPU usage\r\n",
        "  --group GROUP         cgroup:col1,col2,col3,... The column group name, followed by the list of columns to be located in this column group\r\n",
        "  --drop-existing       Drop the table if it already exists\r\n"
       ]
      }
     ],
     "prompt_number": 10
    },
    {
     "cell_type": "markdown",
     "metadata": {},
     "source": [
      "#### Table schemas\n",
      "\n",
      "The structure of an LSD table (the columns it has, their data type and their meaning) is written in a human-readable format called YAML (Yet Another Markup Language; http://yaml.org).\n",
      "\n",
      "A few examples are distributed with the LSD source:"
     ]
    },
    {
     "cell_type": "code",
     "collapsed": false,
     "input": [
      "! find /ssd/mjuric/lsd -name \"*.yaml\""
     ],
     "language": "python",
     "metadata": {},
     "outputs": [
      {
       "output_type": "stream",
       "stream": "stdout",
       "text": [
        "/ssd/mjuric/lsd/opt/lsd/lsd-v0.6.0/share/lsd/schemas/usnob.yaml\r\n",
        "/ssd/mjuric/lsd/opt/lsd/lsd-v0.6.0/share/lsd/schemas/galex.yaml\r\n"
       ]
      }
     ],
     "prompt_number": 11
    },
    {
     "cell_type": "code",
     "collapsed": false,
     "input": [
      "! ls -l /ssd/mjuric/lsd/opt/lsd/lsd-v0.6.0/share/lsd/schemas"
     ],
     "language": "python",
     "metadata": {},
     "outputs": [
      {
       "output_type": "stream",
       "stream": "stdout",
       "text": [
        "total 12\r\n",
        "-rw-rw-r-- 1 mjuric lsst 1375 Jan 25 22:20 galex.map\r\n",
        "-rw-rw-r-- 1 mjuric lsst 1560 Jan 25 22:20 galex.yaml\r\n",
        "-rw-rw-r-- 1 mjuric lsst  493 Jan 25 22:20 usnob.yaml\r\n"
       ]
      }
     ],
     "prompt_number": 12
    },
    {
     "cell_type": "code",
     "collapsed": false,
     "input": [
      "! cat /ssd/mjuric/lsd/opt/lsd/lsd-v0.6.0/share/lsd/schemas/galex.yaml"
     ],
     "language": "python",
     "metadata": {},
     "outputs": [
      {
       "output_type": "stream",
       "stream": "stdout",
       "text": [
        "# Schema for GALEX GR5 table\r\n",
        "filters: {complevel: 5, complib: blosc}\r\n",
        "schema:\r\n",
        "  common:\r\n",
        "    primary_key: galex_id\r\n",
        "    spatial_keys: [ra, dec]\r\n",
        "    columns:\r\n",
        "    - [galex_id, u8]\r\n",
        "    - [objid, u8]\r\n",
        "    - [ra, f8]\r\n",
        "    - [dec, f8]\r\n",
        "    - [glon, f8]\r\n",
        "    - [glat, f8]\r\n",
        "    - [fov_radius, f4]\r\n",
        "    - [objtype, i2]\r\n",
        "    - [e_bv, f4]\r\n",
        "    - [fuv_mag, f4]\r\n",
        "    - [fuv_magerr, f4]\r\n",
        "    - [nuv_mag, f4]\r\n",
        "    - [nuv_magerr, f4]\r\n",
        "    - [photoextractid, u8]\r\n",
        "  astrometry:\r\n",
        "    columns:\r\n",
        "    - [fuv_x_image, f4]\r\n",
        "    - [fuv_y_image, f4]\r\n",
        "    - [nuv_x_image, f4]\r\n",
        "    - [nuv_y_image, f4]\r\n",
        "    - [fuv_fwhm_image, f4]\r\n",
        "    - [nuv_fwhm_image, f4]\r\n",
        "    - [fuv_fwhm_world, f4]\r\n",
        "    - [nuv_fwhm_world, f4]\r\n",
        "  photoextra:\r\n",
        "    columns:\r\n",
        "    - [fuv_mag_best, f4]\r\n",
        "    - [fuv_magerr_best, f4]\r\n",
        "    - [nuv_mag_best, f4]\r\n",
        "    - [nuv_magerr_best, f4]\r\n",
        "    - [fuv_mag_auto, f4]\r\n",
        "    - [fuv_magerr_auto, f4]\r\n",
        "    - [nuv_mag_auto, f4]\r\n",
        "    - [nuv_magerr_auto, f4]\r\n",
        "    - [fuv_mag_aper_4, f4]\r\n",
        "    - [fuv_magerr_aper_4, f4]\r\n",
        "    - [nuv_mag_aper_4, f4]\r\n",
        "    - [nuv_magerr_aper_4, f4]\r\n",
        "    - [fuv_mag_aper_6, f4]\r\n",
        "    - [fuv_magerr_aper_6, f4]\r\n",
        "    - [nuv_mag_aper_6, f4]\r\n",
        "    - [nuv_magerr_aper_6, f4]\r\n",
        "    - [fuv_artifact, f4]\r\n",
        "    - [nuv_artifact, f4]\r\n",
        "    - [fuv_flags, f4]\r\n",
        "    - [nuv_flags, f4]\r\n",
        "    - [fuv_flux, f4]\r\n",
        "    - [fuv_fluxerr, f4]\r\n",
        "    - [nuv_flux, f4]\r\n",
        "    - [nuv_fluxerr, f4]\r\n",
        "  survey:\r\n",
        "    exposure_key: img\r\n",
        "    columns:\r\n",
        "    - [tilenum, i4]\r\n",
        "    - [img, i4]\r\n",
        "    - [subvisit, i2]\r\n",
        "    - [type, i4]\r\n",
        "    - [band, i4]\r\n",
        "    - [istherespectrum, bool]\r\n",
        "    - [quality, u4]\r\n",
        "    - [mpstype, a3]\r\n",
        "    - [avaspra, f8]\r\n",
        "    - [avaspdec, f8]\r\n"
       ]
      }
     ],
     "prompt_number": 13
    },
    {
     "cell_type": "markdown",
     "metadata": {},
     "source": [
      "In the YAML schema above, the first level down in the `schema` dict lists the column groups (named `common`, `astrometry`, `photoextra`, and `survey`).\n",
      "\n",
      "Columns are specified one level further down in the `columns` list. Each entry is a simple two-element arrays with the column name and a column type (written in numpy's [dtype style](http://docs.scipy.org/doc/numpy/reference/generated/numpy.dtype.html)).\n",
      "\n",
      "Each column group must also have a column designates as the `primary_key`; this column will be used internally by LSD to identify each row in the table. A `spatial_key` pair needs to be specified as well -- these are always the two columns with `ra` and `dec`."
     ]
    },
    {
     "cell_type": "markdown",
     "metadata": {},
     "source": [
      "#### Creating the GALEX GR5 table"
     ]
    },
    {
     "cell_type": "code",
     "collapsed": false,
     "input": [
      "! lsd-admin create table --schema=/ssd/mjuric/lsd/opt/lsd/lsd-v0.6.0/share/lsd/schemas/galex.yaml galex_gr5"
     ],
     "language": "python",
     "metadata": {},
     "outputs": [
      {
       "output_type": "stream",
       "stream": "stdout",
       "text": [
        "\r\n",
        "-------- committing 20150202204339.759515 [galex_gr5] ---------\r\n",
        "[galex_gr5] Updating tablet catalog: [256 el.]"
       ]
      },
      {
       "output_type": "stream",
       "stream": "stdout",
       "text": [
        "::::::::"
       ]
      },
      {
       "output_type": "stream",
       "stream": "stdout",
       "text": [
        "::::::::"
       ]
      },
      {
       "output_type": "stream",
       "stream": "stdout",
       "text": [
        "::::>  0.17 sec\r\n",
        "[galex_gr5] Updating neighbors: Already up to date.\r\n",
        "[galex_gr5] Updating tablet catalog: [256 el.]"
       ]
      },
      {
       "output_type": "stream",
       "stream": "stdout",
       "text": [
        "::::"
       ]
      },
      {
       "output_type": "stream",
       "stream": "stdout",
       "text": [
        "::::::::"
       ]
      },
      {
       "output_type": "stream",
       "stream": "stdout",
       "text": [
        "::::::::>  0.17 sec\r\n"
       ]
      },
      {
       "output_type": "stream",
       "stream": "stdout",
       "text": [
        "[galex_gr5] Updating stats: [0 el.]>  0.00 sec\r\n",
        "[galex_gr5] Marking tablets read-only...\r\n",
        "----------- success 20150202204339.759515 [galex_gr5] ---------\r\n",
        "\r\n",
        "Table 'galex_gr5' created.\r\n"
       ]
      }
     ],
     "prompt_number": 14
    },
    {
     "cell_type": "markdown",
     "metadata": {},
     "source": [
      "#### Importing the GALEX MIS catalog from a directory of gzipped csv files (~8.7 GB)\n",
      "\n",
      "As an example, we'll load the catalog of unique sources from the GALEX GR5 AIS survey, available from http://archive.stsci.edu/prepds/bianchi_gr5xdr7/catalogUV.html?print=1. This catalog comes in the form of four ~1.6G to 2.3G tar files that contain a number of individual zipped CSV files.\n",
      "\n",
      "So that you're able to follow, I've extracted a few an placed them at http://lsst-web.ncsa.illinois.edu/~mjuric/galex_gr5/"
     ]
    },
    {
     "cell_type": "code",
     "collapsed": false,
     "input": [
      "! ls /ssd/mjuric/galex_gr5/AIS | head"
     ],
     "language": "python",
     "metadata": {},
     "outputs": [
      {
       "output_type": "stream",
       "stream": "stdout",
       "text": [
        "GR5_0_1S.csv.gz\r\n",
        "GR5_10_11S.csv.gz\r\n",
        "GR5_10_9N.csv.gz\r\n",
        "GR5_1_0N.csv.gz\r\n",
        "GR5_11_10N.csv.gz\r\n",
        "GR5_11_12S.csv.gz\r\n",
        "GR5_12_11N.csv.gz\r\n",
        "GR5_12_13S.csv.gz\r\n",
        "GR5_1_2S.csv.gz\r\n",
        "GR5_13_12N.csv.gz\r\n"
       ]
      }
     ],
     "prompt_number": 15
    },
    {
     "cell_type": "code",
     "collapsed": false,
     "input": [
      "! zcat /ssd/mjuric/galex_gr5/AIS/GR5_0_1S.csv.gz | head -n 1"
     ],
     "language": "python",
     "metadata": {},
     "outputs": [
      {
       "output_type": "stream",
       "stream": "stdout",
       "text": [
        "6372886139376763380,67.5674187876501,46.9782956554715,156.7785,-0.9997115,50056,1761,55,0.361855,1,1,1.852059,False,-999,-999,-999,-999,22.58097,0.457094,0,-1,2.500967,0.457094,-99,-99,2.500967,0.457094,-99,-99,2.317665,0.4927053,-99,-99,2.759354,1.436903,0,0,0,0,-999,-999,3.362405,1.415226,-99,-99,2220.774,1096.961,-99,5.596932,-99,0.002332055,6372886139375714304,AIS,67.7442444590054,47.3195831696497\r\n",
        "\r\n",
        "gzip: stdout: Broken pipe\r\n"
       ]
      }
     ],
     "prompt_number": 16
    },
    {
     "cell_type": "markdown",
     "metadata": {},
     "source": [
      "The input files contain comma-separated values with no header row. If left unspecified, LSD assumes the columns in the file map  onto the columns in the table in the same order.\n",
      "\n",
      "If that is not the case, we need to specify the mapping either on the command line, or (better) by using a *map file*:"
     ]
    },
    {
     "cell_type": "code",
     "collapsed": false,
     "input": [
      "! head /ssd/mjuric/lsd/opt/lsd/lsd-v0.6.0/share/lsd/schemas/galex.map"
     ],
     "language": "python",
     "metadata": {},
     "outputs": [
      {
       "output_type": "stream",
       "stream": "stdout",
       "text": [
        "objid                  1\r\n",
        "ra                     2\r\n",
        "dec                    3\r\n",
        "glon                   4\r\n",
        "glat                   5\r\n",
        "fov_radius             9\r\n",
        "objtype               14\r\n",
        "e_bv                  12\r\n",
        "fuv_mag               16\r\n",
        "fuv_magerr            17\r\n"
       ]
      }
     ],
     "prompt_number": 17
    },
    {
     "cell_type": "markdown",
     "metadata": {},
     "source": [
      "Note that the column indices in the map file are 1-based."
     ]
    },
    {
     "cell_type": "markdown",
     "metadata": {},
     "source": [
      "We're now ready to do the import:"
     ]
    },
    {
     "cell_type": "code",
     "collapsed": false,
     "input": [
      "! lsd-import text --force -d , galex_gr5 \\\n",
      "    --cols-file=/ssd/mjuric/lsd/opt/lsd/lsd-v0.6.0/share/lsd/schemas/galex.map \\\n",
      "    /ssd/mjuric/galex_gr5/AIS/*.csv.gz"
     ],
     "language": "python",
     "metadata": {},
     "outputs": [
      {
       "output_type": "stream",
       "stream": "stdout",
       "text": [
        "Importing from 180 pieces:\r\n"
       ]
      },
      {
       "output_type": "stream",
       "stream": "stdout",
       "text": [
        "  ===> Imported /ssd/mjuric/galex_gr5/AIS/GR5_0_1S.csv.gz                              [1/180,  0.56%] +   5597/5599         5597 (0/3 min.)\r\n"
       ]
      },
      {
       "output_type": "stream",
       "stream": "stdout",
       "text": [
        "  ===> Imported /ssd/mjuric/galex_gr5/AIS/GR5_1_2S.csv.gz                              [2/180,  1.11%] +   8040/8044        13637 (0/2 min.)\r\n"
       ]
      },
      {
       "output_type": "stream",
       "stream": "stdout",
       "text": [
        "  ===> Imported /ssd/mjuric/galex_gr5/AIS/GR5_1_0N.csv.gz                              [3/180,  1.67%] +   8180/8186        21817 (0/1 min.)\r\n"
       ]
      },
      {
       "output_type": "stream",
       "stream": "stdout",
       "text": [
        "  ===> Imported /ssd/mjuric/galex_gr5/AIS/GR5_10_11S.csv.gz                            [4/180,  2.22%] + 190899/190983     212716 (0/16 min.)\r\n"
       ]
      },
      {
       "output_type": "stream",
       "stream": "stdout",
       "text": [
        "  ===> Imported /ssd/mjuric/galex_gr5/AIS/GR5_11_12S.csv.gz                            [5/180,  2.78%] + 265223/265368     477939 (1/20 min.)\r\n"
       ]
      },
      {
       "output_type": "stream",
       "stream": "stdout",
       "text": [
        "  ===> Imported /ssd/mjuric/galex_gr5/AIS/GR5_12_13S.csv.gz                            [6/180,  3.33%] + 335423/335576     813362 (1/19 min.)\r\n"
       ]
      },
      {
       "output_type": "stream",
       "stream": "stdout",
       "text": [
        "  ===> Imported /ssd/mjuric/galex_gr5/AIS/GR5_13_14S.csv.gz                            [7/180,  3.89%] + 338540/338687    1151902 (1/17 min.)\r\n"
       ]
      },
      {
       "output_type": "stream",
       "stream": "stdout",
       "text": [
        "  ===> Imported /ssd/mjuric/galex_gr5/AIS/GR5_10_9N.csv.gz                             [8/180,  4.44%] + 331909/332037    1483811 (1/15 min.)\r\n"
       ]
      },
      {
       "output_type": "stream",
       "stream": "stdout",
       "text": [
        "  ===> Imported /ssd/mjuric/galex_gr5/AIS/GR5_14_15S.csv.gz                            [9/180,  5.00%] + 343349/343512    1827160 (1/14 min.)\r\n"
       ]
      },
      {
       "output_type": "stream",
       "stream": "stdout",
       "text": [
        "  ===> Imported /ssd/mjuric/galex_gr5/AIS/GR5_15_16S.csv.gz                            [10/180,  5.56%] + 377063/377274    2204223 (1/12 min.)\r\n"
       ]
      },
      {
       "output_type": "stream",
       "stream": "stdout",
       "text": [
        "  ===> Imported /ssd/mjuric/galex_gr5/AIS/GR5_12_11N.csv.gz                            [11/180,  6.11%] + 438994/439128    2643217 (1/12 min.)\r\n"
       ]
      },
      {
       "output_type": "stream",
       "stream": "stdout",
       "text": [
        "  ===> Imported /ssd/mjuric/galex_gr5/AIS/GR5_11_10N.csv.gz                            [12/180,  6.67%] + 410910/411065    3054127 (1/12 min.)\r\n"
       ]
      },
      {
       "output_type": "stream",
       "stream": "stdout",
       "text": [
        "  ===> Imported /ssd/mjuric/galex_gr5/AIS/GR5_2_1N.csv.gz                              [13/180,  7.22%] +  10114/10116     3064241 (1/11 min.)\r\n"
       ]
      },
      {
       "output_type": "stream",
       "stream": "stdout",
       "text": [
        "  ===> Imported /ssd/mjuric/galex_gr5/AIS/GR5_14_13N.csv.gz                            [14/180,  7.78%] + 426271/426458    3490512 (1/11 min.)\r\n"
       ]
      },
      {
       "output_type": "stream",
       "stream": "stdout",
       "text": [
        "  ===> Imported /ssd/mjuric/galex_gr5/AIS/GR5_16_17S.csv.gz                            [15/180,  8.33%] + 442346/442594    3932858 (1/10 min.)\r\n"
       ]
      },
      {
       "output_type": "stream",
       "stream": "stdout",
       "text": [
        "  ===> Imported /ssd/mjuric/galex_gr5/AIS/GR5_13_12N.csv.gz                            [16/180,  8.89%] + 430183/430360    4363041 (1/10 min.)\r\n"
       ]
      },
      {
       "output_type": "stream",
       "stream": "stdout",
       "text": [
        "  ===> Imported /ssd/mjuric/galex_gr5/AIS/GR5_17_18S.csv.gz                            [17/180,  9.44%] + 451044/451254    4814085 (1/10 min.)\r\n"
       ]
      },
      {
       "output_type": "stream",
       "stream": "stdout",
       "text": [
        "  ===> Imported /ssd/mjuric/galex_gr5/AIS/GR5_15_14N.csv.gz                            [18/180, 10.00%] + 502423/502730    5316508 (1/9 min.)\r\n"
       ]
      },
      {
       "output_type": "stream",
       "stream": "stdout",
       "text": [
        "  ===> Imported /ssd/mjuric/galex_gr5/AIS/GR5_2_3S.csv.gz                              [19/180, 10.56%] +  12297/12304     5328805 (1/9 min.)\r\n"
       ]
      },
      {
       "output_type": "stream",
       "stream": "stdout",
       "text": [
        "  ===> Imported /ssd/mjuric/galex_gr5/AIS/GR5_17_16N.csv.gz                            [20/180, 11.11%] + 558179/558606    5886984 (1/10 min.)\r\n"
       ]
      },
      {
       "output_type": "stream",
       "stream": "stdout",
       "text": [
        "  ===> Imported /ssd/mjuric/galex_gr5/AIS/GR5_16_15N.csv.gz                            [21/180, 11.67%] + 551192/551585    6438176 (1/10 min.)\r\n"
       ]
      },
      {
       "output_type": "stream",
       "stream": "stdout",
       "text": [
        "  ===> Imported /ssd/mjuric/galex_gr5/AIS/GR5_18_17N.csv.gz                            [22/180, 12.22%] + 533182/533672    6971358 (1/12 min.)\r\n"
       ]
      },
      {
       "output_type": "stream",
       "stream": "stdout",
       "text": [
        "  ===> Imported /ssd/mjuric/galex_gr5/AIS/GR5_18_19S.csv.gz                            [23/180, 12.78%] + 492910/493163    7464268 (2/12 min.)\r\n"
       ]
      },
      {
       "output_type": "stream",
       "stream": "stdout",
       "text": [
        "  ===> Imported /ssd/mjuric/galex_gr5/AIS/GR5_19_20S.csv.gz                            [24/180, 13.33%] + 530096/530453    7994364 (2/14 min.)\r\n"
       ]
      },
      {
       "output_type": "stream",
       "stream": "stdout",
       "text": [
        "  ===> Imported /ssd/mjuric/galex_gr5/AIS/GR5_19_18N.csv.gz                            [25/180, 13.89%] + 556091/556674    8550455 (2/13 min.)\r\n"
       ]
      },
      {
       "output_type": "stream",
       "stream": "stdout",
       "text": [
        "  ===> Imported /ssd/mjuric/galex_gr5/AIS/GR5_22_23S.csv.gz                            [26/180, 14.44%] + 502435/502846    9052890 (2/13 min.)\r\n"
       ]
      },
      {
       "output_type": "stream",
       "stream": "stdout",
       "text": [
        "  ===> Imported /ssd/mjuric/galex_gr5/AIS/GR5_20_21S.csv.gz                            [27/180, 15.00%] + 535628/535967    9588518 (2/13 min.)\r\n"
       ]
      },
      {
       "output_type": "stream",
       "stream": "stdout",
       "text": [
        "  ===> Imported /ssd/mjuric/galex_gr5/AIS/GR5_20_19N.csv.gz                            [28/180, 15.56%] + 583809/584557   10172327 (2/12 min.)\r\n"
       ]
      },
      {
       "output_type": "stream",
       "stream": "stdout",
       "text": [
        "  ===> Imported /ssd/mjuric/galex_gr5/AIS/GR5_23_24S.csv.gz                            [29/180, 16.11%] + 502523/502997   10674850 (2/12 min.)\r\n"
       ]
      },
      {
       "output_type": "stream",
       "stream": "stdout",
       "text": [
        "  ===> Imported /ssd/mjuric/galex_gr5/AIS/GR5_21_20N.csv.gz                            [30/180, 16.67%] + 622240/623023   11297090 (2/12 min.)\r\n"
       ]
      },
      {
       "output_type": "stream",
       "stream": "stdout",
       "text": [
        "  ===> Imported /ssd/mjuric/galex_gr5/AIS/GR5_24_25S.csv.gz                            [31/180, 17.22%] + 474532/475078   11771622 (2/12 min.)\r\n"
       ]
      },
      {
       "output_type": "stream",
       "stream": "stdout",
       "text": [
        "  ===> Imported /ssd/mjuric/galex_gr5/AIS/GR5_23_22N.csv.gz                            [32/180, 17.78%] + 582252/583255   12353874 (2/12 min.)\r\n"
       ]
      },
      {
       "output_type": "stream",
       "stream": "stdout",
       "text": [
        "  ===> Imported /ssd/mjuric/galex_gr5/AIS/GR5_21_22S.csv.gz                            [33/180, 18.33%] + 548028/548431   12901902 (2/11 min.)\r\n"
       ]
      },
      {
       "output_type": "stream",
       "stream": "stdout",
       "text": [
        "  ===> Imported /ssd/mjuric/galex_gr5/AIS/GR5_22_21N.csv.gz                            [34/180, 18.89%] + 620394/621281   13522296 (2/11 min.)\r\n"
       ]
      },
      {
       "output_type": "stream",
       "stream": "stdout",
       "text": [
        "  ===> Imported /ssd/mjuric/galex_gr5/AIS/GR5_24_23N.csv.gz                            [35/180, 19.44%] + 612322/613517   14134618 (2/11 min.)\r\n"
       ]
      },
      {
       "output_type": "stream",
       "stream": "stdout",
       "text": [
        "  ===> Imported /ssd/mjuric/galex_gr5/AIS/GR5_25_26S.csv.gz                            [36/180, 20.00%] + 496537/497153   14631155 (2/11 min.)\r\n"
       ]
      },
      {
       "output_type": "stream",
       "stream": "stdout",
       "text": [
        "  ===> Imported /ssd/mjuric/galex_gr5/AIS/GR5_3_2N.csv.gz                              [37/180, 20.56%] +  20624/20633    14651779 (2/11 min.)\r\n"
       ]
      },
      {
       "output_type": "stream",
       "stream": "stdout",
       "text": [
        "  ===> Imported /ssd/mjuric/galex_gr5/AIS/GR5_25_24N.csv.gz                            [38/180, 21.11%] + 635771/637065   15287550 (2/11 min.)\r\n"
       ]
      },
      {
       "output_type": "stream",
       "stream": "stdout",
       "text": [
        "  ===> Imported /ssd/mjuric/galex_gr5/AIS/GR5_26_27S.csv.gz                            [39/180, 21.67%] + 539172/539872   15826722 (3/13 min.)\r\n"
       ]
      },
      {
       "output_type": "stream",
       "stream": "stdout",
       "text": [
        "  ===> Imported /ssd/mjuric/galex_gr5/AIS/GR5_26_25N.csv.gz                            [40/180, 22.22%] + 622205/623653   16448927 (3/13 min.)\r\n"
       ]
      },
      {
       "output_type": "stream",
       "stream": "stdout",
       "text": [
        "  ===> Imported /ssd/mjuric/galex_gr5/AIS/GR5_27_26N.csv.gz                            [41/180, 22.78%] + 593157/594671   17042084 (3/14 min.)\r\n"
       ]
      },
      {
       "output_type": "stream",
       "stream": "stdout",
       "text": [
        "  ===> Imported /ssd/mjuric/galex_gr5/AIS/GR5_27_28S.csv.gz                            [42/180, 23.33%] + 566104/566870   17608188 (3/14 min.)\r\n"
       ]
      },
      {
       "output_type": "stream",
       "stream": "stdout",
       "text": [
        "  ===> Imported /ssd/mjuric/galex_gr5/AIS/GR5_28_29S.csv.gz                            [43/180, 23.89%] + 557128/557900   18165316 (3/14 min.)\r\n"
       ]
      },
      {
       "output_type": "stream",
       "stream": "stdout",
       "text": [
        "  ===> Imported /ssd/mjuric/galex_gr5/AIS/GR5_3_4S.csv.gz                              [44/180, 24.44%] +  28510/28523    18193826 (3/13 min.)\r\n"
       ]
      },
      {
       "output_type": "stream",
       "stream": "stdout",
       "text": [
        "  ===> Imported /ssd/mjuric/galex_gr5/AIS/GR5_29_28N.csv.gz                            [45/180, 25.00%] + 600643/602386   18794469 (3/13 min.)\r\n"
       ]
      },
      {
       "output_type": "stream",
       "stream": "stdout",
       "text": [
        "  ===> Imported /ssd/mjuric/galex_gr5/AIS/GR5_28_27N.csv.gz                            [46/180, 25.56%] + 598381/600125   19392850 (3/13 min.)\r\n"
       ]
      },
      {
       "output_type": "stream",
       "stream": "stdout",
       "text": [
        "  ===> Imported /ssd/mjuric/galex_gr5/AIS/GR5_29_30S.csv.gz                            [47/180, 26.11%] + 562833/563672   19955683 (3/13 min.)\r\n"
       ]
      },
      {
       "output_type": "stream",
       "stream": "stdout",
       "text": [
        "  ===> Imported /ssd/mjuric/galex_gr5/AIS/GR5_30_31S.csv.gz                            [48/180, 26.67%] + 576106/577006   20531789 (3/13 min.)\r\n"
       ]
      },
      {
       "output_type": "stream",
       "stream": "stdout",
       "text": [
        "  ===> Imported /ssd/mjuric/galex_gr5/AIS/GR5_30_29N.csv.gz                            [49/180, 27.22%] + 651904/653930   21183693 (3/13 min.)\r\n"
       ]
      },
      {
       "output_type": "stream",
       "stream": "stdout",
       "text": [
        "  ===> Imported /ssd/mjuric/galex_gr5/AIS/GR5_31_30N.csv.gz                            [50/180, 27.78%] + 646257/648489   21829950 (3/12 min.)\r\n"
       ]
      },
      {
       "output_type": "stream",
       "stream": "stdout",
       "text": [
        "  ===> Imported /ssd/mjuric/galex_gr5/AIS/GR5_31_32S.csv.gz                            [51/180, 28.33%] + 606723/607865   22436673 (3/12 min.)\r\n"
       ]
      },
      {
       "output_type": "stream",
       "stream": "stdout",
       "text": [
        "  ===> Imported /ssd/mjuric/galex_gr5/AIS/GR5_32_31N.csv.gz                            [52/180, 28.89%] + 608443/610566   23045116 (4/12 min.)\r\n"
       ]
      },
      {
       "output_type": "stream",
       "stream": "stdout",
       "text": [
        "  ===> Imported /ssd/mjuric/galex_gr5/AIS/GR5_33_32N.csv.gz                            [53/180, 29.44%] + 583339/585600   23628455 (4/12 min.)\r\n"
       ]
      },
      {
       "output_type": "stream",
       "stream": "stdout",
       "text": [
        "  ===> Imported /ssd/mjuric/galex_gr5/AIS/GR5_32_33S.csv.gz                            [54/180, 30.00%] + 620330/621696   24248785 (4/12 min.)\r\n"
       ]
      },
      {
       "output_type": "stream",
       "stream": "stdout",
       "text": [
        "  ===> Imported /ssd/mjuric/galex_gr5/AIS/GR5_33_34S.csv.gz                            [55/180, 30.56%] + 625363/626719   24874148 (4/12 min.)\r\n"
       ]
      },
      {
       "output_type": "stream",
       "stream": "stdout",
       "text": [
        "  ===> Imported /ssd/mjuric/galex_gr5/AIS/GR5_34_33N.csv.gz                            [56/180, 31.11%] + 614578/616945   25488726 (4/13 min.)\r\n"
       ]
      },
      {
       "output_type": "stream",
       "stream": "stdout",
       "text": [
        "  ===> Imported /ssd/mjuric/galex_gr5/AIS/GR5_34_35S.csv.gz                            [57/180, 31.67%] + 588151/589619   26076877 (4/13 min.)\r\n"
       ]
      },
      {
       "output_type": "stream",
       "stream": "stdout",
       "text": [
        "  ===> Imported /ssd/mjuric/galex_gr5/AIS/GR5_37_36N.csv.gz                            [58/180, 32.22%] + 556009/558370   26632886 (5/14 min.)\r\n"
       ]
      },
      {
       "output_type": "stream",
       "stream": "stdout",
       "text": [
        "  ===> Imported /ssd/mjuric/galex_gr5/AIS/GR5_36_37S.csv.gz                            [59/180, 32.78%] + 561933/563281   27194819 (5/14 min.)\r\n"
       ]
      },
      {
       "output_type": "stream",
       "stream": "stdout",
       "text": [
        "  ===> Imported /ssd/mjuric/galex_gr5/AIS/GR5_36_35N.csv.gz                            [60/180, 33.33%] + 577919/580192   27772738 (5/14 min.)\r\n"
       ]
      },
      {
       "output_type": "stream",
       "stream": "stdout",
       "text": [
        "  ===> Imported /ssd/mjuric/galex_gr5/AIS/GR5_35_34N.csv.gz                            [61/180, 33.89%] + 604380/606626   28377118 (5/14 min.)\r\n"
       ]
      },
      {
       "output_type": "stream",
       "stream": "stdout",
       "text": [
        "  ===> Imported /ssd/mjuric/galex_gr5/AIS/GR5_4_3N.csv.gz                              [62/180, 34.44%] +  26386/26409    28403504 (5/14 min.)\r\n"
       ]
      },
      {
       "output_type": "stream",
       "stream": "stdout",
       "text": [
        "  ===> Imported /ssd/mjuric/galex_gr5/AIS/GR5_35_36S.csv.gz                            [63/180, 35.00%] + 597303/598630   29000807 (5/13 min.)\r\n"
       ]
      },
      {
       "output_type": "stream",
       "stream": "stdout",
       "text": [
        "  ===> Imported /ssd/mjuric/galex_gr5/AIS/GR5_37_38S.csv.gz                            [64/180, 35.56%] + 576525/578053   29577332 (5/13 min.)\r\n"
       ]
      },
      {
       "output_type": "stream",
       "stream": "stdout",
       "text": [
        "  ===> Imported /ssd/mjuric/galex_gr5/AIS/GR5_38_39S.csv.gz                            [65/180, 36.11%] + 548375/549876   30125707 (5/13 min.)\r\n"
       ]
      },
      {
       "output_type": "stream",
       "stream": "stdout",
       "text": [
        "  ===> Imported /ssd/mjuric/galex_gr5/AIS/GR5_39_40S.csv.gz                            [66/180, 36.67%] + 532877/534656   30658584 (5/13 min.)\r\n"
       ]
      },
      {
       "output_type": "stream",
       "stream": "stdout",
       "text": [
        "  ===> Imported /ssd/mjuric/galex_gr5/AIS/GR5_4_5S.csv.gz                              [67/180, 37.22%] +  27305/27322    30685889 (5/13 min.)\r\n"
       ]
      },
      {
       "output_type": "stream",
       "stream": "stdout",
       "text": [
        "  ===> Imported /ssd/mjuric/galex_gr5/AIS/GR5_38_37N.csv.gz                            [68/180, 37.78%] + 554404/557174   31240293 (5/13 min.)\r\n"
       ]
      },
      {
       "output_type": "stream",
       "stream": "stdout",
       "text": [
        "  ===> Imported /ssd/mjuric/galex_gr5/AIS/GR5_39_38N.csv.gz                            [69/180, 38.33%] + 559007/561754   31799300 (5/13 min.)\r\n"
       ]
      },
      {
       "output_type": "stream",
       "stream": "stdout",
       "text": [
        "  ===> Imported /ssd/mjuric/galex_gr5/AIS/GR5_40_41S.csv.gz                            [70/180, 38.89%] + 533062/534971   32332362 (5/13 min.)\r\n"
       ]
      },
      {
       "output_type": "stream",
       "stream": "stdout",
       "text": [
        "  ===> Imported /ssd/mjuric/galex_gr5/AIS/GR5_41_40N.csv.gz                            [71/180, 39.44%] + 573341/576342   32905703 (5/13 min.)\r\n"
       ]
      },
      {
       "output_type": "stream",
       "stream": "stdout",
       "text": [
        "  ===> Imported /ssd/mjuric/galex_gr5/AIS/GR5_41_42S.csv.gz                            [72/180, 40.00%] + 537239/539109   33442942 (5/13 min.)\r\n"
       ]
      },
      {
       "output_type": "stream",
       "stream": "stdout",
       "text": [
        "  ===> Imported /ssd/mjuric/galex_gr5/AIS/GR5_40_39N.csv.gz                            [73/180, 40.56%] + 566650/569694   34009592 (5/13 min.)\r\n"
       ]
      },
      {
       "output_type": "stream",
       "stream": "stdout",
       "text": [
        "  ===> Imported /ssd/mjuric/galex_gr5/AIS/GR5_42_43S.csv.gz                            [74/180, 41.11%] + 542610/544849   34552202 (5/13 min.)\r\n"
       ]
      },
      {
       "output_type": "stream",
       "stream": "stdout",
       "text": [
        "  ===> Imported /ssd/mjuric/galex_gr5/AIS/GR5_42_41N.csv.gz                            [75/180, 41.67%] + 594436/597995   35146638 (6/13 min.)\r\n"
       ]
      },
      {
       "output_type": "stream",
       "stream": "stdout",
       "text": [
        "  ===> Imported /ssd/mjuric/galex_gr5/AIS/GR5_44_45S.csv.gz                            [76/180, 42.22%] + 510280/512264   35656918 (6/13 min.)\r\n"
       ]
      },
      {
       "output_type": "stream",
       "stream": "stdout",
       "text": [
        "  ===> Imported /ssd/mjuric/galex_gr5/AIS/GR5_43_44S.csv.gz                            [77/180, 42.78%] + 510701/512824   36167619 (6/13 min.)\r\n"
       ]
      },
      {
       "output_type": "stream",
       "stream": "stdout",
       "text": [
        "  ===> Imported /ssd/mjuric/galex_gr5/AIS/GR5_45_46S.csv.gz                            [78/180, 43.33%] + 498951/500907   36666570 (6/13 min.)\r\n"
       ]
      },
      {
       "output_type": "stream",
       "stream": "stdout",
       "text": [
        "  ===> Imported /ssd/mjuric/galex_gr5/AIS/GR5_44_43N.csv.gz                            [79/180, 43.89%] + 563845/567959   37230415 (6/13 min.)\r\n"
       ]
      },
      {
       "output_type": "stream",
       "stream": "stdout",
       "text": [
        "  ===> Imported /ssd/mjuric/galex_gr5/AIS/GR5_43_42N.csv.gz                            [80/180, 44.44%] + 569421/573253   37799836 (6/13 min.)\r\n"
       ]
      },
      {
       "output_type": "stream",
       "stream": "stdout",
       "text": [
        "  ===> Imported /ssd/mjuric/galex_gr5/AIS/GR5_45_44N.csv.gz                            [81/180, 45.00%] + 547250/551470   38347086 (6/13 min.)\r\n"
       ]
      },
      {
       "output_type": "stream",
       "stream": "stdout",
       "text": [
        "  ===> Imported /ssd/mjuric/galex_gr5/AIS/GR5_46_47S.csv.gz                            [82/180, 45.56%] + 506956/509222   38854042 (6/13 min.)\r\n"
       ]
      },
      {
       "output_type": "stream",
       "stream": "stdout",
       "text": [
        "  ===> Imported /ssd/mjuric/galex_gr5/AIS/GR5_46_45N.csv.gz                            [83/180, 46.11%] + 525771/529864   39379813 (6/13 min.)\r\n"
       ]
      },
      {
       "output_type": "stream",
       "stream": "stdout",
       "text": [
        "  ===> Imported /ssd/mjuric/galex_gr5/AIS/GR5_47_46N.csv.gz                            [84/180, 46.67%] + 518485/522860   39898298 (6/13 min.)\r\n"
       ]
      },
      {
       "output_type": "stream",
       "stream": "stdout",
       "text": [
        "  ===> Imported /ssd/mjuric/galex_gr5/AIS/GR5_48_49S.csv.gz                            [85/180, 47.22%] + 504954/507454   40403252 (6/13 min.)\r\n"
       ]
      },
      {
       "output_type": "stream",
       "stream": "stdout",
       "text": [
        "  ===> Imported /ssd/mjuric/galex_gr5/AIS/GR5_5_4N.csv.gz                              [86/180, 47.78%] +  46988/47015    40450240 (6/13 min.)\r\n"
       ]
      },
      {
       "output_type": "stream",
       "stream": "stdout",
       "text": [
        "  ===> Imported /ssd/mjuric/galex_gr5/AIS/GR5_48_47N.csv.gz                            [87/180, 48.33%] + 524909/529471   40975149 (6/13 min.)\r\n"
       ]
      },
      {
       "output_type": "stream",
       "stream": "stdout",
       "text": [
        "  ===> Imported /ssd/mjuric/galex_gr5/AIS/GR5_47_48S.csv.gz                            [88/180, 48.89%] + 527145/529588   41502294 (6/13 min.)\r\n"
       ]
      },
      {
       "output_type": "stream",
       "stream": "stdout",
       "text": [
        "  ===> Imported /ssd/mjuric/galex_gr5/AIS/GR5_49_48N.csv.gz                            [89/180, 49.44%] + 511919/516424   42014213 (6/13 min.)\r\n"
       ]
      },
      {
       "output_type": "stream",
       "stream": "stdout",
       "text": [
        "  ===> Imported /ssd/mjuric/galex_gr5/AIS/GR5_50_49N.csv.gz                            [90/180, 50.00%] + 486059/490468   42500272 (6/13 min.)\r\n"
       ]
      },
      {
       "output_type": "stream",
       "stream": "stdout",
       "text": [
        "  ===> Imported /ssd/mjuric/galex_gr5/AIS/GR5_49_50S.csv.gz                            [91/180, 50.56%] + 476248/478836   42976520 (6/13 min.)\r\n"
       ]
      },
      {
       "output_type": "stream",
       "stream": "stdout",
       "text": [
        "  ===> Imported /ssd/mjuric/galex_gr5/AIS/GR5_5_6S.csv.gz                              [92/180, 51.11%] +  38244/38264    43014764 (6/13 min.)\r\n"
       ]
      },
      {
       "output_type": "stream",
       "stream": "stdout",
       "text": [
        "  ===> Imported /ssd/mjuric/galex_gr5/AIS/GR5_51_50N.csv.gz                            [93/180, 51.67%] + 465921/469953   43480685 (7/13 min.)\r\n",
        "  ===> Imported /ssd/mjuric/galex_gr5/AIS/GR5_50_51S.csv.gz                            [94/180, 52.22%] + 470883/473490   43951568 (7/13 min.)\r\n"
       ]
      },
      {
       "output_type": "stream",
       "stream": "stdout",
       "text": [
        "  ===> Imported /ssd/mjuric/galex_gr5/AIS/GR5_51_52S.csv.gz                            [95/180, 52.78%] + 434495/436913   44386063 (7/12 min.)\r\n"
       ]
      },
      {
       "output_type": "stream",
       "stream": "stdout",
       "text": [
        "  ===> Imported /ssd/mjuric/galex_gr5/AIS/GR5_52_51N.csv.gz                            [96/180, 53.33%] + 439840/443935   44825903 (7/13 min.)\r\n"
       ]
      },
      {
       "output_type": "stream",
       "stream": "stdout",
       "text": [
        "  ===> Imported /ssd/mjuric/galex_gr5/AIS/GR5_54_53N.csv.gz                            [97/180, 53.89%] + 414299/418275   45240202 (7/13 min.)\r\n"
       ]
      },
      {
       "output_type": "stream",
       "stream": "stdout",
       "text": [
        "  ===> Imported /ssd/mjuric/galex_gr5/AIS/GR5_52_53S.csv.gz                            [98/180, 54.44%] + 415480/417828   45655682 (7/13 min.)\r\n"
       ]
      },
      {
       "output_type": "stream",
       "stream": "stdout",
       "text": [
        "  ===> Imported /ssd/mjuric/galex_gr5/AIS/GR5_53_52N.csv.gz                            [99/180, 55.00%] + 439796/443873   46095478 (7/13 min.)\r\n"
       ]
      },
      {
       "output_type": "stream",
       "stream": "stdout",
       "text": [
        "  ===> Imported /ssd/mjuric/galex_gr5/AIS/GR5_54_55S.csv.gz                            [100/180, 55.56%] + 457123/460204   46552601 (7/13 min.)\r\n"
       ]
      },
      {
       "output_type": "stream",
       "stream": "stdout",
       "text": [
        "  ===> Imported /ssd/mjuric/galex_gr5/AIS/GR5_55_54N.csv.gz                            [101/180, 56.11%] + 403538/407614   46956139 (7/12 min.)\r\n"
       ]
      },
      {
       "output_type": "stream",
       "stream": "stdout",
       "text": [
        "  ===> Imported /ssd/mjuric/galex_gr5/AIS/GR5_53_54S.csv.gz                            [102/180, 56.67%] + 430577/433139   47386716 (7/12 min.)\r\n"
       ]
      },
      {
       "output_type": "stream",
       "stream": "stdout",
       "text": [
        "  ===> Imported /ssd/mjuric/galex_gr5/AIS/GR5_56_55N.csv.gz                            [103/180, 57.22%] + 412379/416661   47799095 (7/12 min.)\r\n"
       ]
      },
      {
       "output_type": "stream",
       "stream": "stdout",
       "text": [
        "  ===> Imported /ssd/mjuric/galex_gr5/AIS/GR5_57_56N.csv.gz                            [104/180, 57.78%] + 400425/404437   48199520 (7/13 min.)\r\n"
       ]
      },
      {
       "output_type": "stream",
       "stream": "stdout",
       "text": [
        "  ===> Imported /ssd/mjuric/galex_gr5/AIS/GR5_57_58S.csv.gz                            [105/180, 58.33%] + 432116/435960   48631636 (7/12 min.)\r\n"
       ]
      },
      {
       "output_type": "stream",
       "stream": "stdout",
       "text": [
        "  ===> Imported /ssd/mjuric/galex_gr5/AIS/GR5_58_57N.csv.gz                            [106/180, 58.89%] + 408975/413104   49040611 (7/12 min.)\r\n"
       ]
      },
      {
       "output_type": "stream",
       "stream": "stdout",
       "text": [
        "  ===> Imported /ssd/mjuric/galex_gr5/AIS/GR5_55_56S.csv.gz                            [107/180, 59.44%] + 477983/481498   49518594 (7/12 min.)\r\n"
       ]
      },
      {
       "output_type": "stream",
       "stream": "stdout",
       "text": [
        "  ===> Imported /ssd/mjuric/galex_gr5/AIS/GR5_59_58N.csv.gz                            [108/180, 60.00%] + 415319/419349   49933913 (7/12 min.)\r\n"
       ]
      },
      {
       "output_type": "stream",
       "stream": "stdout",
       "text": [
        "  ===> Imported /ssd/mjuric/galex_gr5/AIS/GR5_56_57S.csv.gz                            [109/180, 60.56%] + 463529/467179   50397442 (7/12 min.)\r\n"
       ]
      },
      {
       "output_type": "stream",
       "stream": "stdout",
       "text": [
        "  ===> Imported /ssd/mjuric/galex_gr5/AIS/GR5_58_59S.csv.gz                            [110/180, 61.11%] + 413720/417526   50811162 (7/12 min.)\r\n"
       ]
      },
      {
       "output_type": "stream",
       "stream": "stdout",
       "text": [
        "  ===> Imported /ssd/mjuric/galex_gr5/AIS/GR5_6_5N.csv.gz                              [111/180, 61.67%] +  70046/70074    50881208 (8/12 min.)\r\n"
       ]
      },
      {
       "output_type": "stream",
       "stream": "stdout",
       "text": [
        "  ===> Imported /ssd/mjuric/galex_gr5/AIS/GR5_60_59N.csv.gz                            [112/180, 62.22%] + 373836/377618   51255044 (8/12 min.)\r\n"
       ]
      },
      {
       "output_type": "stream",
       "stream": "stdout",
       "text": [
        "  ===> Imported /ssd/mjuric/galex_gr5/AIS/GR5_59_60S.csv.gz                            [113/180, 62.78%] + 396778/400262   51651822 (8/12 min.)\r\n"
       ]
      },
      {
       "output_type": "stream",
       "stream": "stdout",
       "text": [
        "  ===> Imported /ssd/mjuric/galex_gr5/AIS/GR5_63_62N.csv.gz                            [114/180, 63.33%] + 323494/326945   51975316 (8/12 min.)\r\n"
       ]
      },
      {
       "output_type": "stream",
       "stream": "stdout",
       "text": [
        "  ===> Imported /ssd/mjuric/galex_gr5/AIS/GR5_62_61N.csv.gz                            [115/180, 63.89%] + 304792/308217   52280108 (8/12 min.)\r\n"
       ]
      },
      {
       "output_type": "stream",
       "stream": "stdout",
       "text": [
        "  ===> Imported /ssd/mjuric/galex_gr5/AIS/GR5_62_63S.csv.gz                            [116/180, 64.44%] + 346120/349471   52626228 (8/12 min.)\r\n"
       ]
      },
      {
       "output_type": "stream",
       "stream": "stdout",
       "text": [
        "  ===> Imported /ssd/mjuric/galex_gr5/AIS/GR5_60_61S.csv.gz                            [117/180, 65.00%] + 376784/379893   53003012 (8/12 min.)\r\n"
       ]
      },
      {
       "output_type": "stream",
       "stream": "stdout",
       "text": [
        "  ===> Imported /ssd/mjuric/galex_gr5/AIS/GR5_61_62S.csv.gz                            [118/180, 65.56%] + 376900/380103   53379912 (8/12 min.)\r\n"
       ]
      },
      {
       "output_type": "stream",
       "stream": "stdout",
       "text": [
        "  ===> Imported /ssd/mjuric/galex_gr5/AIS/GR5_6_7S.csv.gz                              [119/180, 66.11%] +  56704/56747    53436616 (8/12 min.)\r\n"
       ]
      },
      {
       "output_type": "stream",
       "stream": "stdout",
       "text": [
        "  ===> Imported /ssd/mjuric/galex_gr5/AIS/GR5_61_60N.csv.gz                            [120/180, 66.67%] + 335134/338726   53771750 (8/12 min.)\r\n"
       ]
      },
      {
       "output_type": "stream",
       "stream": "stdout",
       "text": [
        "  ===> Imported /ssd/mjuric/galex_gr5/AIS/GR5_63_64S.csv.gz                            [121/180, 67.22%] + 333178/336209   54104928 (8/12 min.)\r\n"
       ]
      },
      {
       "output_type": "stream",
       "stream": "stdout",
       "text": [
        "  ===> Imported /ssd/mjuric/galex_gr5/AIS/GR5_65_64N.csv.gz                            [122/180, 67.78%] + 315027/318848   54419955 (8/12 min.)\r\n"
       ]
      },
      {
       "output_type": "stream",
       "stream": "stdout",
       "text": [
        "  ===> Imported /ssd/mjuric/galex_gr5/AIS/GR5_64_63N.csv.gz                            [123/180, 68.33%] + 320725/324494   54740680 (8/12 min.)\r\n"
       ]
      },
      {
       "output_type": "stream",
       "stream": "stdout",
       "text": [
        "  ===> Imported /ssd/mjuric/galex_gr5/AIS/GR5_66_65N.csv.gz                            [124/180, 68.89%] + 298598/302296   55039278 (8/12 min.)\r\n"
       ]
      },
      {
       "output_type": "stream",
       "stream": "stdout",
       "text": [
        "  ===> Imported /ssd/mjuric/galex_gr5/AIS/GR5_64_65S.csv.gz                            [125/180, 69.44%] + 374156/377622   55413434 (8/12 min.)\r\n"
       ]
      },
      {
       "output_type": "stream",
       "stream": "stdout",
       "text": [
        "  ===> Imported /ssd/mjuric/galex_gr5/AIS/GR5_65_66S.csv.gz                            [126/180, 70.00%] + 387071/390584   55800505 (8/12 min.)\r\n"
       ]
      },
      {
       "output_type": "stream",
       "stream": "stdout",
       "text": [
        "  ===> Imported /ssd/mjuric/galex_gr5/AIS/GR5_67_66N.csv.gz                            [127/180, 70.56%] + 268770/272446   56069275 (8/12 min.)\r\n"
       ]
      },
      {
       "output_type": "stream",
       "stream": "stdout",
       "text": [
        "  ===> Imported /ssd/mjuric/galex_gr5/AIS/GR5_69_68N.csv.gz                            [128/180, 71.11%] + 283671/287506   56352946 (8/12 min.)\r\n"
       ]
      },
      {
       "output_type": "stream",
       "stream": "stdout",
       "text": [
        "  ===> Imported /ssd/mjuric/galex_gr5/AIS/GR5_70_69N.csv.gz                            [129/180, 71.67%] + 277536/281102   56630482 (8/12 min.)\r\n"
       ]
      },
      {
       "output_type": "stream",
       "stream": "stdout",
       "text": [
        "  ===> Imported /ssd/mjuric/galex_gr5/AIS/GR5_68_67N.csv.gz                            [130/180, 72.22%] + 272424/275985   56902906 (8/12 min.)\r\n"
       ]
      },
      {
       "output_type": "stream",
       "stream": "stdout",
       "text": [
        "  ===> Imported /ssd/mjuric/galex_gr5/AIS/GR5_71_70N.csv.gz                            [131/180, 72.78%] + 268196/271880   57171102 (8/11 min.)\r\n"
       ]
      },
      {
       "output_type": "stream",
       "stream": "stdout",
       "text": [
        "  ===> Imported /ssd/mjuric/galex_gr5/AIS/GR5_68_69S.csv.gz                            [132/180, 73.33%] + 328781/331782   57499883 (8/11 min.)\r\n"
       ]
      },
      {
       "output_type": "stream",
       "stream": "stdout",
       "text": [
        "  ===> Imported /ssd/mjuric/galex_gr5/AIS/GR5_67_68S.csv.gz                            [133/180, 73.89%] + 358275/361486   57858158 (8/11 min.)\r\n"
       ]
      },
      {
       "output_type": "stream",
       "stream": "stdout",
       "text": [
        "  ===> Imported /ssd/mjuric/galex_gr5/AIS/GR5_70_71S.csv.gz                            [134/180, 74.44%] + 290339/293166   58148497 (8/11 min.)\r\n"
       ]
      },
      {
       "output_type": "stream",
       "stream": "stdout",
       "text": [
        "  ===> Imported /ssd/mjuric/galex_gr5/AIS/GR5_66_67S.csv.gz                            [135/180, 75.00%] + 374415/377879   58522912 (8/11 min.)\r\n"
       ]
      },
      {
       "output_type": "stream",
       "stream": "stdout",
       "text": [
        "  ===> Imported /ssd/mjuric/galex_gr5/AIS/GR5_69_70S.csv.gz                            [136/180, 75.56%] + 314395/317294   58837307 (8/11 min.)\r\n"
       ]
      },
      {
       "output_type": "stream",
       "stream": "stdout",
       "text": [
        "  ===> Imported /ssd/mjuric/galex_gr5/AIS/GR5_71_72S.csv.gz                            [137/180, 76.11%] + 299508/302245   59136815 (8/11 min.)\r\n"
       ]
      },
      {
       "output_type": "stream",
       "stream": "stdout",
       "text": [
        "  ===> Imported /ssd/mjuric/galex_gr5/AIS/GR5_73_72N.csv.gz                            [138/180, 76.67%] + 246653/249643   59383468 (9/11 min.)\r\n"
       ]
      },
      {
       "output_type": "stream",
       "stream": "stdout",
       "text": [
        "  ===> Imported /ssd/mjuric/galex_gr5/AIS/GR5_72_71N.csv.gz                            [139/180, 77.22%] + 264571/268092   59648039 (9/11 min.)\r\n"
       ]
      },
      {
       "output_type": "stream",
       "stream": "stdout",
       "text": [
        "  ===> Imported /ssd/mjuric/galex_gr5/AIS/GR5_7_6N.csv.gz                              [140/180, 77.78%] +  98133/98175    59746172 (9/11 min.)\r\n"
       ]
      },
      {
       "output_type": "stream",
       "stream": "stdout",
       "text": [
        "  ===> Imported /ssd/mjuric/galex_gr5/AIS/GR5_72_73S.csv.gz                            [141/180, 78.33%] + 288564/291188   60034736 (9/11 min.)\r\n"
       ]
      },
      {
       "output_type": "stream",
       "stream": "stdout",
       "text": [
        "  ===> Imported /ssd/mjuric/galex_gr5/AIS/GR5_73_74S.csv.gz                            [142/180, 78.89%] + 261079/263482   60295815 (9/11 min.)\r\n"
       ]
      },
      {
       "output_type": "stream",
       "stream": "stdout",
       "text": [
        "  ===> Imported /ssd/mjuric/galex_gr5/AIS/GR5_7_8S.csv.gz                              [143/180, 79.44%] + 101069/101122   60396884 (9/11 min.)\r\n"
       ]
      },
      {
       "output_type": "stream",
       "stream": "stdout",
       "text": [
        "  ===> Imported /ssd/mjuric/galex_gr5/AIS/GR5_74_73N.csv.gz                            [144/180, 80.00%] + 214364/217423   60611248 (9/11 min.)\r\n"
       ]
      },
      {
       "output_type": "stream",
       "stream": "stdout",
       "text": [
        "  ===> Imported /ssd/mjuric/galex_gr5/AIS/GR5_75_74N.csv.gz                            [145/180, 80.56%] + 194710/197624   60805958 (9/11 min.)\r\n"
       ]
      },
      {
       "output_type": "stream",
       "stream": "stdout",
       "text": [
        "  ===> Imported /ssd/mjuric/galex_gr5/AIS/GR5_76_75N.csv.gz                            [146/180, 81.11%] + 191735/194620   60997693 (9/11 min.)\r\n"
       ]
      },
      {
       "output_type": "stream",
       "stream": "stdout",
       "text": [
        "  ===> Imported /ssd/mjuric/galex_gr5/AIS/GR5_78_79S.csv.gz                            [147/180, 81.67%] + 164348/165921   61162041 (9/11 min.)\r\n"
       ]
      },
      {
       "output_type": "stream",
       "stream": "stdout",
       "text": [
        "  ===> Imported /ssd/mjuric/galex_gr5/AIS/GR5_77_76N.csv.gz                            [148/180, 82.22%] + 182622/185255   61344663 (9/11 min.)\r\n"
       ]
      },
      {
       "output_type": "stream",
       "stream": "stdout",
       "text": [
        "  ===> Imported /ssd/mjuric/galex_gr5/AIS/GR5_74_75S.csv.gz                            [149/180, 82.78%] + 227341/229614   61572004 (9/11 min.)\r\n"
       ]
      },
      {
       "output_type": "stream",
       "stream": "stdout",
       "text": [
        "  ===> Imported /ssd/mjuric/galex_gr5/AIS/GR5_75_76S.csv.gz                            [150/180, 83.33%] + 221423/223600   61793427 (9/11 min.)\r\n"
       ]
      },
      {
       "output_type": "stream",
       "stream": "stdout",
       "text": [
        "  ===> Imported /ssd/mjuric/galex_gr5/AIS/GR5_78_77N.csv.gz                            [151/180, 83.89%] + 171552/174054   61964979 (9/11 min.)\r\n"
       ]
      },
      {
       "output_type": "stream",
       "stream": "stdout",
       "text": [
        "  ===> Imported /ssd/mjuric/galex_gr5/AIS/GR5_77_78S.csv.gz                            [152/180, 84.44%] + 188719/190643   62153698 (9/11 min.)\r\n"
       ]
      },
      {
       "output_type": "stream",
       "stream": "stdout",
       "text": [
        "  ===> Imported /ssd/mjuric/galex_gr5/AIS/GR5_79_78N.csv.gz                            [153/180, 85.00%] + 161063/163374   62314761 (9/11 min.)\r\n"
       ]
      },
      {
       "output_type": "stream",
       "stream": "stdout",
       "text": [
        "  ===> Imported /ssd/mjuric/galex_gr5/AIS/GR5_80_79N.csv.gz                            [154/180, 85.56%] + 140620/142788   62455381 (9/10 min.)\r\n"
       ]
      },
      {
       "output_type": "stream",
       "stream": "stdout",
       "text": [
        "  ===> Imported /ssd/mjuric/galex_gr5/AIS/GR5_76_77S.csv.gz                            [155/180, 86.11%] + 214957/216950   62670338 (9/10 min.)\r\n"
       ]
      },
      {
       "output_type": "stream",
       "stream": "stdout",
       "text": [
        "  ===> Imported /ssd/mjuric/galex_gr5/AIS/GR5_83_82N.csv.gz                            [156/180, 86.67%] +  94805/96354    62765143 (9/10 min.)\r\n"
       ]
      },
      {
       "output_type": "stream",
       "stream": "stdout",
       "text": [
        "  ===> Imported /ssd/mjuric/galex_gr5/AIS/GR5_79_80S.csv.gz                            [157/180, 87.22%] + 148141/149581   62913284 (9/10 min.)\r\n"
       ]
      },
      {
       "output_type": "stream",
       "stream": "stdout",
       "text": [
        "  ===> Imported /ssd/mjuric/galex_gr5/AIS/GR5_82_81N.csv.gz                            [158/180, 87.78%] + 105471/107108   63018755 (9/10 min.)\r\n"
       ]
      },
      {
       "output_type": "stream",
       "stream": "stdout",
       "text": [
        "  ===> Imported /ssd/mjuric/galex_gr5/AIS/GR5_81_80N.csv.gz                            [159/180, 88.33%] + 121846/123727   63140601 (9/10 min.)\r\n"
       ]
      },
      {
       "output_type": "stream",
       "stream": "stdout",
       "text": [
        "  ===> Imported /ssd/mjuric/galex_gr5/AIS/GR5_84_83N.csv.gz                            [160/180, 88.89%] +  81205/82568    63221806 (9/10 min.)\r\n"
       ]
      },
      {
       "output_type": "stream",
       "stream": "stdout",
       "text": [
        "  ===> Imported /ssd/mjuric/galex_gr5/AIS/GR5_85_84N.csv.gz                            [161/180, 89.44%] +  60460/61369    63282266 (9/10 min.)\r\n"
       ]
      },
      {
       "output_type": "stream",
       "stream": "stdout",
       "text": [
        "  ===> Imported /ssd/mjuric/galex_gr5/AIS/GR5_89_90S.csv.gz                            [162/180, 90.00%] +   8459/8524     63290725 (9/10 min.)\r\n"
       ]
      },
      {
       "output_type": "stream",
       "stream": "stdout",
       "text": [
        "  ===> Imported /ssd/mjuric/galex_gr5/AIS/GR5_86_85N.csv.gz                            [163/180, 90.56%] +  56870/57581    63347595 (9/10 min.)\r\n"
       ]
      },
      {
       "output_type": "stream",
       "stream": "stdout",
       "text": [
        "  ===> Imported /ssd/mjuric/galex_gr5/AIS/GR5_90_89N.csv.gz                            [164/180, 91.11%] +   1449/1450     63349044 (9/10 min.)\r\n"
       ]
      },
      {
       "output_type": "stream",
       "stream": "stdout",
       "text": [
        "  ===> Imported /ssd/mjuric/galex_gr5/AIS/GR5_87_88S.csv.gz                            [165/180, 91.67%] +  29673/29904    63378717 (9/10 min.)\r\n"
       ]
      },
      {
       "output_type": "stream",
       "stream": "stdout",
       "text": [
        "  ===> Imported /ssd/mjuric/galex_gr5/AIS/GR5_88_89S.csv.gz                            [166/180, 92.22%] +  20945/21083    63399662 (9/10 min.)\r\n"
       ]
      },
      {
       "output_type": "stream",
       "stream": "stdout",
       "text": [
        "  ===> Imported /ssd/mjuric/galex_gr5/AIS/GR5_83_84S.csv.gz                            [167/180, 92.78%] +  97298/98157    63496960 (9/10 min.)\r\n"
       ]
      },
      {
       "output_type": "stream",
       "stream": "stdout",
       "text": [
        "  ===> Imported /ssd/mjuric/galex_gr5/AIS/GR5_84_85S.csv.gz                            [168/180, 93.33%] +  79680/80403    63576640 (9/10 min.)\r\n"
       ]
      },
      {
       "output_type": "stream",
       "stream": "stdout",
       "text": [
        "  ===> Imported /ssd/mjuric/galex_gr5/AIS/GR5_85_86S.csv.gz                            [169/180, 93.89%] +  73696/74366    63650336 (9/10 min.)\r\n"
       ]
      },
      {
       "output_type": "stream",
       "stream": "stdout",
       "text": [
        "  ===> Imported /ssd/mjuric/galex_gr5/AIS/GR5_86_87S.csv.gz                            [170/180, 94.44%] +  52634/53082    63702970 (9/10 min.)\r\n"
       ]
      },
      {
       "output_type": "stream",
       "stream": "stdout",
       "text": [
        "  ===> Imported /ssd/mjuric/galex_gr5/AIS/GR5_89_88N.csv.gz                            [171/180, 95.00%] +  20655/20888    63723625 (9/10 min.)\r\n"
       ]
      },
      {
       "output_type": "stream",
       "stream": "stdout",
       "text": [
        "  ===> Imported /ssd/mjuric/galex_gr5/AIS/GR5_88_87N.csv.gz                            [172/180, 95.56%] +  33820/34321    63757445 (9/10 min.)\r\n"
       ]
      },
      {
       "output_type": "stream",
       "stream": "stdout",
       "text": [
        "  ===> Imported /ssd/mjuric/galex_gr5/AIS/GR5_87_86N.csv.gz                            [173/180, 96.11%] +  49462/50082    63806907 (9/9 min.)\r\n"
       ]
      },
      {
       "output_type": "stream",
       "stream": "stdout",
       "text": [
        "  ===> Imported /ssd/mjuric/galex_gr5/AIS/GR5_80_81S.csv.gz                            [174/180, 96.67%] + 176432/177765   63983339 (9/9 min.)\r\n"
       ]
      },
      {
       "output_type": "stream",
       "stream": "stdout",
       "text": [
        "  ===> Imported /ssd/mjuric/galex_gr5/AIS/GR5_82_83S.csv.gz                            [175/180, 97.22%] + 117107/118193   64100446 (9/9 min.)\r\n"
       ]
      },
      {
       "output_type": "stream",
       "stream": "stdout",
       "text": [
        "  ===> Imported /ssd/mjuric/galex_gr5/AIS/GR5_81_82S.csv.gz                            [176/180, 97.78%] + 163628/164885   64264074 (9/9 min.)\r\n"
       ]
      },
      {
       "output_type": "stream",
       "stream": "stdout",
       "text": [
        "  ===> Imported /ssd/mjuric/galex_gr5/AIS/GR5_8_9S.csv.gz                              [177/180, 98.33%] + 120399/120472   64384473 (9/9 min.)\r\n"
       ]
      },
      {
       "output_type": "stream",
       "stream": "stdout",
       "text": [
        "  ===> Imported /ssd/mjuric/galex_gr5/AIS/GR5_8_7N.csv.gz                              [178/180, 98.89%] + 137730/137803   64522203 (9/9 min.)\r\n"
       ]
      },
      {
       "output_type": "stream",
       "stream": "stdout",
       "text": [
        "  ===> Imported /ssd/mjuric/galex_gr5/AIS/GR5_9_10S.csv.gz                             [179/180, 99.44%] + 152055/152130   64674258 (9/9 min.)\r\n"
       ]
      },
      {
       "output_type": "stream",
       "stream": "stdout",
       "text": [
        "  ===> Imported /ssd/mjuric/galex_gr5/AIS/GR5_9_8N.csv.gz                              [180/180, 100.00%] + 258214/258325   64932472 (10/10 min.)\r\n"
       ]
      },
      {
       "output_type": "stream",
       "stream": "stdout",
       "text": [
        "done\r\n",
        "\r\n",
        "-------- committing 20150202204549.573558 [galex_gr5] ---------\r\n",
        "[galex_gr5] Updating tablet catalog:"
       ]
      },
      {
       "output_type": "stream",
       "stream": "stdout",
       "text": [
        " [256 el.]"
       ]
      },
      {
       "output_type": "stream",
       "stream": "stdout",
       "text": [
        ":"
       ]
      },
      {
       "output_type": "stream",
       "stream": "stdout",
       "text": [
        ":"
       ]
      },
      {
       "output_type": "stream",
       "stream": "stdout",
       "text": [
        ":"
       ]
      },
      {
       "output_type": "stream",
       "stream": "stdout",
       "text": [
        ":"
       ]
      },
      {
       "output_type": "stream",
       "stream": "stdout",
       "text": [
        ":"
       ]
      },
      {
       "output_type": "stream",
       "stream": "stdout",
       "text": [
        ":"
       ]
      },
      {
       "output_type": "stream",
       "stream": "stdout",
       "text": [
        ":"
       ]
      },
      {
       "output_type": "stream",
       "stream": "stdout",
       "text": [
        ":"
       ]
      },
      {
       "output_type": "stream",
       "stream": "stdout",
       "text": [
        ":"
       ]
      },
      {
       "output_type": "stream",
       "stream": "stdout",
       "text": [
        ":"
       ]
      },
      {
       "output_type": "stream",
       "stream": "stdout",
       "text": [
        ":"
       ]
      },
      {
       "output_type": "stream",
       "stream": "stdout",
       "text": [
        ":"
       ]
      },
      {
       "output_type": "stream",
       "stream": "stdout",
       "text": [
        ":"
       ]
      },
      {
       "output_type": "stream",
       "stream": "stdout",
       "text": [
        ":"
       ]
      },
      {
       "output_type": "stream",
       "stream": "stdout",
       "text": [
        ":"
       ]
      },
      {
       "output_type": "stream",
       "stream": "stdout",
       "text": [
        ":"
       ]
      },
      {
       "output_type": "stream",
       "stream": "stdout",
       "text": [
        ":"
       ]
      },
      {
       "output_type": "stream",
       "stream": "stdout",
       "text": [
        ":"
       ]
      },
      {
       "output_type": "stream",
       "stream": "stdout",
       "text": [
        ":"
       ]
      },
      {
       "output_type": "stream",
       "stream": "stdout",
       "text": [
        ":>  2.25 sec\r\n"
       ]
      },
      {
       "output_type": "stream",
       "stream": "stdout",
       "text": [
        "[galex_gr5] Updating neighbors: [2668 el.]"
       ]
      },
      {
       "output_type": "stream",
       "stream": "stdout",
       "text": [
        ":"
       ]
      },
      {
       "output_type": "stream",
       "stream": "stdout",
       "text": [
        ":"
       ]
      },
      {
       "output_type": "stream",
       "stream": "stdout",
       "text": [
        ":"
       ]
      },
      {
       "output_type": "stream",
       "stream": "stdout",
       "text": [
        ":"
       ]
      },
      {
       "output_type": "stream",
       "stream": "stdout",
       "text": [
        ":"
       ]
      },
      {
       "output_type": "stream",
       "stream": "stdout",
       "text": [
        ":"
       ]
      },
      {
       "output_type": "stream",
       "stream": "stdout",
       "text": [
        ":"
       ]
      },
      {
       "output_type": "stream",
       "stream": "stdout",
       "text": [
        ":"
       ]
      },
      {
       "output_type": "stream",
       "stream": "stdout",
       "text": [
        ":"
       ]
      },
      {
       "output_type": "stream",
       "stream": "stdout",
       "text": [
        ":"
       ]
      },
      {
       "output_type": "stream",
       "stream": "stdout",
       "text": [
        ":"
       ]
      },
      {
       "output_type": "stream",
       "stream": "stdout",
       "text": [
        ":"
       ]
      },
      {
       "output_type": "stream",
       "stream": "stdout",
       "text": [
        ":"
       ]
      },
      {
       "output_type": "stream",
       "stream": "stdout",
       "text": [
        ":"
       ]
      },
      {
       "output_type": "stream",
       "stream": "stdout",
       "text": [
        ":"
       ]
      },
      {
       "output_type": "stream",
       "stream": "stdout",
       "text": [
        ":"
       ]
      },
      {
       "output_type": "stream",
       "stream": "stdout",
       "text": [
        ":"
       ]
      },
      {
       "output_type": "stream",
       "stream": "stdout",
       "text": [
        ":"
       ]
      },
      {
       "output_type": "stream",
       "stream": "stdout",
       "text": [
        ":"
       ]
      },
      {
       "output_type": "stream",
       "stream": "stdout",
       "text": [
        ":[2954 el.]"
       ]
      },
      {
       "output_type": "stream",
       "stream": "stdout",
       "text": [
        "+"
       ]
      },
      {
       "output_type": "stream",
       "stream": "stdout",
       "text": [
        "+"
       ]
      },
      {
       "output_type": "stream",
       "stream": "stdout",
       "text": [
        "+"
       ]
      },
      {
       "output_type": "stream",
       "stream": "stdout",
       "text": [
        "+"
       ]
      },
      {
       "output_type": "stream",
       "stream": "stdout",
       "text": [
        "+"
       ]
      },
      {
       "output_type": "stream",
       "stream": "stdout",
       "text": [
        "+"
       ]
      },
      {
       "output_type": "stream",
       "stream": "stdout",
       "text": [
        "+"
       ]
      },
      {
       "output_type": "stream",
       "stream": "stdout",
       "text": [
        "+"
       ]
      },
      {
       "output_type": "stream",
       "stream": "stdout",
       "text": [
        "+"
       ]
      },
      {
       "output_type": "stream",
       "stream": "stdout",
       "text": [
        "+"
       ]
      },
      {
       "output_type": "stream",
       "stream": "stdout",
       "text": [
        "+"
       ]
      },
      {
       "output_type": "stream",
       "stream": "stdout",
       "text": [
        "+"
       ]
      },
      {
       "output_type": "stream",
       "stream": "stdout",
       "text": [
        "+"
       ]
      },
      {
       "output_type": "stream",
       "stream": "stdout",
       "text": [
        "+"
       ]
      },
      {
       "output_type": "stream",
       "stream": "stdout",
       "text": [
        "+"
       ]
      },
      {
       "output_type": "stream",
       "stream": "stdout",
       "text": [
        "+"
       ]
      },
      {
       "output_type": "stream",
       "stream": "stdout",
       "text": [
        "+"
       ]
      },
      {
       "output_type": "stream",
       "stream": "stdout",
       "text": [
        "+"
       ]
      },
      {
       "output_type": "stream",
       "stream": "stdout",
       "text": [
        "+"
       ]
      },
      {
       "output_type": "stream",
       "stream": "stdout",
       "text": [
        "+"
       ]
      },
      {
       "output_type": "stream",
       "stream": "stdout",
       "text": [
        ">  61.90 sec\r\n",
        "            Total 4472059 cached objects in 2954 cells\r\n",
        "[galex_gr5] Updating tablet catalog: [256 el.]"
       ]
      },
      {
       "output_type": "stream",
       "stream": "stdout",
       "text": [
        ":"
       ]
      },
      {
       "output_type": "stream",
       "stream": "stdout",
       "text": [
        ":"
       ]
      },
      {
       "output_type": "stream",
       "stream": "stdout",
       "text": [
        ":"
       ]
      },
      {
       "output_type": "stream",
       "stream": "stdout",
       "text": [
        ":"
       ]
      },
      {
       "output_type": "stream",
       "stream": "stdout",
       "text": [
        ":"
       ]
      },
      {
       "output_type": "stream",
       "stream": "stdout",
       "text": [
        ":"
       ]
      },
      {
       "output_type": "stream",
       "stream": "stdout",
       "text": [
        ":"
       ]
      },
      {
       "output_type": "stream",
       "stream": "stdout",
       "text": [
        ":"
       ]
      },
      {
       "output_type": "stream",
       "stream": "stdout",
       "text": [
        ":"
       ]
      },
      {
       "output_type": "stream",
       "stream": "stdout",
       "text": [
        ":"
       ]
      },
      {
       "output_type": "stream",
       "stream": "stdout",
       "text": [
        ":"
       ]
      },
      {
       "output_type": "stream",
       "stream": "stdout",
       "text": [
        ":"
       ]
      },
      {
       "output_type": "stream",
       "stream": "stdout",
       "text": [
        ":"
       ]
      },
      {
       "output_type": "stream",
       "stream": "stdout",
       "text": [
        ":"
       ]
      },
      {
       "output_type": "stream",
       "stream": "stdout",
       "text": [
        ":"
       ]
      },
      {
       "output_type": "stream",
       "stream": "stdout",
       "text": [
        ":"
       ]
      },
      {
       "output_type": "stream",
       "stream": "stdout",
       "text": [
        ":"
       ]
      },
      {
       "output_type": "stream",
       "stream": "stdout",
       "text": [
        "::"
       ]
      },
      {
       "output_type": "stream",
       "stream": "stdout",
       "text": [
        ":>  2.49 sec\r\n"
       ]
      },
      {
       "output_type": "stream",
       "stream": "stdout",
       "text": [
        "[galex_gr5] Updating stats: [2954 el.]"
       ]
      },
      {
       "output_type": "stream",
       "stream": "stdout",
       "text": [
        ":::::::::"
       ]
      },
      {
       "output_type": "stream",
       "stream": "stdout",
       "text": [
        "::::::::"
       ]
      },
      {
       "output_type": "stream",
       "stream": "stdout",
       "text": [
        ":::>  0.18 sec [2954 el.]"
       ]
      },
      {
       "output_type": "stream",
       "stream": "stdout",
       "text": [
        ":"
       ]
      },
      {
       "output_type": "stream",
       "stream": "stdout",
       "text": [
        ":"
       ]
      },
      {
       "output_type": "stream",
       "stream": "stdout",
       "text": [
        ":"
       ]
      },
      {
       "output_type": "stream",
       "stream": "stdout",
       "text": [
        ":"
       ]
      },
      {
       "output_type": "stream",
       "stream": "stdout",
       "text": [
        ":"
       ]
      },
      {
       "output_type": "stream",
       "stream": "stdout",
       "text": [
        ":"
       ]
      },
      {
       "output_type": "stream",
       "stream": "stdout",
       "text": [
        ":"
       ]
      },
      {
       "output_type": "stream",
       "stream": "stdout",
       "text": [
        ":"
       ]
      },
      {
       "output_type": "stream",
       "stream": "stdout",
       "text": [
        ":"
       ]
      },
      {
       "output_type": "stream",
       "stream": "stdout",
       "text": [
        ":"
       ]
      },
      {
       "output_type": "stream",
       "stream": "stdout",
       "text": [
        ":"
       ]
      },
      {
       "output_type": "stream",
       "stream": "stdout",
       "text": [
        ":"
       ]
      },
      {
       "output_type": "stream",
       "stream": "stdout",
       "text": [
        ":"
       ]
      },
      {
       "output_type": "stream",
       "stream": "stdout",
       "text": [
        ":"
       ]
      },
      {
       "output_type": "stream",
       "stream": "stdout",
       "text": [
        ":"
       ]
      },
      {
       "output_type": "stream",
       "stream": "stdout",
       "text": [
        ":"
       ]
      },
      {
       "output_type": "stream",
       "stream": "stdout",
       "text": [
        ":"
       ]
      },
      {
       "output_type": "stream",
       "stream": "stdout",
       "text": [
        ":"
       ]
      },
      {
       "output_type": "stream",
       "stream": "stdout",
       "text": [
        ":"
       ]
      },
      {
       "output_type": "stream",
       "stream": "stdout",
       "text": [
        ":>  4.36 sec\r\n"
       ]
      },
      {
       "output_type": "stream",
       "stream": "stdout",
       "text": [
        "[galex_gr5] Marking tablets read-only...\r\n"
       ]
      },
      {
       "output_type": "stream",
       "stream": "stdout",
       "text": [
        "----------- success 20150202204549.573558 [galex_gr5] ---------\r\n",
        "\r\n"
       ]
      }
     ],
     "prompt_number": 18
    },
    {
     "cell_type": "markdown",
     "metadata": {},
     "source": [
      "Let's take a look at the results:"
     ]
    },
    {
     "cell_type": "code",
     "collapsed": false,
     "input": [
      "! lsd-admin desc table galex_gr5"
     ],
     "language": "python",
     "metadata": {},
     "outputs": [
      {
       "output_type": "stream",
       "stream": "stdout",
       "text": [
        "Path:          /ssd/mjuric/db/galex_gr5\r\n",
        "Partitioning:  level=6\r\n",
        "(t0, dt):      54335.000000, 1.000000 \r\n",
        "Rows:          64932472\r\n",
        "Columns:       56\r\n",
        "Primary key:   galex_id\r\n",
        "Spatial keys:  (ra, dec)\r\n",
        "Aliases:       []\r\n",
        "Column groups: ['common', 'astrometry', 'photoextra', 'survey']\r\n",
        "-------------------------------\r\n",
        "Column group 'common':\r\n",
        "              Column       Type\r\n",
        "-------------------------------\r\n",
        "            galex_id         u8\r\n",
        "               objid         u8\r\n",
        "                  ra         f8\r\n",
        "                 dec         f8\r\n",
        "                glon         f8\r\n",
        "                glat         f8\r\n",
        "          fov_radius         f4\r\n",
        "             objtype         i2\r\n",
        "                e_bv         f4\r\n",
        "             fuv_mag         f4\r\n",
        "          fuv_magerr         f4\r\n",
        "             nuv_mag         f4\r\n",
        "          nuv_magerr         f4\r\n",
        "      photoextractid         u8\r\n",
        "-------------------------------\r\n",
        "-------------------------------\r\n",
        "Column group 'astrometry':\r\n",
        "              Column       Type\r\n",
        "-------------------------------\r\n",
        "         fuv_x_image         f4\r\n",
        "         fuv_y_image         f4\r\n",
        "         nuv_x_image         f4\r\n",
        "         nuv_y_image         f4\r\n",
        "      fuv_fwhm_image         f4\r\n",
        "      nuv_fwhm_image         f4\r\n",
        "      fuv_fwhm_world         f4\r\n",
        "      nuv_fwhm_world         f4\r\n",
        "-------------------------------\r\n",
        "-------------------------------\r\n",
        "Column group 'photoextra':\r\n",
        "              Column       Type\r\n",
        "-------------------------------\r\n",
        "        fuv_mag_best         f4\r\n",
        "     fuv_magerr_best         f4\r\n",
        "        nuv_mag_best         f4\r\n",
        "     nuv_magerr_best         f4\r\n",
        "        fuv_mag_auto         f4\r\n",
        "     fuv_magerr_auto         f4\r\n",
        "        nuv_mag_auto         f4\r\n",
        "     nuv_magerr_auto         f4\r\n",
        "      fuv_mag_aper_4         f4\r\n",
        "   fuv_magerr_aper_4         f4\r\n",
        "      nuv_mag_aper_4         f4\r\n",
        "   nuv_magerr_aper_4         f4\r\n",
        "      fuv_mag_aper_6         f4\r\n",
        "   fuv_magerr_aper_6         f4\r\n",
        "      nuv_mag_aper_6         f4\r\n",
        "   nuv_magerr_aper_6         f4\r\n",
        "        fuv_artifact         f4\r\n",
        "        nuv_artifact         f4\r\n",
        "           fuv_flags         f4\r\n",
        "           nuv_flags         f4\r\n",
        "            fuv_flux         f4\r\n",
        "         fuv_fluxerr         f4\r\n",
        "            nuv_flux         f4\r\n",
        "         nuv_fluxerr         f4\r\n",
        "-------------------------------\r\n",
        "-------------------------------\r\n",
        "Column group 'survey':\r\n",
        "              Column       Type\r\n",
        "-------------------------------\r\n",
        "             tilenum         i4\r\n",
        "                 img         i4\r\n",
        "            subvisit         i2\r\n",
        "                type         i4\r\n",
        "                band         i4\r\n",
        "     istherespectrum       bool\r\n",
        "             quality         u4\r\n",
        "             mpstype         a3\r\n",
        "             avaspra         f8\r\n",
        "            avaspdec         f8\r\n",
        "-------------------------------\r\n",
        "\r\n"
       ]
      }
     ],
     "prompt_number": 19
    },
    {
     "cell_type": "markdown",
     "metadata": {},
     "source": [
      "We'll also run a simple query to verify everything went well:"
     ]
    },
    {
     "cell_type": "code",
     "collapsed": false,
     "input": [
      "! lsd-query --bounds='beam(200, 40, 0.05)' 'select ra, dec from galex_gr5'"
     ],
     "language": "python",
     "metadata": {},
     "outputs": [
      {
       "output_type": "stream",
       "stream": "stdout",
       "text": [
        " [1 el.]"
       ]
      },
      {
       "output_type": "stream",
       "stream": "stdout",
       "text": [
        "# ra dec\r\n",
        "200.04181256  40.03587815\r\n",
        "200.01544321  40.03985440\r\n",
        "200.00277167  40.04305844\r\n",
        "200.04301683  40.02616514\r\n",
        "199.98732057  40.04468333\r\n",
        "200.00715855  40.03633683\r\n",
        "200.00200786  40.03390349\r\n",
        "199.97665652  40.03796833\r\n",
        "200.00328418  40.02489863\r\n",
        "199.96540620  40.03540704\r\n",
        "199.98759011  40.02474009\r\n",
        "200.05094582  39.99850505\r\n",
        "199.95872222  40.03320993\r\n",
        "200.06333921  39.99205481\r\n",
        "200.01753157  40.00905797\r\n",
        "199.97098001  40.02651409\r\n",
        "200.01638162  40.00683932\r\n",
        "199.97150144  40.01562935\r\n",
        "200.04897906  39.98308925\r\n",
        "199.96764276  40.01401267\r\n",
        "200.04633688  39.98063260\r\n",
        "199.99545478  39.99948083\r\n",
        "200.01283361  39.98839250\r\n",
        "200.03133776  39.98075725\r\n",
        "199.98572537  39.99559341\r\n",
        "200.01998175  39.97952577\r\n",
        "199.97686564  39.99094654\r\n",
        "199.99107164  39.98123792\r\n",
        "::::::::::::::::::::>  0.14 sec\r\n",
        "28 rows selected.\r\n"
       ]
      }
     ],
     "prompt_number": 20
    },
    {
     "cell_type": "heading",
     "level": 3,
     "metadata": {},
     "source": [
      "Fetching from remote LSD servers"
     ]
    },
    {
     "cell_type": "markdown",
     "metadata": {},
     "source": [
      "Tables can also be fetched from remote LSD servers. First, we need to tell LSD about the address of a remote server and the table we wish to follow:"
     ]
    },
    {
     "cell_type": "code",
     "collapsed": false,
     "input": [
      "! lsd-admin remote follow table http://faun.rc.fas.harvard.edu/mjuric/db/public sdss"
     ],
     "language": "python",
     "metadata": {},
     "outputs": [
      {
       "output_type": "stream",
       "stream": "stdout",
       "text": [
        "Table 'sdss' follows remote table 'http://faun.rc.fas.harvard.edu/mjuric/db/public/sdss'\r\n"
       ]
      }
     ],
     "prompt_number": 21
    },
    {
     "cell_type": "markdown",
     "metadata": {},
     "source": [
      "Then, we can either query the table right away -- for example:"
     ]
    },
    {
     "cell_type": "code",
     "collapsed": false,
     "input": [
      "! lsd-query --bounds='beam(200, 40, 0.01)' 'select ra, dec from sdss'"
     ],
     "language": "python",
     "metadata": {},
     "outputs": [
      {
       "output_type": "stream",
       "stream": "stdout",
       "text": [
        " [1 el.]"
       ]
      },
      {
       "output_type": "stream",
       "stream": "stdout",
       "text": [
        "# ra dec\r\n",
        "200.00338260  39.99759555\r\n",
        "199.99647699  40.00741186\r\n",
        "199.99511395  39.99939921\r\n",
        "199.99955972  39.99619678\r\n",
        "::::::::::::::::::::>  1.24 sec\r\n",
        "4 rows selected.\r\n"
       ]
      }
     ],
     "prompt_number": 22
    },
    {
     "cell_type": "markdown",
     "metadata": {},
     "source": [
      "When we run a query against a remote table, the pieces needed to answer the query are downloaded and cached locally:"
     ]
    },
    {
     "cell_type": "code",
     "collapsed": false,
     "input": [
      "! ls $LSD_DB"
     ],
     "language": "python",
     "metadata": {},
     "outputs": [
      {
       "output_type": "stream",
       "stream": "stdout",
       "text": [
        "galex_gr5  sdss\r\n"
       ]
      }
     ],
     "prompt_number": 23
    },
    {
     "cell_type": "code",
     "collapsed": false,
     "input": [
      "! du -h --max-depth=1 $LSD_DB/sdss"
     ],
     "language": "python",
     "metadata": {},
     "outputs": [
      {
       "output_type": "stream",
       "stream": "stdout",
       "text": [
        "8.0K\t/ssd/mjuric/db/sdss/snapshots\r\n",
        "4.7M\t/ssd/mjuric/db/sdss/tablets\r\n",
        "4.8M\t/ssd/mjuric/db/sdss\r\n"
       ]
      }
     ],
     "prompt_number": 24
    },
    {
     "cell_type": "markdown",
     "metadata": {},
     "source": [
      "Let's add more columns to the query:"
     ]
    },
    {
     "cell_type": "code",
     "collapsed": false,
     "input": [
      "! lsd-query --bounds='beam(200, 40, 0.01)' 'select * from sdss'"
     ],
     "language": "python",
     "metadata": {},
     "outputs": [
      {
       "output_type": "stream",
       "stream": "stdout",
       "text": [
        " [1 el.]"
       ]
      },
      {
       "output_type": "stream",
       "stream": "stdout",
       "text": [
        "# sdss_id ra dec l b type flags flags2 resolve_status u uErr uExt uCalib g gErr gExt gCalib r rErr rExt rCalib i iErr iExt iCalib z zErr zExt zCalib run camcol field objid\r\n",
        " 5556351224640585380 200.00338260  39.99759555 100.02322715  75.83328464           6   268435968          16    257  23.268   0.620   0.071      1  21.931   0.072   0.052      1  20.468   0.029   0.038      1  19.268   0.018   0.029      1  18.561   0.030   0.020      1        3900           6         451         573\r\n",
        " 5556351224640585450 199.99647699  40.00741186 100.06062515  75.82691840           6   268566784      102400    257  23.504   0.757   0.072      1  30.000 108.175   0.053      1  24.893   1.372   0.038      1  24.422   1.492   0.029      1  21.042   0.239   0.021      1        3900           6         451         971\r\n",
        " 5556351224640589662 199.99511395  39.99939921 100.04964599  75.83453875           3 -1879048192         562    257  21.624   0.161   0.072      1  21.850   0.073   0.053      1  22.053   0.120   0.038      1  22.484   0.287   0.029      1  22.735   1.264   0.021      1        3900           6         451         254\r\n",
        " 5556351224640589763 199.99955972  39.99619678 100.03131678  75.83585643           3   268435968          16    257  24.489   2.283   0.071      1  22.355   0.124   0.053      1  21.441   0.079   0.038      1  21.221   0.105   0.029      1  21.329   0.403   0.020      1        3900           6         451         565\r\n",
        "::::::::::::::::::::>  1.87 sec\r\n",
        "4 rows selected.\r\n"
       ]
      }
     ],
     "prompt_number": 25
    },
    {
     "cell_type": "code",
     "collapsed": false,
     "input": [
      "! du -h --max-depth=1 $LSD_DB/sdss"
     ],
     "language": "python",
     "metadata": {},
     "outputs": [
      {
       "output_type": "stream",
       "stream": "stdout",
       "text": [
        "8.0K\t/ssd/mjuric/db/sdss/snapshots\r\n",
        "14M\t/ssd/mjuric/db/sdss/tablets\r\n",
        "14M\t/ssd/mjuric/db/sdss\r\n"
       ]
      }
     ],
     "prompt_number": 26
    },
    {
     "cell_type": "markdown",
     "metadata": {},
     "source": [
      "Note how the size of the `sdss` table has grown, as extra column groups were downloaded from the server and stored.\n",
      "\n",
      "To download the entire table, you would run:"
     ]
    },
    {
     "cell_type": "code",
     "collapsed": false,
     "input": [
      "! lsd-admin remote fetch table sdss"
     ],
     "language": "python",
     "metadata": {},
     "outputs": [
      {
       "output_type": "stream",
       "stream": "stdout",
       "text": [
        "Fetching sdss:"
       ]
      },
      {
       "output_type": "stream",
       "stream": "stdout",
       "text": [
        " [1606 el.]"
       ]
      },
      {
       "output_type": "stream",
       "stream": "stdout",
       "text": [
        ":"
       ]
      },
      {
       "output_type": "stream",
       "stream": "stdout",
       "text": [
        ":"
       ]
      },
      {
       "output_type": "stream",
       "stream": "stdout",
       "text": [
        ":"
       ]
      },
      {
       "output_type": "stream",
       "stream": "stdout",
       "text": [
        ":"
       ]
      },
      {
       "output_type": "stream",
       "stream": "stdout",
       "text": [
        ":"
       ]
      },
      {
       "output_type": "stream",
       "stream": "stdout",
       "text": [
        ":"
       ]
      },
      {
       "output_type": "stream",
       "stream": "stdout",
       "text": [
        ":"
       ]
      },
      {
       "output_type": "stream",
       "stream": "stdout",
       "text": [
        ":"
       ]
      },
      {
       "output_type": "stream",
       "stream": "stdout",
       "text": [
        ":"
       ]
      },
      {
       "output_type": "stream",
       "stream": "stdout",
       "text": [
        ":"
       ]
      },
      {
       "output_type": "stream",
       "stream": "stdout",
       "text": [
        ":"
       ]
      },
      {
       "output_type": "stream",
       "stream": "stdout",
       "text": [
        ":"
       ]
      },
      {
       "output_type": "stream",
       "stream": "stdout",
       "text": [
        ":"
       ]
      },
      {
       "output_type": "stream",
       "stream": "stdout",
       "text": [
        ":"
       ]
      },
      {
       "output_type": "stream",
       "stream": "stdout",
       "text": [
        ":"
       ]
      },
      {
       "output_type": "stream",
       "stream": "stdout",
       "text": [
        ":"
       ]
      },
      {
       "output_type": "stream",
       "stream": "stdout",
       "text": [
        ":"
       ]
      },
      {
       "output_type": "stream",
       "stream": "stdout",
       "text": [
        ":"
       ]
      },
      {
       "output_type": "stream",
       "stream": "stdout",
       "text": [
        ":"
       ]
      },
      {
       "output_type": "stream",
       "stream": "stdout",
       "text": [
        ":>  579.49 sec\r\n"
       ]
      },
      {
       "output_type": "stream",
       "stream": "stdout",
       "text": [
        "    278674212 rows fetched.\r\n"
       ]
      }
     ],
     "prompt_number": 27
    },
    {
     "cell_type": "markdown",
     "metadata": {},
     "source": [
      "To list all catalogs available on the remote server, either run:"
     ]
    },
    {
     "cell_type": "code",
     "collapsed": false,
     "input": [
      "! lsd-admin remote list http://faun.rc.fas.harvard.edu/mjuric/db/public"
     ],
     "language": "python",
     "metadata": {},
     "outputs": [
      {
       "output_type": "stream",
       "stream": "stdout",
       "text": [
        "     TABLE sdss\r\n",
        "     TABLE usnob\r\n",
        "     TABLE galex_gr5\r\n"
       ]
      }
     ],
     "prompt_number": 28
    },
    {
     "cell_type": "markdown",
     "metadata": {},
     "source": [
      "or just visit the website http://faun.rc.fas.harvard.edu/mjuric/db/public"
     ]
    },
    {
     "cell_type": "markdown",
     "metadata": {},
     "source": [
      "Before we continue, we'll also set up LSD to follow the USNOB catalog:"
     ]
    },
    {
     "cell_type": "code",
     "collapsed": false,
     "input": [
      "! lsd-admin remote follow table http://faun.rc.fas.harvard.edu/mjuric/db/public usnob\n",
      "! lsd-admin desc table usnob"
     ],
     "language": "python",
     "metadata": {},
     "outputs": [
      {
       "output_type": "stream",
       "stream": "stdout",
       "text": [
        "Table 'usnob' follows remote table 'http://faun.rc.fas.harvard.edu/mjuric/db/public/usnob'\r\n"
       ]
      },
      {
       "output_type": "stream",
       "stream": "stdout",
       "text": [
        "Path:          /ssd/mjuric/db/usnob\r\n",
        "Partitioning:  level=6\r\n",
        "(t0, dt):      54335.000000, 1.000000 \r\n",
        "Rows:          1045175762\r\n",
        "Columns:       19\r\n",
        "Primary key:   usnob_id\r\n",
        "Spatial keys:  (ra, dec)\r\n",
        "Aliases:       []\r\n",
        "Column groups: ['common']\r\n",
        "-------------------------------\r\n",
        "Column group 'common':\r\n",
        "              Column       Type\r\n",
        "-------------------------------\r\n",
        "            usnob_id         u8\r\n",
        "                  ra         f8\r\n",
        "                 dec         f8\r\n",
        "                 sra         i2\r\n",
        "                 sde         i2\r\n",
        "               epoch         f4\r\n",
        "                muRa         i2\r\n",
        "               muDec         i2\r\n",
        "              muprob         u1\r\n",
        "              muflag         u1\r\n",
        "               smura         i2\r\n",
        "               smude         i2\r\n",
        "              sfitra         i2\r\n",
        "              sfitde         i2\r\n",
        "              nfitpt         u1\r\n",
        "                 mag        5f4\r\n",
        "               fldid        5i2\r\n",
        "                  sg        5u1\r\n",
        "            fldepoch        5f4\r\n",
        "-------------------------------\r\n",
        "\r\n"
       ]
      }
     ],
     "prompt_number": 29
    },
    {
     "cell_type": "heading",
     "level": 2,
     "metadata": {},
     "source": [
      "`lsd-query`: using LSD from the command line"
     ]
    },
    {
     "cell_type": "markdown",
     "metadata": {},
     "source": [
      "The workhorse of LSD is the `lsd-query` utility. With `lsd-query` queries can be run from the command line and output stored either as text or FITS:"
     ]
    },
    {
     "cell_type": "code",
     "collapsed": false,
     "input": [
      "! lsd-query -h"
     ],
     "language": "python",
     "metadata": {},
     "outputs": [
      {
       "output_type": "stream",
       "stream": "stdout",
       "text": [
        "option -h not recognized\r\n",
        "Usage: /ssd/mjuric/lsd/opt/lsd/current/bin/lsd-query --version --db=dbdir --define='funcname=pycode' --bounds=bounds --format=[fits|text|null] --output=[output,fits] --testbounds=True|False --quiet <query>\r\n"
       ]
      }
     ],
     "prompt_number": 30
    },
    {
     "cell_type": "markdown",
     "metadata": {},
     "source": [
      "For example, using `lsd-query` we could write:"
     ]
    },
    {
     "cell_type": "code",
     "collapsed": false,
     "input": [
      "! lsd-query --format=fits \\\n",
      "    --bounds='beam(200, 40, 1)' \\\n",
      "    'select ra, dec, g-r as gr, r from sdss where (g - r > 0.5) & (g - r < 0.6)'"
     ],
     "language": "python",
     "metadata": {},
     "outputs": [
      {
       "output_type": "stream",
       "stream": "stdout",
       "text": [
        " [3 el.]"
       ]
      },
      {
       "output_type": "stream",
       "stream": "stdout",
       "text": [
        "::::::::::::::::::::>  0.41 sec\r\n"
       ]
      },
      {
       "output_type": "stream",
       "stream": "stdout",
       "text": [
        "Output in output.fits\r\n",
        "2034 rows selected.\r\n"
       ]
      }
     ],
     "prompt_number": 31
    },
    {
     "cell_type": "markdown",
     "metadata": {},
     "source": [
      "A few to notice here:\n",
      "\n",
      "To efficiently limit the spatial extent of a query, we use the `--bounds` command line argument. It can take a number of forms, the most common ones being:\n",
      "* `beam(lon_center, lat_center, radius)`\n",
      "* `rectangle(lon_lo, lat_lo, lon_hi, lat_hi)`\n",
      "\n",
      "with all quantities given in degrees, and the longitude and latitude being in the Equatorial coordinate system unless specified  otherwise using the `coordsys` keyword -- for example, `rectangle(180, 30, 190, 40, coordsys=\"gal\")`. Specifying the bounds in this way is **significantly** more efficient than doing so in the `WHERE` clause, as LSD can be intelligent about which cells in the database it neads to query. For more details, see http://lsddb.org"
     ]
    },
    {
     "cell_type": "markdown",
     "metadata": {},
     "source": [
      "Secondly, the output has been stored as a FITS file, named `output.fits` by default (can be overridden with `--output` command line option):"
     ]
    },
    {
     "cell_type": "code",
     "collapsed": false,
     "input": [
      "! ls -l output.fits"
     ],
     "language": "python",
     "metadata": {},
     "outputs": [
      {
       "output_type": "stream",
       "stream": "stdout",
       "text": [
        "-rw-rw-r-- 1 mjuric lsst 54720 Feb  2 15:13 output.fits\r\n"
       ]
      }
     ],
     "prompt_number": 32
    },
    {
     "cell_type": "markdown",
     "metadata": {},
     "source": [
      "We can load it into this notebook using `astropy.io.fits`, and convert it to a `pandas` data frame:"
     ]
    },
    {
     "cell_type": "code",
     "collapsed": false,
     "input": [
      "import astropy.io.fits as pyfits\n",
      "import pandas as pd\n",
      "\n",
      "data = pd.DataFrame(pyfits.getdata('output.fits'))\n",
      "data"
     ],
     "language": "python",
     "metadata": {},
     "outputs": [
      {
       "html": [
        "<div style=\"max-height:1000px;max-width:1500px;overflow:auto;\">\n",
        "<table border=\"1\" class=\"dataframe\">\n",
        "  <thead>\n",
        "    <tr style=\"text-align: right;\">\n",
        "      <th></th>\n",
        "      <th>ra</th>\n",
        "      <th>dec</th>\n",
        "      <th>gr</th>\n",
        "      <th>r</th>\n",
        "    </tr>\n",
        "  </thead>\n",
        "  <tbody>\n",
        "    <tr>\n",
        "      <th>0   </th>\n",
        "      <td> 198.859203</td>\n",
        "      <td> 40.459250</td>\n",
        "      <td> 0.538992</td>\n",
        "      <td> 21.345884</td>\n",
        "    </tr>\n",
        "    <tr>\n",
        "      <th>1   </th>\n",
        "      <td> 198.893391</td>\n",
        "      <td> 40.524004</td>\n",
        "      <td> 0.502481</td>\n",
        "      <td> 22.529541</td>\n",
        "    </tr>\n",
        "    <tr>\n",
        "      <th>2   </th>\n",
        "      <td> 198.928816</td>\n",
        "      <td> 40.448585</td>\n",
        "      <td> 0.556860</td>\n",
        "      <td> 23.085464</td>\n",
        "    </tr>\n",
        "    <tr>\n",
        "      <th>3   </th>\n",
        "      <td> 199.003982</td>\n",
        "      <td> 40.506485</td>\n",
        "      <td> 0.546825</td>\n",
        "      <td> 16.772129</td>\n",
        "    </tr>\n",
        "    <tr>\n",
        "      <th>4   </th>\n",
        "      <td> 199.051265</td>\n",
        "      <td> 40.474466</td>\n",
        "      <td> 0.547041</td>\n",
        "      <td> 16.624254</td>\n",
        "    </tr>\n",
        "    <tr>\n",
        "      <th>5   </th>\n",
        "      <td> 199.136518</td>\n",
        "      <td> 40.491207</td>\n",
        "      <td> 0.580002</td>\n",
        "      <td> 16.804909</td>\n",
        "    </tr>\n",
        "    <tr>\n",
        "      <th>6   </th>\n",
        "      <td> 199.039815</td>\n",
        "      <td> 40.546912</td>\n",
        "      <td> 0.510836</td>\n",
        "      <td> 19.857489</td>\n",
        "    </tr>\n",
        "    <tr>\n",
        "      <th>7   </th>\n",
        "      <td> 199.128676</td>\n",
        "      <td> 40.486606</td>\n",
        "      <td> 0.563166</td>\n",
        "      <td> 24.474661</td>\n",
        "    </tr>\n",
        "    <tr>\n",
        "      <th>8   </th>\n",
        "      <td> 199.001557</td>\n",
        "      <td> 40.574264</td>\n",
        "      <td> 0.565584</td>\n",
        "      <td> 21.620523</td>\n",
        "    </tr>\n",
        "    <tr>\n",
        "      <th>9   </th>\n",
        "      <td> 199.090923</td>\n",
        "      <td> 40.431237</td>\n",
        "      <td> 0.537529</td>\n",
        "      <td> 22.451778</td>\n",
        "    </tr>\n",
        "    <tr>\n",
        "      <th>10  </th>\n",
        "      <td> 198.961644</td>\n",
        "      <td> 40.577709</td>\n",
        "      <td> 0.578070</td>\n",
        "      <td> 23.892080</td>\n",
        "    </tr>\n",
        "    <tr>\n",
        "      <th>11  </th>\n",
        "      <td> 199.273724</td>\n",
        "      <td> 40.534956</td>\n",
        "      <td> 0.526827</td>\n",
        "      <td> 18.220768</td>\n",
        "    </tr>\n",
        "    <tr>\n",
        "      <th>12  </th>\n",
        "      <td> 199.185955</td>\n",
        "      <td> 40.414738</td>\n",
        "      <td> 0.502127</td>\n",
        "      <td> 21.988993</td>\n",
        "    </tr>\n",
        "    <tr>\n",
        "      <th>13  </th>\n",
        "      <td> 199.236534</td>\n",
        "      <td> 40.433261</td>\n",
        "      <td> 0.598522</td>\n",
        "      <td> 20.988434</td>\n",
        "    </tr>\n",
        "    <tr>\n",
        "      <th>14  </th>\n",
        "      <td> 199.272434</td>\n",
        "      <td> 40.526283</td>\n",
        "      <td> 0.516825</td>\n",
        "      <td> 21.769533</td>\n",
        "    </tr>\n",
        "    <tr>\n",
        "      <th>15  </th>\n",
        "      <td> 199.291445</td>\n",
        "      <td> 40.524625</td>\n",
        "      <td> 0.539640</td>\n",
        "      <td> 20.948238</td>\n",
        "    </tr>\n",
        "    <tr>\n",
        "      <th>16  </th>\n",
        "      <td> 199.347296</td>\n",
        "      <td> 40.527434</td>\n",
        "      <td> 0.511436</td>\n",
        "      <td> 21.638878</td>\n",
        "    </tr>\n",
        "    <tr>\n",
        "      <th>17  </th>\n",
        "      <td> 199.480409</td>\n",
        "      <td> 40.393884</td>\n",
        "      <td> 0.556652</td>\n",
        "      <td> 17.466484</td>\n",
        "    </tr>\n",
        "    <tr>\n",
        "      <th>18  </th>\n",
        "      <td> 199.396787</td>\n",
        "      <td> 40.401237</td>\n",
        "      <td> 0.520033</td>\n",
        "      <td> 21.724716</td>\n",
        "    </tr>\n",
        "    <tr>\n",
        "      <th>19  </th>\n",
        "      <td> 199.423674</td>\n",
        "      <td> 40.409265</td>\n",
        "      <td> 0.573446</td>\n",
        "      <td> 22.402302</td>\n",
        "    </tr>\n",
        "    <tr>\n",
        "      <th>20  </th>\n",
        "      <td> 199.362514</td>\n",
        "      <td> 40.412255</td>\n",
        "      <td> 0.563639</td>\n",
        "      <td> 22.504307</td>\n",
        "    </tr>\n",
        "    <tr>\n",
        "      <th>21  </th>\n",
        "      <td> 199.704462</td>\n",
        "      <td> 40.429000</td>\n",
        "      <td> 0.548828</td>\n",
        "      <td> 15.632225</td>\n",
        "    </tr>\n",
        "    <tr>\n",
        "      <th>22  </th>\n",
        "      <td> 199.641631</td>\n",
        "      <td> 40.393566</td>\n",
        "      <td> 0.560791</td>\n",
        "      <td> 18.672728</td>\n",
        "    </tr>\n",
        "    <tr>\n",
        "      <th>23  </th>\n",
        "      <td> 199.578249</td>\n",
        "      <td> 40.478986</td>\n",
        "      <td> 0.539379</td>\n",
        "      <td> 21.265928</td>\n",
        "    </tr>\n",
        "    <tr>\n",
        "      <th>24  </th>\n",
        "      <td> 199.638797</td>\n",
        "      <td> 40.441205</td>\n",
        "      <td> 0.538752</td>\n",
        "      <td> 21.675108</td>\n",
        "    </tr>\n",
        "    <tr>\n",
        "      <th>25  </th>\n",
        "      <td> 199.649371</td>\n",
        "      <td> 40.355227</td>\n",
        "      <td> 0.534712</td>\n",
        "      <td> 21.440619</td>\n",
        "    </tr>\n",
        "    <tr>\n",
        "      <th>26  </th>\n",
        "      <td> 199.654803</td>\n",
        "      <td> 40.464578</td>\n",
        "      <td> 0.501877</td>\n",
        "      <td> 22.313536</td>\n",
        "    </tr>\n",
        "    <tr>\n",
        "      <th>27  </th>\n",
        "      <td> 199.876754</td>\n",
        "      <td> 40.385067</td>\n",
        "      <td> 0.557972</td>\n",
        "      <td> 16.777288</td>\n",
        "    </tr>\n",
        "    <tr>\n",
        "      <th>28  </th>\n",
        "      <td> 199.754838</td>\n",
        "      <td> 40.417712</td>\n",
        "      <td> 0.585644</td>\n",
        "      <td> 21.561071</td>\n",
        "    </tr>\n",
        "    <tr>\n",
        "      <th>29  </th>\n",
        "      <td> 199.769965</td>\n",
        "      <td> 40.470486</td>\n",
        "      <td> 0.557262</td>\n",
        "      <td> 21.691906</td>\n",
        "    </tr>\n",
        "    <tr>\n",
        "      <th>...</th>\n",
        "      <td>...</td>\n",
        "      <td>...</td>\n",
        "      <td>...</td>\n",
        "      <td>...</td>\n",
        "    </tr>\n",
        "    <tr>\n",
        "      <th>2004</th>\n",
        "      <td> 200.756288</td>\n",
        "      <td> 39.671818</td>\n",
        "      <td> 0.514797</td>\n",
        "      <td> 21.436882</td>\n",
        "    </tr>\n",
        "    <tr>\n",
        "      <th>2005</th>\n",
        "      <td> 200.787497</td>\n",
        "      <td> 39.717301</td>\n",
        "      <td> 0.588261</td>\n",
        "      <td> 22.014149</td>\n",
        "    </tr>\n",
        "    <tr>\n",
        "      <th>2006</th>\n",
        "      <td> 200.814436</td>\n",
        "      <td> 39.691162</td>\n",
        "      <td> 0.538216</td>\n",
        "      <td> 19.481525</td>\n",
        "    </tr>\n",
        "    <tr>\n",
        "      <th>2007</th>\n",
        "      <td> 200.835627</td>\n",
        "      <td> 39.687746</td>\n",
        "      <td> 0.510902</td>\n",
        "      <td> 21.626247</td>\n",
        "    </tr>\n",
        "    <tr>\n",
        "      <th>2008</th>\n",
        "      <td> 200.997115</td>\n",
        "      <td> 39.576138</td>\n",
        "      <td> 0.560484</td>\n",
        "      <td> 19.397369</td>\n",
        "    </tr>\n",
        "    <tr>\n",
        "      <th>2009</th>\n",
        "      <td> 200.859799</td>\n",
        "      <td> 39.623830</td>\n",
        "      <td> 0.569109</td>\n",
        "      <td> 20.839113</td>\n",
        "    </tr>\n",
        "    <tr>\n",
        "      <th>2010</th>\n",
        "      <td> 200.909877</td>\n",
        "      <td> 39.715471</td>\n",
        "      <td> 0.541815</td>\n",
        "      <td> 21.818213</td>\n",
        "    </tr>\n",
        "    <tr>\n",
        "      <th>2011</th>\n",
        "      <td> 200.921674</td>\n",
        "      <td> 39.745756</td>\n",
        "      <td> 0.506975</td>\n",
        "      <td> 20.235703</td>\n",
        "    </tr>\n",
        "    <tr>\n",
        "      <th>2012</th>\n",
        "      <td> 200.964667</td>\n",
        "      <td> 39.535392</td>\n",
        "      <td> 0.543751</td>\n",
        "      <td> 20.214483</td>\n",
        "    </tr>\n",
        "    <tr>\n",
        "      <th>2013</th>\n",
        "      <td> 200.998210</td>\n",
        "      <td> 39.636181</td>\n",
        "      <td> 0.528101</td>\n",
        "      <td> 21.300314</td>\n",
        "    </tr>\n",
        "    <tr>\n",
        "      <th>2014</th>\n",
        "      <td> 200.872515</td>\n",
        "      <td> 39.689516</td>\n",
        "      <td> 0.543278</td>\n",
        "      <td> 21.967215</td>\n",
        "    </tr>\n",
        "    <tr>\n",
        "      <th>2015</th>\n",
        "      <td> 200.923099</td>\n",
        "      <td> 39.606016</td>\n",
        "      <td> 0.596966</td>\n",
        "      <td> 21.707809</td>\n",
        "    </tr>\n",
        "    <tr>\n",
        "      <th>2016</th>\n",
        "      <td> 200.941190</td>\n",
        "      <td> 39.676086</td>\n",
        "      <td> 0.554539</td>\n",
        "      <td> 21.872721</td>\n",
        "    </tr>\n",
        "    <tr>\n",
        "      <th>2017</th>\n",
        "      <td> 200.951672</td>\n",
        "      <td> 39.710647</td>\n",
        "      <td> 0.598164</td>\n",
        "      <td> 21.268785</td>\n",
        "    </tr>\n",
        "    <tr>\n",
        "      <th>2018</th>\n",
        "      <td> 200.961939</td>\n",
        "      <td> 39.686580</td>\n",
        "      <td> 0.557470</td>\n",
        "      <td> 20.564476</td>\n",
        "    </tr>\n",
        "    <tr>\n",
        "      <th>2019</th>\n",
        "      <td> 200.946515</td>\n",
        "      <td> 39.582284</td>\n",
        "      <td> 0.570063</td>\n",
        "      <td> 21.552641</td>\n",
        "    </tr>\n",
        "    <tr>\n",
        "      <th>2020</th>\n",
        "      <td> 200.979056</td>\n",
        "      <td> 39.694257</td>\n",
        "      <td> 0.582115</td>\n",
        "      <td> 21.868557</td>\n",
        "    </tr>\n",
        "    <tr>\n",
        "      <th>2021</th>\n",
        "      <td> 200.975211</td>\n",
        "      <td> 39.671414</td>\n",
        "      <td> 0.533937</td>\n",
        "      <td> 21.183056</td>\n",
        "    </tr>\n",
        "    <tr>\n",
        "      <th>2022</th>\n",
        "      <td> 200.979234</td>\n",
        "      <td> 39.640942</td>\n",
        "      <td> 0.526480</td>\n",
        "      <td> 21.236269</td>\n",
        "    </tr>\n",
        "    <tr>\n",
        "      <th>2023</th>\n",
        "      <td> 200.996243</td>\n",
        "      <td> 39.685733</td>\n",
        "      <td> 0.590628</td>\n",
        "      <td> 21.102345</td>\n",
        "    </tr>\n",
        "    <tr>\n",
        "      <th>2024</th>\n",
        "      <td> 201.017450</td>\n",
        "      <td> 39.734130</td>\n",
        "      <td> 0.507507</td>\n",
        "      <td> 20.600943</td>\n",
        "    </tr>\n",
        "    <tr>\n",
        "      <th>2025</th>\n",
        "      <td> 201.132182</td>\n",
        "      <td> 39.595033</td>\n",
        "      <td> 0.512554</td>\n",
        "      <td> 20.392002</td>\n",
        "    </tr>\n",
        "    <tr>\n",
        "      <th>2026</th>\n",
        "      <td> 201.178780</td>\n",
        "      <td> 39.684836</td>\n",
        "      <td> 0.523626</td>\n",
        "      <td> 19.678680</td>\n",
        "    </tr>\n",
        "    <tr>\n",
        "      <th>2027</th>\n",
        "      <td> 201.157632</td>\n",
        "      <td> 39.584414</td>\n",
        "      <td> 0.513819</td>\n",
        "      <td> 21.297625</td>\n",
        "    </tr>\n",
        "    <tr>\n",
        "      <th>2028</th>\n",
        "      <td> 201.049052</td>\n",
        "      <td> 39.630956</td>\n",
        "      <td> 0.567877</td>\n",
        "      <td> 21.986307</td>\n",
        "    </tr>\n",
        "    <tr>\n",
        "      <th>2029</th>\n",
        "      <td> 201.118822</td>\n",
        "      <td> 39.712767</td>\n",
        "      <td> 0.563053</td>\n",
        "      <td> 21.271654</td>\n",
        "    </tr>\n",
        "    <tr>\n",
        "      <th>2030</th>\n",
        "      <td> 201.093716</td>\n",
        "      <td> 39.560047</td>\n",
        "      <td> 0.501999</td>\n",
        "      <td> 19.501509</td>\n",
        "    </tr>\n",
        "    <tr>\n",
        "      <th>2031</th>\n",
        "      <td> 201.124910</td>\n",
        "      <td> 39.596957</td>\n",
        "      <td> 0.561335</td>\n",
        "      <td> 21.975046</td>\n",
        "    </tr>\n",
        "    <tr>\n",
        "      <th>2032</th>\n",
        "      <td> 201.149720</td>\n",
        "      <td> 39.660849</td>\n",
        "      <td> 0.592997</td>\n",
        "      <td> 20.751184</td>\n",
        "    </tr>\n",
        "    <tr>\n",
        "      <th>2033</th>\n",
        "      <td> 201.151728</td>\n",
        "      <td> 39.655279</td>\n",
        "      <td> 0.556894</td>\n",
        "      <td> 20.406200</td>\n",
        "    </tr>\n",
        "  </tbody>\n",
        "</table>\n",
        "<p>2034 rows \u00d7 4 columns</p>\n",
        "</div>"
       ],
       "metadata": {},
       "output_type": "pyout",
       "prompt_number": 33,
       "text": [
        "              ra        dec        gr          r\n",
        "0     198.859203  40.459250  0.538992  21.345884\n",
        "1     198.893391  40.524004  0.502481  22.529541\n",
        "2     198.928816  40.448585  0.556860  23.085464\n",
        "3     199.003982  40.506485  0.546825  16.772129\n",
        "4     199.051265  40.474466  0.547041  16.624254\n",
        "5     199.136518  40.491207  0.580002  16.804909\n",
        "6     199.039815  40.546912  0.510836  19.857489\n",
        "7     199.128676  40.486606  0.563166  24.474661\n",
        "8     199.001557  40.574264  0.565584  21.620523\n",
        "9     199.090923  40.431237  0.537529  22.451778\n",
        "10    198.961644  40.577709  0.578070  23.892080\n",
        "11    199.273724  40.534956  0.526827  18.220768\n",
        "12    199.185955  40.414738  0.502127  21.988993\n",
        "13    199.236534  40.433261  0.598522  20.988434\n",
        "14    199.272434  40.526283  0.516825  21.769533\n",
        "15    199.291445  40.524625  0.539640  20.948238\n",
        "16    199.347296  40.527434  0.511436  21.638878\n",
        "17    199.480409  40.393884  0.556652  17.466484\n",
        "18    199.396787  40.401237  0.520033  21.724716\n",
        "19    199.423674  40.409265  0.573446  22.402302\n",
        "20    199.362514  40.412255  0.563639  22.504307\n",
        "21    199.704462  40.429000  0.548828  15.632225\n",
        "22    199.641631  40.393566  0.560791  18.672728\n",
        "23    199.578249  40.478986  0.539379  21.265928\n",
        "24    199.638797  40.441205  0.538752  21.675108\n",
        "25    199.649371  40.355227  0.534712  21.440619\n",
        "26    199.654803  40.464578  0.501877  22.313536\n",
        "27    199.876754  40.385067  0.557972  16.777288\n",
        "28    199.754838  40.417712  0.585644  21.561071\n",
        "29    199.769965  40.470486  0.557262  21.691906\n",
        "...          ...        ...       ...        ...\n",
        "2004  200.756288  39.671818  0.514797  21.436882\n",
        "2005  200.787497  39.717301  0.588261  22.014149\n",
        "2006  200.814436  39.691162  0.538216  19.481525\n",
        "2007  200.835627  39.687746  0.510902  21.626247\n",
        "2008  200.997115  39.576138  0.560484  19.397369\n",
        "2009  200.859799  39.623830  0.569109  20.839113\n",
        "2010  200.909877  39.715471  0.541815  21.818213\n",
        "2011  200.921674  39.745756  0.506975  20.235703\n",
        "2012  200.964667  39.535392  0.543751  20.214483\n",
        "2013  200.998210  39.636181  0.528101  21.300314\n",
        "2014  200.872515  39.689516  0.543278  21.967215\n",
        "2015  200.923099  39.606016  0.596966  21.707809\n",
        "2016  200.941190  39.676086  0.554539  21.872721\n",
        "2017  200.951672  39.710647  0.598164  21.268785\n",
        "2018  200.961939  39.686580  0.557470  20.564476\n",
        "2019  200.946515  39.582284  0.570063  21.552641\n",
        "2020  200.979056  39.694257  0.582115  21.868557\n",
        "2021  200.975211  39.671414  0.533937  21.183056\n",
        "2022  200.979234  39.640942  0.526480  21.236269\n",
        "2023  200.996243  39.685733  0.590628  21.102345\n",
        "2024  201.017450  39.734130  0.507507  20.600943\n",
        "2025  201.132182  39.595033  0.512554  20.392002\n",
        "2026  201.178780  39.684836  0.523626  19.678680\n",
        "2027  201.157632  39.584414  0.513819  21.297625\n",
        "2028  201.049052  39.630956  0.567877  21.986307\n",
        "2029  201.118822  39.712767  0.563053  21.271654\n",
        "2030  201.093716  39.560047  0.501999  19.501509\n",
        "2031  201.124910  39.596957  0.561335  21.975046\n",
        "2032  201.149720  39.660849  0.592997  20.751184\n",
        "2033  201.151728  39.655279  0.556894  20.406200\n",
        "\n",
        "[2034 rows x 4 columns]"
       ]
      }
     ],
     "prompt_number": 33
    },
    {
     "cell_type": "markdown",
     "metadata": {},
     "source": [
      "### LSD query syntax\n",
      "\n",
      "LSD queries intentionally look like SQL, but aren't true SQL. The keywords are case insensitive, and they follow the same structure, roughly:\n",
      "\n",
      "```sql\n",
      "SELECT\n",
      "    col1, col2, expression AS name, ...\n",
      "FROM\n",
      "    table1, table2, ..., tableN\n",
      "WHERE\n",
      "    ... expression ...\n",
      "```\n",
      "\n",
      "However, in LSD queries the column specifications in `SELECT` clauses as well as the entire `WHERE` clause are evaluated as full-fledged *Python expressions*. Each column name from the underlying table enters as a numpy array (ndarray), and anything that is allowed in Python is allowed there (even if it would not be allowed under SQL rules).\n",
      "\n",
      "Perhaps the most obvious difference has to do with logical operators such as `and` or `or` in `WHERE` clause. While in SQL you would write:\n",
      "\n",
      "```\n",
      "... WHERE 10 < ra and ra < 100\n",
      "```\n",
      "\n",
      "the equivalent in the LSD query needs to be:\n",
      "\n",
      "```\n",
      "... WHERE (10 < ra) & (ra < 100)\n",
      "```\n",
      "\n",
      "This is because of how `numpy` arrays (`ndarray`s) interact with operators: there is no element-wise operator `and`, but there is an element-wise operator `&`. However, because `&` has a very high presendence, its left and right operands need to be in parentheses to get the desired effect.\n",
      "\n",
      "Also, LSD query syntax does not support the SQL syntax for joins -- joins are handled differently (see below). LSD queries also don't support subqueries.\n",
      "\n",
      "See http://research.majuric.org/trac/wiki/LargeSurveyDatabase#QuerySyntax for more details."
     ]
    },
    {
     "cell_type": "markdown",
     "metadata": {},
     "source": [
      "### Spatial JOINs using LSD"
     ]
    },
    {
     "cell_type": "markdown",
     "metadata": {},
     "source": [
      "One of the \"killer features\" of LSD is the ability to *easily* perform spatial joins with nearly arbitrarily sized data sets. For example:"
     ]
    },
    {
     "cell_type": "code",
     "collapsed": false,
     "input": [
      "! lsd-query --bounds='beam(200, 40, .02)' \\\n",
      "    'select ra, dec, usnob.ra, usnob.dec, usnob._DIST*3600 as dist from sdss, usnob(matchedto=sdss)'"
     ],
     "language": "python",
     "metadata": {},
     "outputs": [
      {
       "output_type": "stream",
       "stream": "stdout",
       "text": [
        " [1 el.]"
       ]
      },
      {
       "output_type": "stream",
       "stream": "stdout",
       "text": [
        "# ra dec usnob.ra usnob.dec dist\r\n",
        "199.98129562  40.00634259 199.98132778  40.00643611   0.348\r\n",
        "200.00338260  39.99759555 200.00336111  39.99750000   0.349\r\n",
        "200.00933424  39.98484480 200.00956111  39.98501944   0.887\r\n",
        "::::::::::::::::::::>  1.83 sec\r\n",
        "3 rows selected.\r\n"
       ]
      }
     ],
     "prompt_number": 34
    },
    {
     "cell_type": "markdown",
     "metadata": {},
     "source": [
      "The above query selected only the stars that are present in both SDSS and USNOB catalogs (with the default matching radius of 1\"), and printed out the coordinates for both as well as the distance (in arcseconds), computed using the \"magic\" column \\_DIST.\n",
      "\n",
      "The query above did not return stars from the SDSS catalog that have no USNOB counterpart. To do that, we need an *outer join*: "
     ]
    },
    {
     "cell_type": "code",
     "collapsed": false,
     "input": [
      "! lsd-query --bounds='beam(200, 40, .02)' \\\n",
      "    'select ra, dec, usnob.ra, usnob.dec, usnob._DIST*3600 as dist, usnob._ISNULL from sdss, usnob(matchedto=sdss, outer)'"
     ],
     "language": "python",
     "metadata": {},
     "outputs": [
      {
       "output_type": "stream",
       "stream": "stdout",
       "text": [
        " [1 el.]"
       ]
      },
      {
       "output_type": "stream",
       "stream": "stdout",
       "text": [
        "# ra dec usnob.ra usnob.dec dist usnob._ISNULL\r\n",
        "199.98129562  40.00634259 199.98132778  40.00643611   0.348 0\r\n",
        "200.00338260  39.99759555 200.00336111  39.99750000   0.349 0\r\n",
        "200.00405565  39.98731101   0.00000000   0.00000000   0.000 1\r\n",
        "200.01881371  40.00639185   0.00000000   0.00000000   0.000 1\r\n",
        "199.99647699  40.00741186   0.00000000   0.00000000   0.000 1\r\n",
        "199.99511395  39.99939921   0.00000000   0.00000000   0.000 1\r\n",
        "199.97700558  39.99169691   0.00000000   0.00000000   0.000 1\r\n",
        "199.98522426  40.01479661   0.00000000   0.00000000   0.000 1\r\n",
        "199.99719163  40.01205933   0.00000000   0.00000000   0.000 1\r\n",
        "199.99274045  39.98538237   0.00000000   0.00000000   0.000 1\r\n",
        "199.99955972  39.99619678   0.00000000   0.00000000   0.000 1\r\n",
        "200.00817188  40.00837229   0.00000000   0.00000000   0.000 1\r\n",
        "200.00933424  39.98484480 200.00956111  39.98501944   0.887 0\r\n",
        "200.01786302  40.00940059   0.00000000   0.00000000   0.000 1\r\n",
        "200.01336376  39.98789062   0.00000000   0.00000000   0.000 1\r\n",
        "200.02490895  40.00157829   0.00000000   0.00000000   0.000 1\r\n",
        "199.97926042  39.98980493   0.00000000   0.00000000   0.000 1\r\n",
        "200.01886310  40.01144649   0.00000000   0.00000000   0.000 1\r\n",
        "199.97884338  40.00978743   0.00000000   0.00000000   0.000 1\r\n",
        "::::::::::::::::::::>  0.40 sec\r\n",
        "19 rows selected.\r\n"
       ]
      }
     ],
     "prompt_number": 58
    },
    {
     "cell_type": "markdown",
     "metadata": {},
     "source": [
      "The magic column `\\_ISNULL` tells us whether there was a match in the USNOB table or not. This is a way to handle the fact that Python arrays can't handle NULLs (e.g., we've seen that Pandas solves this by setting NULL values to `NaN`).\n",
      "\n",
      "Using LSD spatial joins, can cross-match multiple catalogs and (for example) compute colors spanning a wider range of the electromagnetic spectrum for each object:"
     ]
    },
    {
     "cell_type": "code",
     "collapsed": false,
     "input": [
      "! lsd-query --bounds='beam(200, 40, .1)' \\\n",
      "    'select ra, dec, u-g, g-r, r-i, i-z, fuv_mag - nuv_mag from sdss, galex_gr5(matchedto=sdss)'"
     ],
     "language": "python",
     "metadata": {},
     "outputs": [
      {
       "output_type": "stream",
       "stream": "stdout",
       "text": [
        " [1 el.]"
       ]
      },
      {
       "output_type": "stream",
       "stream": "stdout",
       "text": [
        "# ra dec u-g g-r r-i i-z fuv_mag-nuv_mag\r\n",
        "199.95892345  40.04799660   1.521   0.576   0.183   0.076 -1019.623\r\n",
        "200.00633884  40.05923582   1.408   0.551   0.175   0.071 -1019.278\r\n",
        "199.95259271  40.08629265   0.844   1.036   0.403   0.315 -1020.936\r\n",
        "199.99511395  39.99939921  -0.226  -0.202  -0.431  -0.251   0.524\r\n",
        "200.02512893  39.93299436   0.715   0.448   0.185   0.235  -0.013\r\n",
        "199.96660431  40.05091459   0.577   0.920   0.143   0.315 -1021.341\r\n",
        "199.97144159  40.01576709   0.224   1.021   0.458   0.364   0.760\r\n",
        "200.01640734  39.95085067   1.557   1.234   0.413   0.534 -1021.824\r\n",
        "200.02918315  39.93920044   1.626   0.225   0.202  -0.234  -0.056\r\n",
        "200.09610857  39.99941718   1.094   0.589   0.365   0.091   0.050\r\n",
        "200.09221042  39.94137473   0.863   0.721   0.283   0.279   0.793\r\n",
        "200.09217773  40.05436364   1.466   0.929   0.340   0.364 -1020.866\r\n",
        "200.08750632  40.00551140   1.902   1.159   0.513   0.389 -1022.232\r\n",
        "200.09656091  39.93638362   1.111   0.196   0.500  -1.334 -1021.803\r\n",
        "200.11953790  40.02114297   0.593   0.878   0.275   0.136 -1021.641\r\n",
        "200.12316710  40.01610631   1.353   0.337   0.208   0.367  -0.162\r\n",
        "::::::::::::::::::::>  0.42 sec\r\n",
        "16 rows selected.\r\n"
       ]
      }
     ],
     "prompt_number": 35
    },
    {
     "cell_type": "markdown",
     "metadata": {},
     "source": [
      "(question: why do some GALEX colors look odd?)\n",
      "\n",
      "... or look for \"dropouts\" -- objects that appear in one catalog but don't in the other:"
     ]
    },
    {
     "cell_type": "code",
     "collapsed": false,
     "input": [
      "! lsd-query --bounds='beam(200, 40, .01)' \\\n",
      "    'select ra, dec, u-g, g-r, r-i, i-z, fuv_mag - nuv_mag from sdss, galex_gr5(matchedto=sdss, outer)'"
     ],
     "language": "python",
     "metadata": {},
     "outputs": [
      {
       "output_type": "stream",
       "stream": "stdout",
       "text": [
        " [1 el.]"
       ]
      },
      {
       "output_type": "stream",
       "stream": "stdout",
       "text": [
        "# ra dec u-g g-r r-i i-z fuv_mag-nuv_mag\r\n",
        "200.00338260  39.99759555   1.337   1.463   1.200   0.707   0.000\r\n",
        "199.99647699  40.00741186  -6.496   5.107   0.471   3.380   0.000\r\n",
        "199.99511395  39.99939921  -0.226  -0.202  -0.431  -0.251   0.524\r\n",
        "199.99955972  39.99619678   2.134   0.914   0.220  -0.108   0.000\r\n",
        "::::::::::::::::::::>  0.42 sec\r\n",
        "4 rows selected.\r\n"
       ]
      }
     ],
     "prompt_number": 36
    },
    {
     "cell_type": "markdown",
     "metadata": {},
     "source": [
      "... or the other way around (look for objects in GALEX that don't have a counterpart in SDSS):"
     ]
    },
    {
     "cell_type": "code",
     "collapsed": false,
     "input": [
      "! lsd-query --bounds='beam(200, 40, .02)' \\\n",
      "    'select ra, dec, u-g, g-r, r-i, i-z, fuv_mag - nuv_mag from galex_gr5, sdss(matchedto=galex_gr5, outer)'"
     ],
     "language": "python",
     "metadata": {},
     "outputs": [
      {
       "output_type": "stream",
       "stream": "stdout",
       "text": [
        " [1 el.]"
       ]
      },
      {
       "output_type": "stream",
       "stream": "stdout",
       "text": [
        "# ra dec u-g g-r r-i i-z fuv_mag-nuv_mag\r\n",
        "200.01753157  40.00905797   0.000   0.000   0.000   0.000 -1021.968\r\n",
        "200.01638162  40.00683932   0.000   0.000   0.000   0.000 -1022.052\r\n",
        "199.99545478  39.99948083  -0.226  -0.202  -0.431  -0.251   0.524\r\n",
        "200.01283361  39.98839250   0.000   0.000   0.000   0.000 -1022.441\r\n",
        "199.98572537  39.99559341   0.000   0.000   0.000   0.000 -1021.982\r\n",
        "199.97686564  39.99094654   0.000   0.000   0.000   0.000 -1021.871\r\n",
        "199.99107164  39.98123792   0.000   0.000   0.000   0.000 -1022.117\r\n",
        "::::::::::::::::::::>  0.56 sec\r\n",
        "7 rows selected.\r\n"
       ]
      }
     ],
     "prompt_number": 37
    },
    {
     "cell_type": "heading",
     "level": 2,
     "metadata": {},
     "source": [
      "Using LSD directly from Python (LSD Python API)"
     ]
    },
    {
     "cell_type": "markdown",
     "metadata": {},
     "source": [
      "### Simple queries"
     ]
    },
    {
     "cell_type": "markdown",
     "metadata": {},
     "source": [
      "LSD has been written in Python and has a Python API. For more complex operations and queries it is recommended to be used directly from Python. The primary package is called `lsd`, and the primary database class is `lsd.DB`:"
     ]
    },
    {
     "cell_type": "code",
     "collapsed": false,
     "input": [
      "import os\n",
      "import lsd\n",
      "\n",
      "db = lsd.DB(os.environ[\"LSD_DB\"])"
     ],
     "language": "python",
     "metadata": {},
     "outputs": [],
     "prompt_number": 1
    },
    {
     "cell_type": "markdown",
     "metadata": {},
     "source": [
      "Queries are executed by calling the `DB.query` method, followed by a call to `fetch()` (more about that in a second):"
     ]
    },
    {
     "cell_type": "code",
     "collapsed": false,
     "input": [
      "qstr = 'ra, dec, g, r, g-r as gr FROM sdss WHERE (r < 22.5) & (0.3 < gr) & (gr < 0.31)'\n",
      "rows = db.query(qstr).fetch()"
     ],
     "language": "python",
     "metadata": {},
     "outputs": [
      {
       "output_type": "stream",
       "stream": "stderr",
       "text": [
        " [1606 el.]"
       ]
      },
      {
       "output_type": "stream",
       "stream": "stderr",
       "text": [
        "::"
       ]
      },
      {
       "output_type": "stream",
       "stream": "stderr",
       "text": [
        "::"
       ]
      },
      {
       "output_type": "stream",
       "stream": "stderr",
       "text": [
        "::"
       ]
      },
      {
       "output_type": "stream",
       "stream": "stderr",
       "text": [
        "::"
       ]
      },
      {
       "output_type": "stream",
       "stream": "stderr",
       "text": [
        "::"
       ]
      },
      {
       "output_type": "stream",
       "stream": "stderr",
       "text": [
        "::"
       ]
      },
      {
       "output_type": "stream",
       "stream": "stderr",
       "text": [
        "::"
       ]
      },
      {
       "output_type": "stream",
       "stream": "stderr",
       "text": [
        "::"
       ]
      },
      {
       "output_type": "stream",
       "stream": "stderr",
       "text": [
        "::"
       ]
      },
      {
       "output_type": "stream",
       "stream": "stderr",
       "text": [
        "::"
       ]
      },
      {
       "output_type": "stream",
       "stream": "stderr",
       "text": [
        ">  24.88 sec\n"
       ]
      }
     ],
     "prompt_number": 2
    },
    {
     "cell_type": "markdown",
     "metadata": {},
     "source": [
      "Note: if you see warning messages about `lsd-manager`, you can either ignore them, or start `lsd-manager` on the machine where you're running LSD. If this is a shared machine where multiple users run LSD, `lsd-manager` will coordinate their (simultaneous) queries so the machine doesn't become overloaded."
     ]
    },
    {
     "cell_type": "markdown",
     "metadata": {},
     "source": [
      "The returned object `rows` is an instance of a `ColGroup`:"
     ]
    },
    {
     "cell_type": "code",
     "collapsed": false,
     "input": [
      "rows"
     ],
     "language": "python",
     "metadata": {},
     "outputs": [
      {
       "metadata": {},
       "output_type": "pyout",
       "prompt_number": 3,
       "text": [
        "<lsd.colgroup.ColGroup at 0x7f3a77d65c10>"
       ]
      }
     ],
     "prompt_number": 3
    },
    {
     "cell_type": "markdown",
     "metadata": {},
     "source": [
      "This is an object that looks and feels like `numpy` structured array, but stores the data per-column, rather than per-row. That means that adding and removing columns is very efficient.\n",
      "\n",
      "You can get the individual columns by indexing them as you would with a structured array:"
     ]
    },
    {
     "cell_type": "code",
     "collapsed": false,
     "input": [
      "rows['ra'], rows['dec']"
     ],
     "language": "python",
     "metadata": {},
     "outputs": [
      {
       "metadata": {},
       "output_type": "pyout",
       "prompt_number": 4,
       "text": [
        "(array([ 114.64708581,  114.30123786,  114.42013118, ...,  296.66362426,\n",
        "         297.11999548,  298.00396173]),\n",
        " array([ 11.53644612,  11.28999155,  11.37418807, ...,  -0.82681805,\n",
        "         -0.81667955,   0.06250694]))"
       ]
      }
     ],
     "prompt_number": 4
    },
    {
     "cell_type": "markdown",
     "metadata": {},
     "source": [
      "or you can convert it to a true structured array:"
     ]
    },
    {
     "cell_type": "code",
     "collapsed": false,
     "input": [
      "rows.as_ndarray()"
     ],
     "language": "python",
     "metadata": {},
     "outputs": [
      {
       "metadata": {},
       "output_type": "pyout",
       "prompt_number": 5,
       "text": [
        "array([ (114.64708580692314, 11.536446121159658, 22.121227264404297, 21.811826705932617, 0.3094005584716797),\n",
        "       (114.30123786243811, 11.289991545755164, 19.67948341369629, 19.37179183959961, 0.3076915740966797),\n",
        "       (114.42013117848691, 11.374188073307433, 14.654531478881836, 14.35268497467041, 0.3018465042114258),\n",
        "       ...,\n",
        "       (296.66362426441736, -0.8268180532623465, 22.20968246459961, 21.908212661743164, 0.3014698028564453),\n",
        "       (297.1199954783458, -0.8166795534783334, 21.588665008544922, 21.284809112548828, 0.30385589599609375),\n",
        "       (298.00396173349407, 0.06250693917467592, 21.665205001831055, 21.361249923706055, 0.303955078125)], \n",
        "      dtype=[('ra', '<f8'), ('dec', '<f8'), ('g', '<f4'), ('r', '<f4'), ('gr', '<f4')])"
       ]
      }
     ],
     "prompt_number": 5
    },
    {
     "cell_type": "markdown",
     "metadata": {},
     "source": [
      "or to a `pandas.DataFrame` object:"
     ]
    },
    {
     "cell_type": "code",
     "collapsed": false,
     "input": [
      "import pandas as pd\n",
      "\n",
      "data = pd.DataFrame(rows.as_ndarray())\n",
      "data.plot(kind='scatter', x='ra', y='dec', s=0.01, figsize=(12, 6), xlim=(0, 360), ylim=(-30,90))\n",
      "plt.gca().invert_xaxis()"
     ],
     "language": "python",
     "metadata": {},
     "outputs": [
      {
       "metadata": {},
       "output_type": "display_data",
       "png": "[encoded data removed]",
       "text": [
        "<matplotlib.figure.Figure at 0x7f3a7440e510>"
       ]
      }
     ],
     "prompt_number": 7
    },
    {
     "cell_type": "markdown",
     "metadata": {},
     "source": [
      "... or even better:"
     ]
    },
    {
     "cell_type": "code",
     "collapsed": false,
     "input": [
      "data = pd.DataFrame(rows.as_ndarray())\n",
      "data.plot(kind='hexbin', x='ra', y='dec', figsize=(15, 6), gridsize=(360, 120), xlim=(0, 360), ylim=(-30,90), colormap='OrRd')\n",
      "plt.gca().invert_xaxis()"
     ],
     "language": "python",
     "metadata": {},
     "outputs": [
      {
       "metadata": {},
       "output_type": "display_data",
       "png": "[encoded data removed]",
       "text": [
        "<matplotlib.figure.Figure at 0x7f3a67f0f950>"
       ]
      }
     ],
     "prompt_number": 8
    },
    {
     "cell_type": "markdown",
     "metadata": {},
     "source": [
      "At the very least, LSD saves you the work of going to the SDSS archive website, writing a query, downloading the outputs.\n",
      "\n",
      "It becomes even more useful for more complex examples where the outputs would exceed your SDSS archive quota (0.5 GB), with catalogs that don't offer an SQL interface, or when you need to spatially cross-match multiple catalogs."
     ]
    },
    {
     "cell_type": "markdown",
     "metadata": {},
     "source": [
      "### Processing query result piece by piece\n",
      "\n",
      "If you know the result of a query is likely to be large (i.e., larger than your available RAM), if your algorithm allows it you could process it piecemeal in a `for` loop.\n",
      "\n",
      "For example, if all we cared about was the number of returned rows, and not their content:"
     ]
    },
    {
     "cell_type": "code",
     "collapsed": false,
     "input": [
      "len(data)"
     ],
     "language": "python",
     "metadata": {},
     "outputs": [
      {
       "metadata": {},
       "output_type": "pyout",
       "prompt_number": 9,
       "text": [
        "575157"
       ]
      }
     ],
     "prompt_number": 9
    },
    {
     "cell_type": "markdown",
     "metadata": {},
     "source": [
      "instead of calling `.fetch()` you'd call `.iterate(return_blocks=True)`:"
     ]
    },
    {
     "cell_type": "code",
     "collapsed": false,
     "input": [
      "query = 'ra, dec, g, r, g-r as gr FROM sdss WHERE (r < 22.5) & (0.3 < gr) & (gr < 0.31)'\n",
      "data_len = 0\n",
      "for row_block in db.query(qstr).iterate(return_blocks=True):\n",
      "    data_len += len(row_block)\n",
      "print data_len"
     ],
     "language": "python",
     "metadata": {},
     "outputs": [
      {
       "output_type": "stream",
       "stream": "stderr",
       "text": [
        " [1606 el.]Exception in thread Thread-10:\n",
        "Traceback (most recent call last):\n",
        "  File \"/lsst/home/mjuric/anaconda/lib/python2.7/threading.py\", line 810, in __bootstrap_inner\n",
        "    self.run()\n",
        "  File \"/lsst/home/mjuric/anaconda/lib/python2.7/site-packages/zmq/utils/garbage.py\", line 34, in run\n",
        "    s.bind(self.gc.url)\n",
        "  File \"socket.pyx\", line 444, in zmq.backend.cython.socket.Socket.bind (zmq/backend/cython/socket.c:4076)\n",
        "  File \"checkrc.pxd\", line 21, in zmq.backend.cython.checkrc._check_rc (zmq/backend/cython/socket.c:6032)\n",
        "ZMQError: Address already in use\n",
        "\n",
        "Exception in thread Thread-10:\n",
        "Traceback (most recent call last):\n",
        "  File \"/lsst/home/mjuric/anaconda/lib/python2.7/threading.py\", line 810, in __bootstrap_inner\n",
        "    self.run()\n",
        "  File \"/lsst/home/mjuric/anaconda/lib/python2.7/site-packages/zmq/utils/garbage.py\", line 34, in run\n",
        "    s.bind(self.gc.url)\n",
        "  File \"socket.pyx\", line 444, in zmq.backend.cython.socket.Socket.bind (zmq/backend/cython/socket.c:4076)\n",
        "  File \"checkrc.pxd\", line 21, in zmq.backend.cython.checkrc._check_rc (zmq/backend/cython/socket.c:6032)\n",
        "ZMQError: Address already in use\n",
        "\n",
        "Exception in thread Thread-10:\n",
        "Traceback (most recent call last):\n",
        "  File \"/lsst/home/mjuric/anaconda/lib/python2.7/threading.py\", line 810, in __bootstrap_inner\n",
        "    self.run()\n",
        "  File \"/lsst/home/mjuric/anaconda/lib/python2.7/site-packages/zmq/utils/garbage.py\", line 34, in run\n",
        "    s.bind(self.gc.url)\n",
        "  File \"socket.pyx\", line 444, in zmq.backend.cython.socket.Socket.bind (zmq/backend/cython/socket.c:4076)\n",
        "  File \"checkrc.pxd\", line 21, in zmq.backend.cython.checkrc._check_rc (zmq/backend/cython/socket.c:6032)\n",
        "ZMQError: Address already in use\n",
        "\n",
        "Exception in thread Thread-10:\n",
        "Traceback (most recent call last):\n",
        "  File \"/lsst/home/mjuric/anaconda/lib/python2.7/threading.py\", line 810, in __bootstrap_inner\n",
        "    self.run()\n",
        "  File \"/lsst/home/mjuric/anaconda/lib/python2.7/site-packages/zmq/utils/garbage.py\", line 34, in run\n",
        "    s.bind(self.gc.url)\n",
        "  File \"socket.pyx\", line 444, in zmq.backend.cython.socket.Socket.bind (zmq/backend/cython/socket.c:4076)\n",
        "  File \"checkrc.pxd\", line 21, in zmq.backend.cython.checkrc._check_rc (zmq/backend/cython/socket.c:6032)\n",
        "ZMQError: Address already in use\n",
        "\n",
        "Exception in thread Thread-10:\n",
        "Traceback (most recent call last):\n",
        "  File \"/lsst/home/mjuric/anaconda/lib/python2.7/threading.py\", line 810, in __bootstrap_inner\n",
        "    self.run()\n",
        "  File \"/lsst/home/mjuric/anaconda/lib/python2.7/site-packages/zmq/utils/garbage.py\", line 34, in run\n",
        "    s.bind(self.gc.url)\n",
        "  File \"socket.pyx\", line 444, in zmq.backend.cython.socket.Socket.bind (zmq/backend/cython/socket.c:4076)\n",
        "  File \"checkrc.pxd\", line 21, in zmq.backend.cython.checkrc._check_rc (zmq/backend/cython/socket.c:6032)\n",
        "ZMQError: Address already in use\n",
        "\n",
        "Exception in thread Thread-10:\n",
        "Traceback (most recent call last):\n",
        "  File \"/lsst/home/mjuric/anaconda/lib/python2.7/threading.py\", line 810, in __bootstrap_inner\n",
        "    self.run()\n",
        "  File \"/lsst/home/mjuric/anaconda/lib/python2.7/site-packages/zmq/utils/garbage.py\", line 34, in run\n",
        "    s.bind(self.gc.url)\n",
        "  File \"socket.pyx\", line 444, in zmq.backend.cython.socket.Socket.bind (zmq/backend/cython/socket.c:4076)\n",
        "  File \"checkrc.pxd\", line 21, in zmq.backend.cython.checkrc._check_rc (zmq/backend/cython/socket.c:6032)\n",
        "ZMQError: Address already in use\n",
        "\n",
        "Exception in thread Thread-10:\n",
        "Traceback (most recent call last):\n",
        "  File \"/lsst/home/mjuric/anaconda/lib/python2.7/threading.py\", line 810, in __bootstrap_inner\n",
        "    self.run()\n",
        "  File \"/lsst/home/mjuric/anaconda/lib/python2.7/site-packages/zmq/utils/garbage.py\", line 34, in run\n",
        "    s.bind(self.gc.url)\n",
        "  File \"socket.pyx\", line 444, in zmq.backend.cython.socket.Socket.bind (zmq/backend/cython/socket.c:4076)\n",
        "  File \"checkrc.pxd\", line 21, in zmq.backend.cython.checkrc._check_rc (zmq/backend/cython/socket.c:6032)\n",
        "ZMQError: Address already in use\n",
        "\n",
        "Exception in thread Thread-10:\n",
        "Traceback (most recent call last):\n",
        "  File \"/lsst/home/mjuric/anaconda/lib/python2.7/threading.py\", line 810, in __bootstrap_inner\n",
        "    self.run()\n",
        "  File \"/lsst/home/mjuric/anaconda/lib/python2.7/site-packages/zmq/utils/garbage.py\", line 34, in run\n",
        "    s.bind(self.gc.url)\n",
        "  File \"socket.pyx\", line 444, in zmq.backend.cython.socket.Socket.bind (zmq/backend/cython/socket.c:4076)\n",
        "  File \"checkrc.pxd\", line 21, in zmq.backend.cython.checkrc._check_rc (zmq/backend/cython/socket.c:6032)\n",
        "ZMQError: Address already in use\n",
        "\n",
        "Exception in thread Thread-10:\n",
        "Traceback (most recent call last):\n",
        "  File \"/lsst/home/mjuric/anaconda/lib/python2.7/threading.py\", line 810, in __bootstrap_inner\n",
        "    self.run()\n",
        "  File \"/lsst/home/mjuric/anaconda/lib/python2.7/site-packages/zmq/utils/garbage.py\", line 34, in run\n",
        "    s.bind(self.gc.url)\n",
        "  File \"socket.pyx\", line 444, in zmq.backend.cython.socket.Socket.bind (zmq/backend/cython/socket.c:4076)\n",
        "  File \"checkrc.pxd\", line 21, in zmq.backend.cython.checkrc._check_rc (zmq/backend/cython/socket.c:6032)\n",
        "ZMQError: Address already in use\n",
        "\n",
        "Exception in thread Thread-10:\n",
        "Traceback (most recent call last):\n",
        "  File \"/lsst/home/mjuric/anaconda/lib/python2.7/threading.py\", line 810, in __bootstrap_inner\n",
        "    self.run()\n",
        "  File \"/lsst/home/mjuric/anaconda/lib/python2.7/site-packages/zmq/utils/garbage.py\", line 34, in run\n",
        "    s.bind(self.gc.url)\n",
        "  File \"socket.pyx\", line 444, in zmq.backend.cython.socket.Socket.bind (zmq/backend/cython/socket.c:4076)\n",
        "  File \"checkrc.pxd\", line 21, in zmq.backend.cython.checkrc._check_rc (zmq/backend/cython/socket.c:6032)\n",
        "ZMQError: Address already in use\n",
        "\n",
        "Exception in thread Thread-10:\n",
        "Traceback (most recent call last):\n",
        "  File \"/lsst/home/mjuric/anaconda/lib/python2.7/threading.py\", line 810, in __bootstrap_inner\n",
        "    self.run()\n",
        "  File \"/lsst/home/mjuric/anaconda/lib/python2.7/site-packages/zmq/utils/garbage.py\", line 34, in run\n",
        "    s.bind(self.gc.url)\n",
        "  File \"socket.pyx\", line 444, in zmq.backend.cython.socket.Socket.bind (zmq/backend/cython/socket.c:4076)\n",
        "  File \"checkrc.pxd\", line 21, in zmq.backend.cython.checkrc._check_rc (zmq/backend/cython/socket.c:6032)\n",
        "ZMQError: Address already in use\n",
        "\n",
        "Exception in thread Thread-10:\n",
        "Traceback (most recent call last):\n",
        "  File \"/lsst/home/mjuric/anaconda/lib/python2.7/threading.py\", line 810, in __bootstrap_inner\n",
        "    self.run()\n",
        "  File \"/lsst/home/mjuric/anaconda/lib/python2.7/site-packages/zmq/utils/garbage.py\", line 34, in run\n",
        "    s.bind(self.gc.url)\n",
        "  File \"socket.pyx\", line 444, in zmq.backend.cython.socket.Socket.bind (zmq/backend/cython/socket.c:4076)\n",
        "  File \"checkrc.pxd\", line 21, in zmq.backend.cython.checkrc._check_rc (zmq/backend/cython/socket.c:6032)\n",
        "ZMQError: Address already in use\n",
        "\n",
        "Exception in thread Thread-10:\n",
        "Traceback (most recent call last):\n",
        "  File \"/lsst/home/mjuric/anaconda/lib/python2.7/threading.py\", line 810, in __bootstrap_inner\n",
        "    self.run()\n",
        "  File \"/lsst/home/mjuric/anaconda/lib/python2.7/site-packages/zmq/utils/garbage.py\", line 34, in run\n",
        "    s.bind(self.gc.url)\n",
        "  File \"socket.pyx\", line 444, in zmq.backend.cython.socket.Socket.bind (zmq/backend/cython/socket.c:4076)\n",
        "  File \"checkrc.pxd\", line 21, in zmq.backend.cython.checkrc._check_rc (zmq/backend/cython/socket.c:6032)\n",
        "ZMQError: Address already in use\n",
        "\n",
        "Exception in thread Thread-10:\n",
        "Traceback (most recent call last):\n",
        "  File \"/lsst/home/mjuric/anaconda/lib/python2.7/threading.py\", line 810, in __bootstrap_inner\n",
        "    self.run()\n",
        "  File \"/lsst/home/mjuric/anaconda/lib/python2.7/site-packages/zmq/utils/garbage.py\", line 34, in run\n",
        "    s.bind(self.gc.url)\n",
        "  File \"socket.pyx\", line 444, in zmq.backend.cython.socket.Socket.bind (zmq/backend/cython/socket.c:4076)\n",
        "  File \"checkrc.pxd\", line 21, in zmq.backend.cython.checkrc._check_rc (zmq/backend/cython/socket.c:6032)\n",
        "ZMQError: Address already in use\n",
        "\n",
        "Exception in thread Thread-10:\n",
        "Traceback (most recent call last):\n",
        "  File \"/lsst/home/mjuric/anaconda/lib/python2.7/threading.py\", line 810, in __bootstrap_inner\n",
        "    self.run()\n",
        "  File \"/lsst/home/mjuric/anaconda/lib/python2.7/site-packages/zmq/utils/garbage.py\", line 34, in run\n",
        "    s.bind(self.gc.url)\n",
        "  File \"socket.pyx\", line 444, in zmq.backend.cython.socket.Socket.bind (zmq/backend/cython/socket.c:4076)\n",
        "  File \"checkrc.pxd\", line 21, in zmq.backend.cython.checkrc._check_rc (zmq/backend/cython/socket.c:6032)\n",
        "ZMQError: Address already in use\n",
        "\n",
        "Exception in thread Thread-10:\n",
        "Traceback (most recent call last):\n",
        "  File \"/lsst/home/mjuric/anaconda/lib/python2.7/threading.py\", line 810, in __bootstrap_inner\n",
        "    self.run()\n",
        "  File \"/lsst/home/mjuric/anaconda/lib/python2.7/site-packages/zmq/utils/garbage.py\", line 34, in run\n",
        "    s.bind(self.gc.url)\n",
        "  File \"socket.pyx\", line 444, in zmq.backend.cython.socket.Socket.bind (zmq/backend/cython/socket.c:4076)\n",
        "  File \"checkrc.pxd\", line 21, in zmq.backend.cython.checkrc._check_rc (zmq/backend/cython/socket.c:6032)\n",
        "ZMQError: Address already in use\n",
        "\n"
       ]
      },
      {
       "output_type": "stream",
       "stream": "stderr",
       "text": [
        "::"
       ]
      },
      {
       "output_type": "stream",
       "stream": "stderr",
       "text": [
        "::"
       ]
      },
      {
       "output_type": "stream",
       "stream": "stderr",
       "text": [
        "::"
       ]
      },
      {
       "output_type": "stream",
       "stream": "stderr",
       "text": [
        "::"
       ]
      },
      {
       "output_type": "stream",
       "stream": "stderr",
       "text": [
        "::"
       ]
      },
      {
       "output_type": "stream",
       "stream": "stderr",
       "text": [
        "::"
       ]
      },
      {
       "output_type": "stream",
       "stream": "stderr",
       "text": [
        "::"
       ]
      },
      {
       "output_type": "stream",
       "stream": "stderr",
       "text": [
        "::"
       ]
      },
      {
       "output_type": "stream",
       "stream": "stderr",
       "text": [
        "::"
       ]
      },
      {
       "output_type": "stream",
       "stream": "stderr",
       "text": [
        "::"
       ]
      },
      {
       "output_type": "stream",
       "stream": "stdout",
       "text": [
        "575157\n"
       ]
      },
      {
       "output_type": "stream",
       "stream": "stderr",
       "text": [
        ">  22.49 sec\n",
        "Exception in thread Thread-11:\n",
        "Traceback (most recent call last):\n",
        "  File \"/lsst/home/mjuric/anaconda/lib/python2.7/threading.py\", line 810, in __bootstrap_inner\n",
        "    self.run()\n",
        "  File \"/lsst/home/mjuric/anaconda/lib/python2.7/site-packages/zmq/utils/garbage.py\", line 34, in run\n",
        "    s.bind(self.gc.url)\n",
        "  File \"socket.pyx\", line 444, in zmq.backend.cython.socket.Socket.bind (zmq/backend/cython/socket.c:4076)\n",
        "  File \"checkrc.pxd\", line 21, in zmq.backend.cython.checkrc._check_rc (zmq/backend/cython/socket.c:6032)\n",
        "ZMQError: Address already in use\n",
        "\n",
        "Exception in thread Thread-11:\n",
        "Traceback (most recent call last):\n",
        "  File \"/lsst/home/mjuric/anaconda/lib/python2.7/threading.py\", line 810, in __bootstrap_inner\n",
        "    self.run()\n",
        "  File \"/lsst/home/mjuric/anaconda/lib/python2.7/site-packages/zmq/utils/garbage.py\", line 34, in run\n",
        "    s.bind(self.gc.url)\n",
        "  File \"socket.pyx\", line 444, in zmq.backend.cython.socket.Socket.bind (zmq/backend/cython/socket.c:4076)\n",
        "  File \"checkrc.pxd\", line 21, in zmq.backend.cython.checkrc._check_rc (zmq/backend/cython/socket.c:6032)\n",
        "ZMQError: Address already in use\n",
        "\n",
        "Exception in thread Thread-11:\n",
        "Traceback (most recent call last):\n",
        "  File \"/lsst/home/mjuric/anaconda/lib/python2.7/threading.py\", line 810, in __bootstrap_inner\n",
        "    self.run()\n",
        "  File \"/lsst/home/mjuric/anaconda/lib/python2.7/site-packages/zmq/utils/garbage.py\", line 34, in run\n",
        "    s.bind(self.gc.url)\n",
        "  File \"socket.pyx\", line 444, in zmq.backend.cython.socket.Socket.bind (zmq/backend/cython/socket.c:4076)\n",
        "  File \"checkrc.pxd\", line 21, in zmq.backend.cython.checkrc._check_rc (zmq/backend/cython/socket.c:6032)\n",
        "ZMQError: Address already in use\n",
        "\n",
        "Exception in thread Thread-11:\n",
        "Traceback (most recent call last):\n",
        "  File \"/lsst/home/mjuric/anaconda/lib/python2.7/threading.py\", line 810, in __bootstrap_inner\n",
        "    self.run()\n",
        "  File \"/lsst/home/mjuric/anaconda/lib/python2.7/site-packages/zmq/utils/garbage.py\", line 34, in run\n",
        "    s.bind(self.gc.url)\n",
        "  File \"socket.pyx\", line 444, in zmq.backend.cython.socket.Socket.bind (zmq/backend/cython/socket.c:4076)\n",
        "  File \"checkrc.pxd\", line 21, in zmq.backend.cython.checkrc._check_rc (zmq/backend/cython/socket.c:6032)\n",
        "ZMQError: Address already in use\n",
        "\n",
        "Exception in thread Thread-11:\n",
        "Traceback (most recent call last):\n",
        "  File \"/lsst/home/mjuric/anaconda/lib/python2.7/threading.py\", line 810, in __bootstrap_inner\n",
        "    self.run()\n",
        "  File \"/lsst/home/mjuric/anaconda/lib/python2.7/site-packages/zmq/utils/garbage.py\", line 34, in run\n",
        "    s.bind(self.gc.url)\n",
        "  File \"socket.pyx\", line 444, in zmq.backend.cython.socket.Socket.bind (zmq/backend/cython/socket.c:4076)\n",
        "  File \"checkrc.pxd\", line 21, in zmq.backend.cython.checkrc._check_rc (zmq/backend/cython/socket.c:6032)\n",
        "ZMQError: Address already in use\n",
        "\n",
        "Exception in thread Thread-11:\n",
        "Traceback (most recent call last):\n",
        "  File \"/lsst/home/mjuric/anaconda/lib/python2.7/threading.py\", line 810, in __bootstrap_inner\n",
        "    self.run()\n",
        "  File \"/lsst/home/mjuric/anaconda/lib/python2.7/site-packages/zmq/utils/garbage.py\", line 34, in run\n",
        "    s.bind(self.gc.url)\n",
        "  File \"socket.pyx\", line 444, in zmq.backend.cython.socket.Socket.bind (zmq/backend/cython/socket.c:4076)\n",
        "  File \"checkrc.pxd\", line 21, in zmq.backend.cython.checkrc._check_rc (zmq/backend/cython/socket.c:6032)\n",
        "ZMQError: Address already in use\n",
        "\n",
        "Exception in thread Thread-11:\n",
        "Traceback (most recent call last):\n",
        "  File \"/lsst/home/mjuric/anaconda/lib/python2.7/threading.py\", line 810, in __bootstrap_inner\n",
        "    self.run()\n",
        "  File \"/lsst/home/mjuric/anaconda/lib/python2.7/site-packages/zmq/utils/garbage.py\", line 34, in run\n",
        "    s.bind(self.gc.url)\n",
        "  File \"socket.pyx\", line 444, in zmq.backend.cython.socket.Socket.bind (zmq/backend/cython/socket.c:4076)\n",
        "  File \"checkrc.pxd\", line 21, in zmq.backend.cython.checkrc._check_rc (zmq/backend/cython/socket.c:6032)\n",
        "ZMQError: Address already in use\n",
        "\n",
        "Exception in thread Thread-11:\n",
        "Traceback (most recent call last):\n",
        "  File \"/lsst/home/mjuric/anaconda/lib/python2.7/threading.py\", line 810, in __bootstrap_inner\n",
        "    self.run()\n",
        "  File \"/lsst/home/mjuric/anaconda/lib/python2.7/site-packages/zmq/utils/garbage.py\", line 34, in run\n",
        "    s.bind(self.gc.url)\n",
        "  File \"socket.pyx\", line 444, in zmq.backend.cython.socket.Socket.bind (zmq/backend/cython/socket.c:4076)\n",
        "  File \"checkrc.pxd\", line 21, in zmq.backend.cython.checkrc._check_rc (zmq/backend/cython/socket.c:6032)\n",
        "ZMQError: Address already in use\n",
        "\n",
        "Exception in thread Thread-11:\n",
        "Traceback (most recent call last):\n",
        "  File \"/lsst/home/mjuric/anaconda/lib/python2.7/threading.py\", line 810, in __bootstrap_inner\n",
        "    self.run()\n",
        "  File \"/lsst/home/mjuric/anaconda/lib/python2.7/site-packages/zmq/utils/garbage.py\", line 34, in run\n",
        "    s.bind(self.gc.url)\n",
        "  File \"socket.pyx\", line 444, in zmq.backend.cython.socket.Socket.bind (zmq/backend/cython/socket.c:4076)\n",
        "  File \"checkrc.pxd\", line 21, in zmq.backend.cython.checkrc._check_rc (zmq/backend/cython/socket.c:6032)\n",
        "ZMQError: Address already in use\n",
        "\n",
        "Exception in thread Thread-11:\n",
        "Traceback (most recent call last):\n",
        "  File \"/lsst/home/mjuric/anaconda/lib/python2.7/threading.py\", line 810, in __bootstrap_inner\n",
        "    self.run()\n",
        "  File \"/lsst/home/mjuric/anaconda/lib/python2.7/site-packages/zmq/utils/garbage.py\", line 34, in run\n",
        "    s.bind(self.gc.url)\n",
        "  File \"socket.pyx\", line 444, in zmq.backend.cython.socket.Socket.bind (zmq/backend/cython/socket.c:4076)\n",
        "  File \"checkrc.pxd\", line 21, in zmq.backend.cython.checkrc._check_rc (zmq/backend/cython/socket.c:6032)\n",
        "ZMQError: Address already in use\n",
        "\n",
        "Exception in thread Thread-11:\n",
        "Traceback (most recent call last):\n",
        "  File \"/lsst/home/mjuric/anaconda/lib/python2.7/threading.py\", line 810, in __bootstrap_inner\n",
        "    self.run()\n",
        "  File \"/lsst/home/mjuric/anaconda/lib/python2.7/site-packages/zmq/utils/garbage.py\", line 34, in run\n",
        "    s.bind(self.gc.url)\n",
        "  File \"socket.pyx\", line 444, in zmq.backend.cython.socket.Socket.bind (zmq/backend/cython/socket.c:4076)\n",
        "  File \"checkrc.pxd\", line 21, in zmq.backend.cython.checkrc._check_rc (zmq/backend/cython/socket.c:6032)\n",
        "ZMQError: Address already in use\n",
        "\n",
        "Exception in thread Thread-11:\n",
        "Traceback (most recent call last):\n",
        "  File \"/lsst/home/mjuric/anaconda/lib/python2.7/threading.py\", line 810, in __bootstrap_inner\n",
        "    self.run()\n",
        "  File \"/lsst/home/mjuric/anaconda/lib/python2.7/site-packages/zmq/utils/garbage.py\", line 34, in run\n",
        "    s.bind(self.gc.url)\n",
        "  File \"socket.pyx\", line 444, in zmq.backend.cython.socket.Socket.bind (zmq/backend/cython/socket.c:4076)\n",
        "  File \"checkrc.pxd\", line 21, in zmq.backend.cython.checkrc._check_rc (zmq/backend/cython/socket.c:6032)\n",
        "ZMQError: Address already in use\n",
        "\n",
        "Exception in thread Thread-11:\n",
        "Traceback (most recent call last):\n",
        "  File \"/lsst/home/mjuric/anaconda/lib/python2.7/threading.py\", line 810, in __bootstrap_inner\n",
        "    self.run()\n",
        "  File \"/lsst/home/mjuric/anaconda/lib/python2.7/site-packages/zmq/utils/garbage.py\", line 34, in run\n",
        "    s.bind(self.gc.url)\n",
        "  File \"socket.pyx\", line 444, in zmq.backend.cython.socket.Socket.bind (zmq/backend/cython/socket.c:4076)\n",
        "  File \"checkrc.pxd\", line 21, in zmq.backend.cython.checkrc._check_rc (zmq/backend/cython/socket.c:6032)\n",
        "ZMQError: Address already in use\n",
        "\n",
        "Exception in thread Thread-11:\n",
        "Traceback (most recent call last):\n",
        "  File \"/lsst/home/mjuric/anaconda/lib/python2.7/threading.py\", line 810, in __bootstrap_inner\n",
        "    self.run()\n",
        "  File \"/lsst/home/mjuric/anaconda/lib/python2.7/site-packages/zmq/utils/garbage.py\", line 34, in run\n",
        "    s.bind(self.gc.url)\n",
        "  File \"socket.pyx\", line 444, in zmq.backend.cython.socket.Socket.bind (zmq/backend/cython/socket.c:4076)\n",
        "  File \"checkrc.pxd\", line 21, in zmq.backend.cython.checkrc._check_rc (zmq/backend/cython/socket.c:6032)\n",
        "ZMQError: Address already in use\n",
        "\n",
        "Exception in thread Thread-11:\n",
        "Traceback (most recent call last):\n",
        "  File \"/lsst/home/mjuric/anaconda/lib/python2.7/threading.py\", line 810, in __bootstrap_inner\n",
        "    self.run()\n",
        "  File \"/lsst/home/mjuric/anaconda/lib/python2.7/site-packages/zmq/utils/garbage.py\", line 34, in run\n",
        "    s.bind(self.gc.url)\n",
        "  File \"socket.pyx\", line 444, in zmq.backend.cython.socket.Socket.bind (zmq/backend/cython/socket.c:4076)\n",
        "  File \"checkrc.pxd\", line 21, in zmq.backend.cython.checkrc._check_rc (zmq/backend/cython/socket.c:6032)\n",
        "ZMQError: Address already in use\n",
        "\n",
        "Exception in thread Thread-11:\n",
        "Traceback (most recent call last):\n",
        "  File \"/lsst/home/mjuric/anaconda/lib/python2.7/threading.py\", line 810, in __bootstrap_inner\n",
        "    self.run()\n",
        "  File \"/lsst/home/mjuric/anaconda/lib/python2.7/site-packages/zmq/utils/garbage.py\", line 34, in run\n",
        "    s.bind(self.gc.url)\n",
        "  File \"socket.pyx\", line 444, in zmq.backend.cython.socket.Socket.bind (zmq/backend/cython/socket.c:4076)\n",
        "  File \"checkrc.pxd\", line 21, in zmq.backend.cython.checkrc._check_rc (zmq/backend/cython/socket.c:6032)\n",
        "ZMQError: Address already in use\n",
        "\n"
       ]
      }
     ],
     "prompt_number": 10
    },
    {
     "cell_type": "markdown",
     "metadata": {},
     "source": [
      "(note: there's a problem running this code from an IPython notebook -- it gives the correct result but shows a lot of errors as you'll see above; see https://github.com/ipython/ipython/issues/6109 for the description of the issue).\n",
      "\n",
      "This idiom returns subsets of the query (blocks of rows) as they become available (for contrast, `fetch()` accumulates all those subblocks and returns the complete result). This lets you process each block as it becomes available, and discard it immediately afterwords.\n",
      "\n",
      "In case you're curious, without `return_blocks=True`, the loop would be iterating over *individual rows* (i.e., it becomes similar in behavior to a database cursor in Python's database API). From a performance standpoint, however, that is *terribly* inefficient (it's equivalent to looping over individual elements in a `numpy` array). Don't ever do that if you can avoid it.\n",
      "\n",
      "Finally, here's a more compact way to write the loop above:"
     ]
    },
    {
     "cell_type": "code",
     "collapsed": false,
     "input": [
      "query = 'ra, dec, g, r, g-r as gr FROM sdss WHERE (r < 22.5) & (0.3 < gr) & (gr < 0.31)'\n",
      "data_len = sum( len(row_block) for row_block in db.query(qstr).iterate(return_blocks=True) )\n",
      "print data_len"
     ],
     "language": "python",
     "metadata": {},
     "outputs": [
      {
       "output_type": "stream",
       "stream": "stderr",
       "text": [
        " [1606 el.]Exception in thread Thread-16:\n",
        "Traceback (most recent call last):\n",
        "  File \"/lsst/home/mjuric/anaconda/lib/python2.7/threading.py\", line 810, in __bootstrap_inner\n",
        "    self.run()\n",
        "  File \"/lsst/home/mjuric/anaconda/lib/python2.7/site-packages/zmq/utils/garbage.py\", line 34, in run\n",
        "    s.bind(self.gc.url)\n",
        "  File \"socket.pyx\", line 444, in zmq.backend.cython.socket.Socket.bind (zmq/backend/cython/socket.c:4076)\n",
        "  File \"checkrc.pxd\", line 21, in zmq.backend.cython.checkrc._check_rc (zmq/backend/cython/socket.c:6032)\n",
        "ZMQError: Address already in use\n",
        "\n",
        "Exception in thread Thread-16:\n",
        "Traceback (most recent call last):\n",
        "  File \"/lsst/home/mjuric/anaconda/lib/python2.7/threading.py\", line 810, in __bootstrap_inner\n",
        "    self.run()\n",
        "  File \"/lsst/home/mjuric/anaconda/lib/python2.7/site-packages/zmq/utils/garbage.py\", line 34, in run\n",
        "    s.bind(self.gc.url)\n",
        "  File \"socket.pyx\", line 444, in zmq.backend.cython.socket.Socket.bind (zmq/backend/cython/socket.c:4076)\n",
        "  File \"checkrc.pxd\", line 21, in zmq.backend.cython.checkrc._check_rc (zmq/backend/cython/socket.c:6032)\n",
        "ZMQError: Address already in use\n",
        "\n",
        "Exception in thread Thread-16:\n",
        "Traceback (most recent call last):\n",
        "  File \"/lsst/home/mjuric/anaconda/lib/python2.7/threading.py\", line 810, in __bootstrap_inner\n",
        "    self.run()\n",
        "  File \"/lsst/home/mjuric/anaconda/lib/python2.7/site-packages/zmq/utils/garbage.py\", line 34, in run\n",
        "    s.bind(self.gc.url)\n",
        "  File \"socket.pyx\", line 444, in zmq.backend.cython.socket.Socket.bind (zmq/backend/cython/socket.c:4076)\n",
        "  File \"checkrc.pxd\", line 21, in zmq.backend.cython.checkrc._check_rc (zmq/backend/cython/socket.c:6032)\n",
        "ZMQError: Address already in use\n",
        "\n",
        "Exception in thread Thread-16:\n",
        "Traceback (most recent call last):\n",
        "  File \"/lsst/home/mjuric/anaconda/lib/python2.7/threading.py\", line 810, in __bootstrap_inner\n",
        "    self.run()\n",
        "  File \"/lsst/home/mjuric/anaconda/lib/python2.7/site-packages/zmq/utils/garbage.py\", line 34, in run\n",
        "    s.bind(self.gc.url)\n",
        "  File \"socket.pyx\", line 444, in zmq.backend.cython.socket.Socket.bind (zmq/backend/cython/socket.c:4076)\n",
        "  File \"checkrc.pxd\", line 21, in zmq.backend.cython.checkrc._check_rc (zmq/backend/cython/socket.c:6032)\n",
        "ZMQError: Address already in use\n",
        "\n",
        "Exception in thread Thread-16:\n",
        "Traceback (most recent call last):\n",
        "  File \"/lsst/home/mjuric/anaconda/lib/python2.7/threading.py\", line 810, in __bootstrap_inner\n",
        "    self.run()\n",
        "  File \"/lsst/home/mjuric/anaconda/lib/python2.7/site-packages/zmq/utils/garbage.py\", line 34, in run\n",
        "    s.bind(self.gc.url)\n",
        "  File \"socket.pyx\", line 444, in zmq.backend.cython.socket.Socket.bind (zmq/backend/cython/socket.c:4076)\n",
        "  File \"checkrc.pxd\", line 21, in zmq.backend.cython.checkrc._check_rc (zmq/backend/cython/socket.c:6032)\n",
        "ZMQError: Address already in use\n",
        "\n",
        "Exception in thread Thread-16:\n",
        "Traceback (most recent call last):\n",
        "  File \"/lsst/home/mjuric/anaconda/lib/python2.7/threading.py\", line 810, in __bootstrap_inner\n",
        "    self.run()\n",
        "  File \"/lsst/home/mjuric/anaconda/lib/python2.7/site-packages/zmq/utils/garbage.py\", line 34, in run\n",
        "    s.bind(self.gc.url)\n",
        "  File \"socket.pyx\", line 444, in zmq.backend.cython.socket.Socket.bind (zmq/backend/cython/socket.c:4076)\n",
        "  File \"checkrc.pxd\", line 21, in zmq.backend.cython.checkrc._check_rc (zmq/backend/cython/socket.c:6032)\n",
        "ZMQError: Address already in use\n",
        "\n",
        "Exception in thread Thread-16:\n",
        "Traceback (most recent call last):\n",
        "  File \"/lsst/home/mjuric/anaconda/lib/python2.7/threading.py\", line 810, in __bootstrap_inner\n",
        "    self.run()\n",
        "  File \"/lsst/home/mjuric/anaconda/lib/python2.7/site-packages/zmq/utils/garbage.py\", line 34, in run\n",
        "    s.bind(self.gc.url)\n",
        "  File \"socket.pyx\", line 444, in zmq.backend.cython.socket.Socket.bind (zmq/backend/cython/socket.c:4076)\n",
        "  File \"checkrc.pxd\", line 21, in zmq.backend.cython.checkrc._check_rc (zmq/backend/cython/socket.c:6032)\n",
        "ZMQError: Address already in use\n",
        "\n",
        "Exception in thread Thread-16:\n",
        "Traceback (most recent call last):\n",
        "  File \"/lsst/home/mjuric/anaconda/lib/python2.7/threading.py\", line 810, in __bootstrap_inner\n",
        "    self.run()\n",
        "  File \"/lsst/home/mjuric/anaconda/lib/python2.7/site-packages/zmq/utils/garbage.py\", line 34, in run\n",
        "    s.bind(self.gc.url)\n",
        "  File \"socket.pyx\", line 444, in zmq.backend.cython.socket.Socket.bind (zmq/backend/cython/socket.c:4076)\n",
        "  File \"checkrc.pxd\", line 21, in zmq.backend.cython.checkrc._check_rc (zmq/backend/cython/socket.c:6032)\n",
        "ZMQError: Address already in use\n",
        "\n",
        "Exception in thread Thread-16:\n",
        "Traceback (most recent call last):\n",
        "  File \"/lsst/home/mjuric/anaconda/lib/python2.7/threading.py\", line 810, in __bootstrap_inner\n",
        "    self.run()\n",
        "  File \"/lsst/home/mjuric/anaconda/lib/python2.7/site-packages/zmq/utils/garbage.py\", line 34, in run\n",
        "    s.bind(self.gc.url)\n",
        "  File \"socket.pyx\", line 444, in zmq.backend.cython.socket.Socket.bind (zmq/backend/cython/socket.c:4076)\n",
        "  File \"checkrc.pxd\", line 21, in zmq.backend.cython.checkrc._check_rc (zmq/backend/cython/socket.c:6032)\n",
        "ZMQError: Address already in use\n",
        "\n",
        "Exception in thread Thread-16:\n",
        "Traceback (most recent call last):\n",
        "  File \"/lsst/home/mjuric/anaconda/lib/python2.7/threading.py\", line 810, in __bootstrap_inner\n",
        "    self.run()\n",
        "  File \"/lsst/home/mjuric/anaconda/lib/python2.7/site-packages/zmq/utils/garbage.py\", line 34, in run\n",
        "    s.bind(self.gc.url)\n",
        "  File \"socket.pyx\", line 444, in zmq.backend.cython.socket.Socket.bind (zmq/backend/cython/socket.c:4076)\n",
        "  File \"checkrc.pxd\", line 21, in zmq.backend.cython.checkrc._check_rc (zmq/backend/cython/socket.c:6032)\n",
        "ZMQError: Address already in use\n",
        "\n",
        "Exception in thread Thread-16:\n",
        "Traceback (most recent call last):\n",
        "  File \"/lsst/home/mjuric/anaconda/lib/python2.7/threading.py\", line 810, in __bootstrap_inner\n",
        "    self.run()\n",
        "  File \"/lsst/home/mjuric/anaconda/lib/python2.7/site-packages/zmq/utils/garbage.py\", line 34, in run\n",
        "    s.bind(self.gc.url)\n",
        "  File \"socket.pyx\", line 444, in zmq.backend.cython.socket.Socket.bind (zmq/backend/cython/socket.c:4076)\n",
        "  File \"checkrc.pxd\", line 21, in zmq.backend.cython.checkrc._check_rc (zmq/backend/cython/socket.c:6032)\n",
        "ZMQError: Address already in use\n",
        "\n",
        "Exception in thread Thread-16:\n",
        "Traceback (most recent call last):\n",
        "  File \"/lsst/home/mjuric/anaconda/lib/python2.7/threading.py\", line 810, in __bootstrap_inner\n",
        "    self.run()\n",
        "  File \"/lsst/home/mjuric/anaconda/lib/python2.7/site-packages/zmq/utils/garbage.py\", line 34, in run\n",
        "    s.bind(self.gc.url)\n",
        "  File \"socket.pyx\", line 444, in zmq.backend.cython.socket.Socket.bind (zmq/backend/cython/socket.c:4076)\n",
        "  File \"checkrc.pxd\", line 21, in zmq.backend.cython.checkrc._check_rc (zmq/backend/cython/socket.c:6032)\n",
        "ZMQError: Address already in use\n",
        "\n",
        "Exception in thread Thread-16:\n",
        "Traceback (most recent call last):\n",
        "  File \"/lsst/home/mjuric/anaconda/lib/python2.7/threading.py\", line 810, in __bootstrap_inner\n",
        "    self.run()\n",
        "  File \"/lsst/home/mjuric/anaconda/lib/python2.7/site-packages/zmq/utils/garbage.py\", line 34, in run\n",
        "    s.bind(self.gc.url)\n",
        "  File \"socket.pyx\", line 444, in zmq.backend.cython.socket.Socket.bind (zmq/backend/cython/socket.c:4076)\n",
        "  File \"checkrc.pxd\", line 21, in zmq.backend.cython.checkrc._check_rc (zmq/backend/cython/socket.c:6032)\n",
        "ZMQError: Address already in use\n",
        "\n",
        "Exception in thread Thread-16:\n",
        "Traceback (most recent call last):\n",
        "  File \"/lsst/home/mjuric/anaconda/lib/python2.7/threading.py\", line 810, in __bootstrap_inner\n",
        "    self.run()\n",
        "  File \"/lsst/home/mjuric/anaconda/lib/python2.7/site-packages/zmq/utils/garbage.py\", line 34, in run\n",
        "    s.bind(self.gc.url)\n",
        "  File \"socket.pyx\", line 444, in zmq.backend.cython.socket.Socket.bind (zmq/backend/cython/socket.c:4076)\n",
        "  File \"checkrc.pxd\", line 21, in zmq.backend.cython.checkrc._check_rc (zmq/backend/cython/socket.c:6032)\n",
        "ZMQError: Address already in use\n",
        "\n",
        "Exception in thread Thread-16:\n",
        "Traceback (most recent call last):\n",
        "  File \"/lsst/home/mjuric/anaconda/lib/python2.7/threading.py\", line 810, in __bootstrap_inner\n",
        "    self.run()\n",
        "  File \"/lsst/home/mjuric/anaconda/lib/python2.7/site-packages/zmq/utils/garbage.py\", line 34, in run\n",
        "    s.bind(self.gc.url)\n",
        "  File \"socket.pyx\", line 444, in zmq.backend.cython.socket.Socket.bind (zmq/backend/cython/socket.c:4076)\n",
        "  File \"checkrc.pxd\", line 21, in zmq.backend.cython.checkrc._check_rc (zmq/backend/cython/socket.c:6032)\n",
        "ZMQError: Address already in use\n",
        "\n",
        "Exception in thread Thread-16:\n",
        "Traceback (most recent call last):\n",
        "  File \"/lsst/home/mjuric/anaconda/lib/python2.7/threading.py\", line 810, in __bootstrap_inner\n",
        "    self.run()\n",
        "  File \"/lsst/home/mjuric/anaconda/lib/python2.7/site-packages/zmq/utils/garbage.py\", line 34, in run\n",
        "    s.bind(self.gc.url)\n",
        "  File \"socket.pyx\", line 444, in zmq.backend.cython.socket.Socket.bind (zmq/backend/cython/socket.c:4076)\n",
        "  File \"checkrc.pxd\", line 21, in zmq.backend.cython.checkrc._check_rc (zmq/backend/cython/socket.c:6032)\n",
        "ZMQError: Address already in use\n",
        "\n"
       ]
      },
      {
       "output_type": "stream",
       "stream": "stderr",
       "text": [
        "::"
       ]
      },
      {
       "output_type": "stream",
       "stream": "stderr",
       "text": [
        "::"
       ]
      },
      {
       "output_type": "stream",
       "stream": "stderr",
       "text": [
        "::"
       ]
      },
      {
       "output_type": "stream",
       "stream": "stderr",
       "text": [
        "::"
       ]
      },
      {
       "output_type": "stream",
       "stream": "stderr",
       "text": [
        "::"
       ]
      },
      {
       "output_type": "stream",
       "stream": "stderr",
       "text": [
        "::"
       ]
      },
      {
       "output_type": "stream",
       "stream": "stderr",
       "text": [
        "::"
       ]
      },
      {
       "output_type": "stream",
       "stream": "stderr",
       "text": [
        "::"
       ]
      },
      {
       "output_type": "stream",
       "stream": "stderr",
       "text": [
        "::"
       ]
      },
      {
       "output_type": "stream",
       "stream": "stderr",
       "text": [
        "::"
       ]
      },
      {
       "output_type": "stream",
       "stream": "stdout",
       "text": [
        "575157\n"
       ]
      },
      {
       "output_type": "stream",
       "stream": "stderr",
       "text": [
        ">  23.23 sec\n",
        "Exception in thread Thread-17:\n",
        "Traceback (most recent call last):\n",
        "  File \"/lsst/home/mjuric/anaconda/lib/python2.7/threading.py\", line 810, in __bootstrap_inner\n",
        "    self.run()\n",
        "  File \"/lsst/home/mjuric/anaconda/lib/python2.7/site-packages/zmq/utils/garbage.py\", line 34, in run\n",
        "    s.bind(self.gc.url)\n",
        "  File \"socket.pyx\", line 444, in zmq.backend.cython.socket.Socket.bind (zmq/backend/cython/socket.c:4076)\n",
        "  File \"checkrc.pxd\", line 21, in zmq.backend.cython.checkrc._check_rc (zmq/backend/cython/socket.c:6032)\n",
        "ZMQError: Address already in use\n",
        "\n",
        "Exception in thread Thread-17:\n",
        "Traceback (most recent call last):\n",
        "  File \"/lsst/home/mjuric/anaconda/lib/python2.7/threading.py\", line 810, in __bootstrap_inner\n",
        "    self.run()\n",
        "  File \"/lsst/home/mjuric/anaconda/lib/python2.7/site-packages/zmq/utils/garbage.py\", line 34, in run\n",
        "    s.bind(self.gc.url)\n",
        "  File \"socket.pyx\", line 444, in zmq.backend.cython.socket.Socket.bind (zmq/backend/cython/socket.c:4076)\n",
        "  File \"checkrc.pxd\", line 21, in zmq.backend.cython.checkrc._check_rc (zmq/backend/cython/socket.c:6032)\n",
        "ZMQError: Address already in use\n",
        "\n",
        "Exception in thread Thread-17:\n",
        "Traceback (most recent call last):\n",
        "  File \"/lsst/home/mjuric/anaconda/lib/python2.7/threading.py\", line 810, in __bootstrap_inner\n",
        "    self.run()\n",
        "  File \"/lsst/home/mjuric/anaconda/lib/python2.7/site-packages/zmq/utils/garbage.py\", line 34, in run\n",
        "    s.bind(self.gc.url)\n",
        "  File \"socket.pyx\", line 444, in zmq.backend.cython.socket.Socket.bind (zmq/backend/cython/socket.c:4076)\n",
        "  File \"checkrc.pxd\", line 21, in zmq.backend.cython.checkrc._check_rc (zmq/backend/cython/socket.c:6032)\n",
        "ZMQError: Address already in use\n",
        "\n",
        "Exception in thread Thread-17:\n",
        "Traceback (most recent call last):\n",
        "  File \"/lsst/home/mjuric/anaconda/lib/python2.7/threading.py\", line 810, in __bootstrap_inner\n",
        "    self.run()\n",
        "  File \"/lsst/home/mjuric/anaconda/lib/python2.7/site-packages/zmq/utils/garbage.py\", line 34, in run\n",
        "    s.bind(self.gc.url)\n",
        "  File \"socket.pyx\", line 444, in zmq.backend.cython.socket.Socket.bind (zmq/backend/cython/socket.c:4076)\n",
        "  File \"checkrc.pxd\", line 21, in zmq.backend.cython.checkrc._check_rc (zmq/backend/cython/socket.c:6032)\n",
        "ZMQError: Address already in use\n",
        "\n",
        "Exception in thread Thread-17:\n",
        "Traceback (most recent call last):\n",
        "  File \"/lsst/home/mjuric/anaconda/lib/python2.7/threading.py\", line 810, in __bootstrap_inner\n",
        "    self.run()\n",
        "  File \"/lsst/home/mjuric/anaconda/lib/python2.7/site-packages/zmq/utils/garbage.py\", line 34, in run\n",
        "    s.bind(self.gc.url)\n",
        "  File \"socket.pyx\", line 444, in zmq.backend.cython.socket.Socket.bind (zmq/backend/cython/socket.c:4076)\n",
        "  File \"checkrc.pxd\", line 21, in zmq.backend.cython.checkrc._check_rc (zmq/backend/cython/socket.c:6032)\n",
        "ZMQError: Address already in use\n",
        "\n",
        "Exception in thread Thread-17:\n",
        "Traceback (most recent call last):\n",
        "  File \"/lsst/home/mjuric/anaconda/lib/python2.7/threading.py\", line 810, in __bootstrap_inner\n",
        "    self.run()\n",
        "  File \"/lsst/home/mjuric/anaconda/lib/python2.7/site-packages/zmq/utils/garbage.py\", line 34, in run\n",
        "    s.bind(self.gc.url)\n",
        "  File \"socket.pyx\", line 444, in zmq.backend.cython.socket.Socket.bind (zmq/backend/cython/socket.c:4076)\n",
        "  File \"checkrc.pxd\", line 21, in zmq.backend.cython.checkrc._check_rc (zmq/backend/cython/socket.c:6032)\n",
        "ZMQError: Address already in use\n",
        "\n",
        "Exception in thread Thread-17:\n",
        "Traceback (most recent call last):\n",
        "  File \"/lsst/home/mjuric/anaconda/lib/python2.7/threading.py\", line 810, in __bootstrap_inner\n",
        "    self.run()\n",
        "  File \"/lsst/home/mjuric/anaconda/lib/python2.7/site-packages/zmq/utils/garbage.py\", line 34, in run\n",
        "    s.bind(self.gc.url)\n",
        "  File \"socket.pyx\", line 444, in zmq.backend.cython.socket.Socket.bind (zmq/backend/cython/socket.c:4076)\n",
        "  File \"checkrc.pxd\", line 21, in zmq.backend.cython.checkrc._check_rc (zmq/backend/cython/socket.c:6032)\n",
        "ZMQError: Address already in use\n",
        "\n",
        "Exception in thread Thread-17:\n",
        "Traceback (most recent call last):\n",
        "  File \"/lsst/home/mjuric/anaconda/lib/python2.7/threading.py\", line 810, in __bootstrap_inner\n",
        "    self.run()\n",
        "  File \"/lsst/home/mjuric/anaconda/lib/python2.7/site-packages/zmq/utils/garbage.py\", line 34, in run\n",
        "    s.bind(self.gc.url)\n",
        "  File \"socket.pyx\", line 444, in zmq.backend.cython.socket.Socket.bind (zmq/backend/cython/socket.c:4076)\n",
        "  File \"checkrc.pxd\", line 21, in zmq.backend.cython.checkrc._check_rc (zmq/backend/cython/socket.c:6032)\n",
        "ZMQError: Address already in use\n",
        "\n",
        "Exception in thread Thread-17:\n",
        "Traceback (most recent call last):\n",
        "  File \"/lsst/home/mjuric/anaconda/lib/python2.7/threading.py\", line 810, in __bootstrap_inner\n",
        "    self.run()\n",
        "  File \"/lsst/home/mjuric/anaconda/lib/python2.7/site-packages/zmq/utils/garbage.py\", line 34, in run\n",
        "    s.bind(self.gc.url)\n",
        "  File \"socket.pyx\", line 444, in zmq.backend.cython.socket.Socket.bind (zmq/backend/cython/socket.c:4076)\n",
        "  File \"checkrc.pxd\", line 21, in zmq.backend.cython.checkrc._check_rc (zmq/backend/cython/socket.c:6032)\n",
        "ZMQError: Address already in use\n",
        "\n",
        "Exception in thread Thread-17:\n",
        "Traceback (most recent call last):\n",
        "  File \"/lsst/home/mjuric/anaconda/lib/python2.7/threading.py\", line 810, in __bootstrap_inner\n",
        "    self.run()\n",
        "  File \"/lsst/home/mjuric/anaconda/lib/python2.7/site-packages/zmq/utils/garbage.py\", line 34, in run\n",
        "    s.bind(self.gc.url)\n",
        "  File \"socket.pyx\", line 444, in zmq.backend.cython.socket.Socket.bind (zmq/backend/cython/socket.c:4076)\n",
        "  File \"checkrc.pxd\", line 21, in zmq.backend.cython.checkrc._check_rc (zmq/backend/cython/socket.c:6032)\n",
        "ZMQError: Address already in use\n",
        "\n",
        "Exception in thread Thread-17:\n",
        "Traceback (most recent call last):\n",
        "  File \"/lsst/home/mjuric/anaconda/lib/python2.7/threading.py\", line 810, in __bootstrap_inner\n",
        "    self.run()\n",
        "  File \"/lsst/home/mjuric/anaconda/lib/python2.7/site-packages/zmq/utils/garbage.py\", line 34, in run\n",
        "    s.bind(self.gc.url)\n",
        "  File \"socket.pyx\", line 444, in zmq.backend.cython.socket.Socket.bind (zmq/backend/cython/socket.c:4076)\n",
        "  File \"checkrc.pxd\", line 21, in zmq.backend.cython.checkrc._check_rc (zmq/backend/cython/socket.c:6032)\n",
        "ZMQError: Address already in use\n",
        "\n",
        "Exception in thread Thread-17:\n",
        "Traceback (most recent call last):\n",
        "  File \"/lsst/home/mjuric/anaconda/lib/python2.7/threading.py\", line 810, in __bootstrap_inner\n",
        "    self.run()\n",
        "  File \"/lsst/home/mjuric/anaconda/lib/python2.7/site-packages/zmq/utils/garbage.py\", line 34, in run\n",
        "    s.bind(self.gc.url)\n",
        "  File \"socket.pyx\", line 444, in zmq.backend.cython.socket.Socket.bind (zmq/backend/cython/socket.c:4076)\n",
        "  File \"checkrc.pxd\", line 21, in zmq.backend.cython.checkrc._check_rc (zmq/backend/cython/socket.c:6032)\n",
        "ZMQError: Address already in use\n",
        "\n",
        "Exception in thread Thread-17:\n",
        "Traceback (most recent call last):\n",
        "  File \"/lsst/home/mjuric/anaconda/lib/python2.7/threading.py\", line 810, in __bootstrap_inner\n",
        "    self.run()\n",
        "  File \"/lsst/home/mjuric/anaconda/lib/python2.7/site-packages/zmq/utils/garbage.py\", line 34, in run\n",
        "    s.bind(self.gc.url)\n",
        "  File \"socket.pyx\", line 444, in zmq.backend.cython.socket.Socket.bind (zmq/backend/cython/socket.c:4076)\n",
        "  File \"checkrc.pxd\", line 21, in zmq.backend.cython.checkrc._check_rc (zmq/backend/cython/socket.c:6032)\n",
        "ZMQError: Address already in use\n",
        "\n",
        "Exception in thread Thread-17:\n",
        "Traceback (most recent call last):\n",
        "  File \"/lsst/home/mjuric/anaconda/lib/python2.7/threading.py\", line 810, in __bootstrap_inner\n",
        "    self.run()\n",
        "  File \"/lsst/home/mjuric/anaconda/lib/python2.7/site-packages/zmq/utils/garbage.py\", line 34, in run\n",
        "    s.bind(self.gc.url)\n",
        "  File \"socket.pyx\", line 444, in zmq.backend.cython.socket.Socket.bind (zmq/backend/cython/socket.c:4076)\n",
        "  File \"checkrc.pxd\", line 21, in zmq.backend.cython.checkrc._check_rc (zmq/backend/cython/socket.c:6032)\n",
        "ZMQError: Address already in use\n",
        "\n",
        "Exception in thread Thread-17:\n",
        "Traceback (most recent call last):\n",
        "  File \"/lsst/home/mjuric/anaconda/lib/python2.7/threading.py\", line 810, in __bootstrap_inner\n",
        "    self.run()\n",
        "  File \"/lsst/home/mjuric/anaconda/lib/python2.7/site-packages/zmq/utils/garbage.py\", line 34, in run\n",
        "    s.bind(self.gc.url)\n",
        "  File \"socket.pyx\", line 444, in zmq.backend.cython.socket.Socket.bind (zmq/backend/cython/socket.c:4076)\n",
        "  File \"checkrc.pxd\", line 21, in zmq.backend.cython.checkrc._check_rc (zmq/backend/cython/socket.c:6032)\n",
        "ZMQError: Address already in use\n",
        "\n",
        "Exception in thread Thread-17:\n",
        "Traceback (most recent call last):\n",
        "  File \"/lsst/home/mjuric/anaconda/lib/python2.7/threading.py\", line 810, in __bootstrap_inner\n",
        "    self.run()\n",
        "  File \"/lsst/home/mjuric/anaconda/lib/python2.7/site-packages/zmq/utils/garbage.py\", line 34, in run\n",
        "    s.bind(self.gc.url)\n",
        "  File \"socket.pyx\", line 444, in zmq.backend.cython.socket.Socket.bind (zmq/backend/cython/socket.c:4076)\n",
        "  File \"checkrc.pxd\", line 21, in zmq.backend.cython.checkrc._check_rc (zmq/backend/cython/socket.c:6032)\n",
        "ZMQError: Address already in use\n",
        "\n"
       ]
      }
     ],
     "prompt_number": 11
    },
    {
     "cell_type": "markdown",
     "metadata": {},
     "source": [
      "### Specifying boundaries"
     ]
    },
    {
     "cell_type": "code",
     "collapsed": false,
     "input": [
      "import lsd.bounds as b\n",
      "\n",
      "qstr = 'ra, dec, g, r, g-r as gr FROM sdss WHERE (r < 22.5) & (0.3 < gr) & (gr < 0.31)'\n",
      "\n",
      "bounds_xy = b.rectangle(180, 10, 181, 11)                 # (ra,dec)_bottomleft, (ra,dec)_topright\n",
      "# bounds_t  = b.intervalset((53342, 53345), (53346, 53348)) # A set of time intervals (MJD)...\n",
      "bounds_t  = None                                            # ... or None, if there's no temporal information\n",
      "\n",
      "rows = db.query(qstr).fetch(bounds=[(bounds_xy, bounds_t)])\n",
      "len(rows)"
     ],
     "language": "python",
     "metadata": {},
     "outputs": [
      {
       "output_type": "stream",
       "stream": "stderr",
       "text": [
        "WARNING:lsd.pool2:Error contacting lsd-manager. Cannot coordinate resource usage with others, using 16 cores.\n"
       ]
      },
      {
       "output_type": "stream",
       "stream": "stderr",
       "text": [
        " [2 el.]:Exception in thread Thread-22:\n",
        "Traceback (most recent call last):\n",
        "  File \"/lsst/home/mjuric/anaconda/lib/python2.7/threading.py\", line 810, in __bootstrap_inner\n",
        "    self.run()\n",
        "  File \"/lsst/home/mjuric/anaconda/lib/python2.7/site-packages/zmq/utils/garbage.py\", line 34, in run\n",
        "    s.bind(self.gc.url)\n",
        "  File \"socket.pyx\", line 444, in zmq.backend.cython.socket.Socket.bind (zmq/backend/cython/socket.c:4076)\n",
        "  File \"checkrc.pxd\", line 21, in zmq.backend.cython.checkrc._check_rc (zmq/backend/cython/socket.c:6032)\n",
        "ZMQError: Address already in use\n",
        "\n",
        "Exception in thread Thread-22:\n",
        "Traceback (most recent call last):\n",
        "  File \"/lsst/home/mjuric/anaconda/lib/python2.7/threading.py\", line 810, in __bootstrap_inner\n",
        "    self.run()\n",
        "  File \"/lsst/home/mjuric/anaconda/lib/python2.7/site-packages/zmq/utils/garbage.py\", line 34, in run\n",
        "    s.bind(self.gc.url)\n",
        "  File \"socket.pyx\", line 444, in zmq.backend.cython.socket.Socket.bind (zmq/backend/cython/socket.c:4076)\n",
        "  File \"checkrc.pxd\", line 21, in zmq.backend.cython.checkrc._check_rc (zmq/backend/cython/socket.c:6032)\n",
        "ZMQError: Address already in use\n",
        "\n",
        "Exception in thread Thread-22:\n",
        "Traceback (most recent call last):\n",
        "  File \"/lsst/home/mjuric/anaconda/lib/python2.7/threading.py\", line 810, in __bootstrap_inner\n",
        "    self.run()\n",
        "  File \"/lsst/home/mjuric/anaconda/lib/python2.7/site-packages/zmq/utils/garbage.py\", line 34, in run\n",
        "    s.bind(self.gc.url)\n",
        "  File \"socket.pyx\", line 444, in zmq.backend.cython.socket.Socket.bind (zmq/backend/cython/socket.c:4076)\n",
        "  File \"checkrc.pxd\", line 21, in zmq.backend.cython.checkrc._check_rc (zmq/backend/cython/socket.c:6032)\n",
        "ZMQError: Address already in use\n",
        "\n",
        "Exception in thread Thread-22:\n",
        "Traceback (most recent call last):\n",
        "  File \"/lsst/home/mjuric/anaconda/lib/python2.7/threading.py\", line 810, in __bootstrap_inner\n",
        "    self.run()\n",
        "  File \"/lsst/home/mjuric/anaconda/lib/python2.7/site-packages/zmq/utils/garbage.py\", line 34, in run\n",
        "    s.bind(self.gc.url)\n",
        "  File \"socket.pyx\", line 444, in zmq.backend.cython.socket.Socket.bind (zmq/backend/cython/socket.c:4076)\n",
        "  File \"checkrc.pxd\", line 21, in zmq.backend.cython.checkrc._check_rc (zmq/backend/cython/socket.c:6032)\n",
        "ZMQError: Address already in use\n",
        "\n",
        "Exception in thread Thread-22:\n",
        "Traceback (most recent call last):\n",
        "  File \"/lsst/home/mjuric/anaconda/lib/python2.7/threading.py\", line 810, in __bootstrap_inner\n",
        "    self.run()\n",
        "  File \"/lsst/home/mjuric/anaconda/lib/python2.7/site-packages/zmq/utils/garbage.py\", line 34, in run\n",
        "    s.bind(self.gc.url)\n",
        "  File \"socket.pyx\", line 444, in zmq.backend.cython.socket.Socket.bind (zmq/backend/cython/socket.c:4076)\n",
        "  File \"checkrc.pxd\", line 21, in zmq.backend.cython.checkrc._check_rc (zmq/backend/cython/socket.c:6032)\n",
        "ZMQError: Address already in use\n",
        "\n",
        "Exception in thread Thread-22:\n",
        "Traceback (most recent call last):\n",
        "  File \"/lsst/home/mjuric/anaconda/lib/python2.7/threading.py\", line 810, in __bootstrap_inner\n",
        "    self.run()\n",
        "  File \"/lsst/home/mjuric/anaconda/lib/python2.7/site-packages/zmq/utils/garbage.py\", line 34, in run\n",
        "    s.bind(self.gc.url)\n",
        "  File \"socket.pyx\", line 444, in zmq.backend.cython.socket.Socket.bind (zmq/backend/cython/socket.c:4076)\n",
        "  File \"checkrc.pxd\", line 21, in zmq.backend.cython.checkrc._check_rc (zmq/backend/cython/socket.c:6032)\n",
        "ZMQError: Address already in use\n",
        "\n",
        "Exception in thread Thread-22:\n",
        "Traceback (most recent call last):\n",
        "  File \"/lsst/home/mjuric/anaconda/lib/python2.7/threading.py\", line 810, in __bootstrap_inner\n",
        "    self.run()\n",
        "  File \"/lsst/home/mjuric/anaconda/lib/python2.7/site-packages/zmq/utils/garbage.py\", line 34, in run\n",
        "    s.bind(self.gc.url)\n",
        "  File \"socket.pyx\", line 444, in zmq.backend.cython.socket.Socket.bind (zmq/backend/cython/socket.c:4076)\n",
        "  File \"checkrc.pxd\", line 21, in zmq.backend.cython.checkrc._check_rc (zmq/backend/cython/socket.c:6032)\n",
        "ZMQError: Address already in use\n",
        "\n",
        "Exception in thread Thread-22:\n",
        "Traceback (most recent call last):\n",
        "  File \"/lsst/home/mjuric/anaconda/lib/python2.7/threading.py\", line 810, in __bootstrap_inner\n",
        "    self.run()\n",
        "  File \"/lsst/home/mjuric/anaconda/lib/python2.7/site-packages/zmq/utils/garbage.py\", line 34, in run\n",
        "    s.bind(self.gc.url)\n",
        "  File \"socket.pyx\", line 444, in zmq.backend.cython.socket.Socket.bind (zmq/backend/cython/socket.c:4076)\n",
        "  File \"checkrc.pxd\", line 21, in zmq.backend.cython.checkrc._check_rc (zmq/backend/cython/socket.c:6032)\n",
        "ZMQError: Address already in use\n",
        "\n",
        "Exception in thread Thread-22:\n",
        "Traceback (most recent call last):\n",
        "  File \"/lsst/home/mjuric/anaconda/lib/python2.7/threading.py\", line 810, in __bootstrap_inner\n",
        "    self.run()\n",
        "  File \"/lsst/home/mjuric/anaconda/lib/python2.7/site-packages/zmq/utils/garbage.py\", line 34, in run\n",
        "    s.bind(self.gc.url)\n",
        "  File \"socket.pyx\", line 444, in zmq.backend.cython.socket.Socket.bind (zmq/backend/cython/socket.c:4076)\n",
        "  File \"checkrc.pxd\", line 21, in zmq.backend.cython.checkrc._check_rc (zmq/backend/cython/socket.c:6032)\n",
        "ZMQError: Address already in use\n",
        "\n",
        "Exception in thread Thread-22:\n",
        "Traceback (most recent call last):\n",
        "  File \"/lsst/home/mjuric/anaconda/lib/python2.7/threading.py\", line 810, in __bootstrap_inner\n",
        "    self.run()\n",
        "  File \"/lsst/home/mjuric/anaconda/lib/python2.7/site-packages/zmq/utils/garbage.py\", line 34, in run\n",
        "    s.bind(self.gc.url)\n",
        "  File \"socket.pyx\", line 444, in zmq.backend.cython.socket.Socket.bind (zmq/backend/cython/socket.c:4076)\n",
        "  File \"checkrc.pxd\", line 21, in zmq.backend.cython.checkrc._check_rc (zmq/backend/cython/socket.c:6032)\n",
        "ZMQError: Address already in use\n",
        "\n",
        "Exception in thread Thread-22:\n",
        "Traceback (most recent call last):\n",
        "  File \"/lsst/home/mjuric/anaconda/lib/python2.7/threading.py\", line 810, in __bootstrap_inner\n",
        "    self.run()\n",
        "  File \"/lsst/home/mjuric/anaconda/lib/python2.7/site-packages/zmq/utils/garbage.py\", line 34, in run\n",
        "    s.bind(self.gc.url)\n",
        "  File \"socket.pyx\", line 444, in zmq.backend.cython.socket.Socket.bind (zmq/backend/cython/socket.c:4076)\n",
        "  File \"checkrc.pxd\", line 21, in zmq.backend.cython.checkrc._check_rc (zmq/backend/cython/socket.c:6032)\n",
        "ZMQError: Address already in use\n",
        "\n",
        "Exception in thread Thread-22:\n",
        "Traceback (most recent call last):\n",
        "  File \"/lsst/home/mjuric/anaconda/lib/python2.7/threading.py\", line 810, in __bootstrap_inner\n",
        "    self.run()\n",
        "  File \"/lsst/home/mjuric/anaconda/lib/python2.7/site-packages/zmq/utils/garbage.py\", line 34, in run\n",
        "    s.bind(self.gc.url)\n",
        "  File \"socket.pyx\", line 444, in zmq.backend.cython.socket.Socket.bind (zmq/backend/cython/socket.c:4076)\n",
        "  File \"checkrc.pxd\", line 21, in zmq.backend.cython.checkrc._check_rc (zmq/backend/cython/socket.c:6032)\n",
        "ZMQError: Address already in use\n",
        "\n",
        "Exception in thread Thread-22:\n",
        "Traceback (most recent call last):\n",
        "  File \"/lsst/home/mjuric/anaconda/lib/python2.7/threading.py\", line 810, in __bootstrap_inner\n",
        "    self.run()\n",
        "  File \"/lsst/home/mjuric/anaconda/lib/python2.7/site-packages/zmq/utils/garbage.py\", line 34, in run\n",
        "    s.bind(self.gc.url)\n",
        "  File \"socket.pyx\", line 444, in zmq.backend.cython.socket.Socket.bind (zmq/backend/cython/socket.c:4076)\n",
        "  File \"checkrc.pxd\", line 21, in zmq.backend.cython.checkrc._check_rc (zmq/backend/cython/socket.c:6032)\n",
        "ZMQError: Address already in use\n",
        "\n",
        "Exception in thread Thread-22:\n",
        "Traceback (most recent call last):\n",
        "  File \"/lsst/home/mjuric/anaconda/lib/python2.7/threading.py\", line 810, in __bootstrap_inner\n",
        "    self.run()\n",
        "  File \"/lsst/home/mjuric/anaconda/lib/python2.7/site-packages/zmq/utils/garbage.py\", line 34, in run\n",
        "    s.bind(self.gc.url)\n",
        "  File \"socket.pyx\", line 444, in zmq.backend.cython.socket.Socket.bind (zmq/backend/cython/socket.c:4076)\n",
        "  File \"checkrc.pxd\", line 21, in zmq.backend.cython.checkrc._check_rc (zmq/backend/cython/socket.c:6032)\n",
        "ZMQError: Address already in use\n",
        "\n",
        "Exception in thread Thread-22:\n",
        "Traceback (most recent call last):\n",
        "  File \"/lsst/home/mjuric/anaconda/lib/python2.7/threading.py\", line 810, in __bootstrap_inner\n",
        "    self.run()\n",
        "  File \"/lsst/home/mjuric/anaconda/lib/python2.7/site-packages/zmq/utils/garbage.py\", line 34, in run\n",
        "    s.bind(self.gc.url)\n",
        "  File \"socket.pyx\", line 444, in zmq.backend.cython.socket.Socket.bind (zmq/backend/cython/socket.c:4076)\n",
        "  File \"checkrc.pxd\", line 21, in zmq.backend.cython.checkrc._check_rc (zmq/backend/cython/socket.c:6032)\n",
        "ZMQError: Address already in use\n",
        "\n",
        "Exception in thread Thread-22:\n",
        "Traceback (most recent call last):\n",
        "  File \"/lsst/home/mjuric/anaconda/lib/python2.7/threading.py\", line 810, in __bootstrap_inner\n",
        "    self.run()\n",
        "  File \"/lsst/home/mjuric/anaconda/lib/python2.7/site-packages/zmq/utils/garbage.py\", line 34, in run\n",
        "    s.bind(self.gc.url)\n",
        "  File \"socket.pyx\", line 444, in zmq.backend.cython.socket.Socket.bind (zmq/backend/cython/socket.c:4076)\n",
        "  File \"checkrc.pxd\", line 21, in zmq.backend.cython.checkrc._check_rc (zmq/backend/cython/socket.c:6032)\n",
        "ZMQError: Address already in use\n",
        "\n"
       ]
      },
      {
       "output_type": "stream",
       "stream": "stderr",
       "text": [
        "::::::::::"
       ]
      },
      {
       "output_type": "stream",
       "stream": "stderr",
       "text": [
        ":::::::::>  0.57 sec\n"
       ]
      },
      {
       "metadata": {},
       "output_type": "pyout",
       "prompt_number": 12,
       "text": [
        "66"
       ]
      }
     ],
     "prompt_number": 12
    },
    {
     "cell_type": "markdown",
     "metadata": {},
     "source": [
      "## Advanced Examples: MapReduce and writing MapReduce kernels"
     ]
    },
    {
     "cell_type": "markdown",
     "metadata": {},
     "source": [
      "Finally, for more advanced examples, designed to scale to terabytes of data, look at the MapReduce API examples on http://lsddb.org"
     ]
    }
   ],
   "metadata": {}
  }
 ]
}