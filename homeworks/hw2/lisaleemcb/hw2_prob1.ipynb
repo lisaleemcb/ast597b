{
 "metadata": {
  "name": "",
  "signature": "sha256:2f9b480aaa8541f37cb7d74836dfda51a3ea5e0b94ecdc03eda770c154c1d38a"
 },
 "nbformat": 3,
 "nbformat_minor": 0,
 "worksheets": [
  {
   "cells": [
    {
     "cell_type": "markdown",
     "metadata": {},
     "source": [
      "THE GOAL: \"Figure 1 shows the density of stars satisfying the color cut\n",
      "g-r < 0.4 in SDSS DR5. As we show below, these are upper\n",
      "main sequence and turnoff stars belonging to the Sgr stream.\n",
      "This is an RGB composite image assembled from three grayscale\n",
      "images colored red, green, and blue corresponding to\n",
      "the density of the selected stars in three magnitude bins: red\n",
      "is , green is , and blue is 21.33 < r \u2264 22.0 20.66 < r \u2264 21.33\n",
      "20.0 < r \u2264 20.66.\""
     ]
    },
    {
     "cell_type": "code",
     "collapsed": false,
     "input": [
      "%matplotlib inline\n",
      "\n",
      "#the usual suspects\n",
      "import numpy as np\n",
      "import matplotlib.pyplot as plt\n",
      "import pandas as pd\n",
      "import sqlite3\n",
      "\n",
      "#library to handle FITS file format\n",
      "from astropy.io import fits\n",
      "\n",
      "pd.set_option('display.mpl_style', 'default')\n",
      "plt.rcParams['figure.figsize'] = (15, 5)"
     ],
     "language": "python",
     "metadata": {},
     "outputs": []
    },
    {
     "cell_type": "code",
     "collapsed": false,
     "input": [
      "hdulist = fits.open('result.fits')\n",
      "header = hdulist[1].header\n",
      "data = hdulist[1].data\n",
      "cols = hdulist[1].columns"
     ],
     "language": "python",
     "metadata": {},
     "outputs": []
    },
    {
     "cell_type": "code",
     "collapsed": false,
     "input": [
      "con = sqlite3.connect(\"data.db\")"
     ],
     "language": "python",
     "metadata": {},
     "outputs": []
    },
    {
     "cell_type": "code",
     "collapsed": false,
     "input": [
      "df = pd.DataFrame(data, columns=cols.names)\n",
      "df.to_sql('data', con, flavor='sqlite',if_exists='fail')"
     ],
     "language": "python",
     "metadata": {},
     "outputs": []
    },
    {
     "cell_type": "code",
     "collapsed": false,
     "input": [
      "template = pd.read_sql(\"\"\"SELECT * FROM data\"\"\",con)"
     ],
     "language": "python",
     "metadata": {},
     "outputs": []
    },
    {
     "cell_type": "code",
     "collapsed": false,
     "input": [],
     "language": "python",
     "metadata": {},
     "outputs": []
    }
   ],
   "metadata": {}
  }
 ]
}