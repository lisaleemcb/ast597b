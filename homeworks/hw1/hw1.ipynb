{
 "metadata": {
  "name": "",
  "signature": "sha256:4ceff7cdcaadc9cbea5deff186c3dd5e3214b5221336ecd833f2cd6bcb72040b"
 },
 "nbformat": 3,
 "nbformat_minor": 0,
 "worksheets": [
  {
   "cells": [
    {
     "cell_type": "markdown",
     "metadata": {},
     "source": [
      "Homework #1\n",
      "===========\n",
      "\n",
      "**Due:** Feb 18th 2015\n",
      "\n",
      "**How to submit:** Fork the class git repository and write your homework in an IPython notebook in `homeworks/hw1/$NAME`, replacing `$NAME` with your name w/o any spaces (i.e., `homeworks/hw1/MarioJuric`). To submit, issue a pull request."
     ]
    },
    {
     "cell_type": "markdown",
     "metadata": {},
     "source": [
      "Problem 1: git basics\n",
      "=====================\n",
      "\n",
      "This problem will walk us through a few typical situations and best practices when developing a project managed with git:\n",
      "* Commit as early and often as desired, but reorganize and cleanup commits when the work is done and ready to be merged\n",
      "* Know how to fix *merge conflicts* when they arise\n",
      "* Make sure your commits are logically organized and have readable commit messages\n",
      "* Develop new features on branches, merging them into `master` branch when ready\n",
      "* Tag important moments in the development of your project\n",
      "* Open a pull request back\n",
      "\n",
      "On github, the repository https://github.com/mjuric/calculator.git contains code for a toy calculator written in Python. Fork it to your github account, and clone the fork to your desktop or laptop. Inspect the structure of the repository -- its branches and commits -- using a tool of your choice (e.g., `gitk --all`, which comes included with git).\n",
      "\n",
      "Tasks\n",
      "-----\n",
      "\n",
      "1. You'll see there's a branch, named `subtraction`, adding the ability to subtract two numbers. Check out that branch using `git checkout subtraction`. There are many small commits on that branch, created along the way as it was developed and with little regard to how changes are organized into commits. Use `git rebase -i master` to clean these up by merging logically related commits into two: one implementing the `subtract()` function, and another adding the ability to call it into the logic in `main()`. Make sure the two commit messages are apropriately formatted and well written. The end result should look similar to commits you'll find on the `addition` branch.\n",
      "\n",
      "2. There's a branch named `division`. The way it has been written, it will result in a *merge conflict* when merged into master. Merge it into `master` using `git merge`, fixing the merge conflict along the way.\n",
      "\n",
      "3. Our calculator lacks the ability to multipy numbers. Implement the multiplication functionality by creating a branch named `multiplication`, implementing the functionality on that branch, and merging it back into `master`. When merging to master, make sure you use `git merge --no-ff`, so there an explicit *merge commit* appears. Make sure to follow best practices for git commit organization and messages.\n",
      "\n",
      "4. Our calculator is now ready for the first release. Tag this point on the `master` branch with an *annotated* tag named `v1.0`, writing an informative tag commit message regarding the functionality of the code being tagged.\n",
      "\n",
      "5. Make sure to push all your changes to github, including the newly created branch (`multiplication`). Then open a pull request from your `master` into the `master` branch of my repository (usually referred to as `upstream` in git terminology).\n",
      "\n",
      "\n",
      "Some links you will find useful:\n",
      "\n",
      "* https://help.github.com/articles/about-git-rebase/\n",
      "* https://help.github.com/articles/resolving-a-merge-conflict-from-the-command-line/\n",
      "* https://wiki.openstack.org/wiki/GitCommitMessages\n",
      "* https://confluence.lsstcorp.org/display/LDMDG/Git+Commit+Best+Practices"
     ]
    },
    {
     "cell_type": "markdown",
     "metadata": {},
     "source": [
      "Problem 2: Querying and data analysis with SDSS\n",
      "===============================================\n",
      "\n",
      "Open an account on the SDSS Catalog Access Service (CAS) website, http://skyserver.sdss.org/CasJobs/. The documentation for CAS is at http://skyserver.sdss.org/casjobs/Guide.aspx, and the documentation showing the contents of various *tables* and *views* -- also known as the *schema browser* -- is at http://skyserver.sdss.org/dr12/en/help/browser/browser.aspx. While we haven't explicitly discussed views, you may think of them as tables.\n",
      "\n",
      "Tasks\n",
      "-----\n",
      "\n",
      "1. Use the schema browser to familiarize yourself with the contents of a view named `Star`. Then:\n",
      "   * Write (and execute) an SQL query to count how many stars have been observed with SDSS (in the current Data Release 12).\n",
      "   * Write (and execute) an SQL query to count how many observations there are in `u`, `g`, `r`, `i` and `z` bands, and the average observed magnitude in each band. How does the SDSS database record missing (magnitude) data?\n",
      "2. Write an SQL query to select the positions ($\\alpha$, also known as `ra`, and $\\delta$, also know as `dec`) and the extinction-corrected (a.k.a. *dereddened*) `g` and `r`-band magnitudes of all stars bounded by $225 < \\alpha < 235$ and $-2.5 < \\delta < 4$. Your query should store the outputs into a temporary table in MyDB. Download it as a FITS file. Use the `astropy.io.fits` module to load the table data into Python, then store it into a local sqlite database (using `Pandas` to_sql() functions).\n",
      "3. In an IPython notebook, make an $ra$ vs $dec$ scatter plot of the data. Note that the right ascension by convention increases from right to left; make sure your plot reflects that. What do you see near $\\alpha \\sim 229$ and $\\delta \\sim 0$? Do know what is this object?\n",
      "4. Select a subset of the data in a region (a rectangle is fine!) tightly bounding the observed object. Select data in another, equally sized region, nearby but *away* from the object. Do the selection in two ways: with an SQL query of your local sqlite database, and using the indexing operators in Python (the square brackets '[]'). Show that the two give identical results.\n",
      "5. Make two side-by-side scatter plots of the (dereddened) $g-r$ color vs $g$-band magnitude. Note that the magnitude axis, by convention, always increases from top to bottom; make sure your plot reflects that. Compare the two and describe what you see.\n",
      "6. Identify a region in $g-r$ vs $g$ plot where the difference between the two plots appears greatest. From your original sample, select stars only present in that *color-magnitude* box, and plot them in $ra$ vs $dec$ scatter plot. Do you notice anything interesting?\n",
      "7. Extra credit: how would you make the determination of the $g-r$ vs $g$ selection box more quantitative?\n",
      "\n",
      "Useful links:\n",
      "* http://www.sdss.org/dr12/\n",
      "* http://skyserver.sdss.org/CasJobs/\n",
      "* http://www.w3schools.com/sql/sql_func_count.asp\n",
      "* http://en.wikipedia.org/wiki/Palomar_5"
     ]
    },
    {
     "cell_type": "markdown",
     "metadata": {},
     "source": [
      "Problem 3: Importing data into the Large Survey Database\n",
      "========================================================\n",
      "\n",
      "Most users access SDSS data through the CAS database server. However, one can still download the entire catalog in bulk as a collection of FITS files from the Science Archive Server (http://dr12.sdss3.org/).\n",
      "\n",
      "The most commonly used columns of the `PhotoObj` table in SDSS database (the photometric catalog from which views such as `Star` are derived) are stored in the so-called [*sweep files*](http://dr12.sdss3.org/datamodel/files/PHOTO_SWEEP/RERUN/calibObj.html) on the Science Archive Server. The files themselves are located in http://data.sdss3.org/sas/dr12/boss/sweeps/dr9/301/ and organized by SDSS run, camera column, and the type of objects the files contain (`sky`, `star`, `gal`).\n",
      "\n",
      "We will use these files to practice writing YAML schema files and import data into LSD.\n",
      "\n",
      "Tasks\n",
      "-----\n",
      "* Install the Large Survey Database (see Lecture #3 for instructions)\n",
      "* Read about the [data contained in sweep files](http://dr12.sdss3.org/datamodel/files/PHOTO_SWEEP/RERUN/calibObj.html) for stars. Write a corresponding YAML LSD schema file. Make sure it consists of (at least) four tablets: basic quantities, photometry, image, resolve and calibration quantities, and the 2MASS match information. Create an LSD table with that schema.\n",
      "* Download all files belonging to run 94, from http://data.sdss3.org/sas/dr12/boss/sweeps/dr9/301/. Use `lsd-import` to import these files.\n",
      "* Use `lsd-footprint` to compute the footprint of the run, and plot the result.\n",
      "\n",
      "Useful links:\n",
      "* http://dr12.sdss3.org/datamodel/\n",
      "* http://dr12.sdss3.org/datamodel/files/PHOTO_SWEEP/RERUN/calibObj.html\n",
      "* http://lsddb.org\n"
     ]
    }
   ],
   "metadata": {}
  }
 ]
}