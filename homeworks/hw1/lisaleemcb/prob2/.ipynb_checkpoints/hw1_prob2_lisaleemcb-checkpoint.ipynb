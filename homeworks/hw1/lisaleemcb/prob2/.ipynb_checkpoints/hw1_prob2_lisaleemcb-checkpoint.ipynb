{
 "metadata": {
  "name": "",
  "signature": "sha256:c49603eacdebc4c925218250f64f2e3ae27358b62404f8657a9e00715b248810"
 },
 "nbformat": 3,
 "nbformat_minor": 0,
 "worksheets": [
  {
   "cells": [
    {
     "cell_type": "heading",
     "level": 1,
     "metadata": {},
     "source": [
      "Problem 2"
     ]
    },
    {
     "cell_type": "heading",
     "level": 2,
     "metadata": {},
     "source": [
      "GETTING DATA FROM SDSS INTO ANALYSIS PIPELINE"
     ]
    },
    {
     "cell_type": "markdown",
     "metadata": {},
     "source": [
      "First, I want to just count how many objects are contained within the view, Star, by using the SQL COUNT function"
     ]
    },
    {
     "cell_type": "code",
     "collapsed": false,
     "input": [
      "--Counts how many rows are contained in the specified database and returns the value\n",
      "\n",
      "SELECT COUNT(*)  \n",
      "FROM Star"
     ],
     "language": "python",
     "metadata": {},
     "outputs": []
    },
    {
     "cell_type": "markdown",
     "metadata": {},
     "source": [
      "This query returns the value 26,052,744."
     ]
    },
    {
     "cell_type": "markdown",
     "metadata": {},
     "source": [
      "Now, I want to \"to count how many observations there are in u, g, r, i and z bands, and the average observed magnitude in each band\"\n",
      "\n",
      "I still want to use the COUNT function, but now I want to specify which column I want to count. Additionally, I know a priori, (thanks to class!) that the SDSS data uses -9999.0 (NOTE: corrected this value, I kept the code the way I ran it though) to represent a NULL variable, so I want to not include these in either my counts or my averages."
     ]
    },
    {
     "cell_type": "code",
     "collapsed": false,
     "input": [
      "--Counts how many rows have a non-NULL value for psfMag_u and returns the average of all those values\n",
      "\n",
      "SELECT COUNT(psfMag_u), AVG(psfMag_u)\n",
      "FROM Star\n",
      "WHERE psfMag_u > -999.0\n"
     ],
     "language": "python",
     "metadata": {},
     "outputs": []
    },
    {
     "cell_type": "markdown",
     "metadata": {},
     "source": [
      "count: 260,561,129 average magnitude in u-band: 23.2143547260258"
     ]
    },
    {
     "cell_type": "code",
     "collapsed": false,
     "input": [
      "--Counts how many rows have a non-NULL value for psfMag_g and returns the average of all those values\n",
      "\n",
      "SELECT COUNT(psfMag_g), AVG(psfMag_g)\n",
      "FROM Star\n",
      "WHERE psfMag_g > -999.0"
     ],
     "language": "python",
     "metadata": {},
     "outputs": []
    },
    {
     "cell_type": "markdown",
     "metadata": {},
     "source": [
      "count: 260,560,437 average magnitude in g-band: 22.2076857856036"
     ]
    },
    {
     "cell_type": "code",
     "collapsed": false,
     "input": [
      "--Counts how many rows have a non-NULL value for psfMag_r and returns the average of all those values\n",
      "\n",
      "SELECT COUNT(psfMag_r), AVG(psfMag_r)\n",
      "FROM Star\n",
      "WHERE psfMag_r > -999.0"
     ],
     "language": "python",
     "metadata": {},
     "outputs": []
    },
    {
     "cell_type": "markdown",
     "metadata": {},
     "source": [
      "count: 260,561,541 average magnitude in r-band: 21.1501031126643"
     ]
    },
    {
     "cell_type": "code",
     "collapsed": false,
     "input": [
      "--Counts how many rows have a non-NULL value for psfMag_i and returns the average of all those values\n",
      "\n",
      "SELECT COUNT(psfMag_i), AVG(psfMag_i)\n",
      "FROM Star\n",
      "WHERE psfMag_i > -999.0"
     ],
     "language": "python",
     "metadata": {},
     "outputs": []
    },
    {
     "cell_type": "markdown",
     "metadata": {},
     "source": [
      "count: 260,560,412 average magnitude in i-band: 20.4192108928849"
     ]
    },
    {
     "cell_type": "code",
     "collapsed": false,
     "input": [
      "--Counts how many rows have a non-NULL value for psfMag_z and returns the average of all those values\n",
      "\n",
      "SELECT COUNT(psfMag_z), AVG(psfMag_z)\n",
      "FROM Star\n",
      "WHERE psfMag_z > -999.0"
     ],
     "language": "python",
     "metadata": {},
     "outputs": []
    },
    {
     "cell_type": "markdown",
     "metadata": {},
     "source": [
      "count: 260,561,330 average magnitude in z-band: 19.8856761626128"
     ]
    },
    {
     "cell_type": "heading",
     "level": 2,
     "metadata": {},
     "source": [
      "DATA ANALYSIS ON A PATCH OF SKY IN DE-REDDENED G AND R BAND"
     ]
    },
    {
     "cell_type": "markdown",
     "metadata": {},
     "source": [
      "To do our analysis in Python, we'll need to import a few libraries first."
     ]
    },
    {
     "cell_type": "code",
     "collapsed": false,
     "input": [
      "%matplotlib inline\n",
      "\n",
      "#the usual suspects\n",
      "import numpy as np\n",
      "import matplotlib.pyplot as plt\n",
      "import pandas as pd\n",
      "import sqlite3\n",
      "\n",
      "#library to handle FITS file format\n",
      "from astropy.io import fits\n",
      "\n",
      "pd.set_option('display.mpl_style', 'default') # Make the graphs a bit prettier\n",
      "plt.rcParams['figure.figsize'] = (15, 5)"
     ],
     "language": "python",
     "metadata": {},
     "outputs": []
    },
    {
     "cell_type": "code",
     "collapsed": false,
     "input": [
      "Now we want to read in the fits file, and break it up into pieces we can manipulate"
     ],
     "language": "python",
     "metadata": {},
     "outputs": []
    },
    {
     "cell_type": "code",
     "collapsed": false,
     "input": [
      "hdulist = fits.open('result.fits')\n",
      "header = hdulist[1].header\n",
      "data = hdulist[1].data\n",
      "cols = hdulist[1].columns"
     ],
     "language": "python",
     "metadata": {},
     "outputs": []
    },
    {
     "cell_type": "code",
     "collapsed": false,
     "input": [
      "df = pd.DataFrame(data, columns=cols.names)"
     ],
     "language": "python",
     "metadata": {},
     "outputs": []
    },
    {
     "cell_type": "code",
     "collapsed": false,
     "input": [
      "print(type(df))"
     ],
     "language": "python",
     "metadata": {},
     "outputs": [
      {
       "output_type": "stream",
       "stream": "stdout",
       "text": [
        "<class 'pandas.core.frame.DataFrame'>\n"
       ]
      }
     ],
     "prompt_number": 31
    },
    {
     "cell_type": "code",
     "collapsed": false,
     "input": [
      "df['dered_g']"
     ],
     "language": "python",
     "metadata": {},
     "outputs": []
    },
    {
     "cell_type": "code",
     "collapsed": false,
     "input": [
      "con = sqlite3.connect(\"data.db\")"
     ],
     "language": "python",
     "metadata": {},
     "outputs": [],
     "prompt_number": 11
    },
    {
     "cell_type": "code",
     "collapsed": false,
     "input": [
      "df.to_sql('data', con, flavor='sqlite',if_exists='fail')"
     ],
     "language": "python",
     "metadata": {},
     "outputs": [],
     "prompt_number": 12
    },
    {
     "cell_type": "code",
     "collapsed": false,
     "input": [
      "test = pd.read_sql(\"\"\"SELECT * FROM data\"\"\",con)"
     ],
     "language": "python",
     "metadata": {},
     "outputs": []
    },
    {
     "cell_type": "code",
     "collapsed": false,
     "input": [
      "result = pd.read_sql(\"\"\"SELECT ra,dec,dered_g,dered_r  FROM data WHERE dered_g > -9999.0 AND dered_r > -9999.0\"\"\",con)"
     ],
     "language": "python",
     "metadata": {},
     "outputs": [
      {
       "output_type": "stream",
       "stream": "stdout",
       "text": [
        "<class 'pandas.core.frame.DataFrame'>\n"
       ]
      }
     ],
     "prompt_number": 27
    },
    {
     "cell_type": "code",
     "collapsed": false,
     "input": [],
     "language": "python",
     "metadata": {},
     "outputs": []
    },
    {
     "cell_type": "code",
     "collapsed": false,
     "input": [
      "data_to_plot = pd.DataFrame(result.as_ndarray())\n",
      "data_to_plot.plot(kind='scatter', x='ra', y='dec',s=.1)\n",
      "plt.gca().invert_xaxis()"
     ],
     "language": "python",
     "metadata": {},
     "outputs": [
      {
       "ename": "AttributeError",
       "evalue": "'DataFrame' object has no attribute 'as_ndarray'",
       "output_type": "pyerr",
       "traceback": [
        "\u001b[0;31m---------------------------------------------------------------------------\u001b[0m\n\u001b[0;31mAttributeError\u001b[0m                            Traceback (most recent call last)",
        "\u001b[0;32m<ipython-input-29-e635080c005c>\u001b[0m in \u001b[0;36m<module>\u001b[0;34m()\u001b[0m\n\u001b[0;32m----> 1\u001b[0;31m \u001b[0mdata_to_plot\u001b[0m \u001b[0;34m=\u001b[0m \u001b[0mpd\u001b[0m\u001b[0;34m.\u001b[0m\u001b[0mDataFrame\u001b[0m\u001b[0;34m(\u001b[0m\u001b[0mresult\u001b[0m\u001b[0;34m.\u001b[0m\u001b[0mas_ndarray\u001b[0m\u001b[0;34m(\u001b[0m\u001b[0;34m)\u001b[0m\u001b[0;34m)\u001b[0m\u001b[0;34m\u001b[0m\u001b[0m\n\u001b[0m\u001b[1;32m      2\u001b[0m \u001b[0mdata_to_plot\u001b[0m\u001b[0;34m.\u001b[0m\u001b[0mplot\u001b[0m\u001b[0;34m(\u001b[0m\u001b[0mkind\u001b[0m\u001b[0;34m=\u001b[0m\u001b[0;34m'scatter'\u001b[0m\u001b[0;34m,\u001b[0m \u001b[0mx\u001b[0m\u001b[0;34m=\u001b[0m\u001b[0;34m'ra'\u001b[0m\u001b[0;34m,\u001b[0m \u001b[0my\u001b[0m\u001b[0;34m=\u001b[0m\u001b[0;34m'dec'\u001b[0m\u001b[0;34m,\u001b[0m\u001b[0ms\u001b[0m\u001b[0;34m=\u001b[0m\u001b[0;36m.1\u001b[0m\u001b[0;34m)\u001b[0m\u001b[0;34m\u001b[0m\u001b[0m\n\u001b[1;32m      3\u001b[0m \u001b[0mplt\u001b[0m\u001b[0;34m.\u001b[0m\u001b[0mgca\u001b[0m\u001b[0;34m(\u001b[0m\u001b[0;34m)\u001b[0m\u001b[0;34m.\u001b[0m\u001b[0minvert_xaxis\u001b[0m\u001b[0;34m(\u001b[0m\u001b[0;34m)\u001b[0m\u001b[0;34m\u001b[0m\u001b[0m\n",
        "\u001b[0;32m//anaconda/lib/python2.7/site-packages/pandas/core/generic.pyc\u001b[0m in \u001b[0;36m__getattr__\u001b[0;34m(self, name)\u001b[0m\n\u001b[1;32m   1841\u001b[0m                 \u001b[0;32mreturn\u001b[0m \u001b[0mself\u001b[0m\u001b[0;34m[\u001b[0m\u001b[0mname\u001b[0m\u001b[0;34m]\u001b[0m\u001b[0;34m\u001b[0m\u001b[0m\n\u001b[1;32m   1842\u001b[0m             raise AttributeError(\"'%s' object has no attribute '%s'\" %\n\u001b[0;32m-> 1843\u001b[0;31m                                  (type(self).__name__, name))\n\u001b[0m\u001b[1;32m   1844\u001b[0m \u001b[0;34m\u001b[0m\u001b[0m\n\u001b[1;32m   1845\u001b[0m     \u001b[0;32mdef\u001b[0m \u001b[0m__setattr__\u001b[0m\u001b[0;34m(\u001b[0m\u001b[0mself\u001b[0m\u001b[0;34m,\u001b[0m \u001b[0mname\u001b[0m\u001b[0;34m,\u001b[0m \u001b[0mvalue\u001b[0m\u001b[0;34m)\u001b[0m\u001b[0;34m:\u001b[0m\u001b[0;34m\u001b[0m\u001b[0m\n",
        "\u001b[0;31mAttributeError\u001b[0m: 'DataFrame' object has no attribute 'as_ndarray'"
       ]
      }
     ],
     "prompt_number": 29
    },
    {
     "cell_type": "code",
     "collapsed": false,
     "input": [
      "plt.scatter(df['ra'],df['dec'],df['dered_g'],df['dered_r'])"
     ],
     "language": "python",
     "metadata": {},
     "outputs": [
      {
       "ename": "SyntaxError",
       "evalue": "non-keyword arg after keyword arg (<ipython-input-17-0c92693eaff8>, line 1)",
       "output_type": "pyerr",
       "traceback": [
        "\u001b[0;36m  File \u001b[0;32m\"<ipython-input-17-0c92693eaff8>\"\u001b[0;36m, line \u001b[0;32m1\u001b[0m\n\u001b[0;31m    plt.scatter(df['ra'],df['dec'],s=10,df['dered_g'],df['dered_r'])\u001b[0m\n\u001b[0;31mSyntaxError\u001b[0m\u001b[0;31m:\u001b[0m non-keyword arg after keyword arg\n"
       ]
      }
     ],
     "prompt_number": 17
    },
    {
     "cell_type": "code",
     "collapsed": false,
     "input": [
      "df['ra']"
     ],
     "language": "python",
     "metadata": {},
     "outputs": []
    },
    {
     "cell_type": "code",
     "collapsed": false,
     "input": [],
     "language": "python",
     "metadata": {},
     "outputs": []
    }
   ],
   "metadata": {}
  }
 ]
}